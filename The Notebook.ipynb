{
 "cells": [
  {
   "cell_type": "markdown",
   "metadata": {},
   "source": [
    "## So this is me redoing a project we had at General Assembly (to predict house prices using the Ames Dataset.)  Before, I had a simple model that predicted with an r-squared of ~0.84 in a train test split, which, hey, that's not bad.  There were all kinds of problems with the project though.  The notebook was a terrible mess / not commented well / a lot more could have been done. I also believe this time we can reach a higher accuracy as well.\n",
    "\n",
    "## The goal of this notebook is to maximize the predictive model's accuracy.  Not necessarily to deeply understand the data.  I'm going to import and clean the data for sure, but beyond that there are libraries these days that are just too good.\n",
    "\n",
    "## edit:  At a point I remembered about TPOT, a library that uses a genetic algo and automates much of the data science workflow as outlined here:\n",
    "\n",
    "### https://github.com/EpistasisLab/tpot/blob/master/images/tpot-ml-pipeline.png\n",
    "\n",
    "## and so I definitely could have jumped ship and let TPOT take over earlier in this process, but the work I did definitely cut the amount of combinations TPOT needed to look at.\n",
    "\n",
    "### edit2: In the end, we train/test split and had a best r-squared of ~0.92."
   ]
  },
  {
   "cell_type": "code",
   "execution_count": 143,
   "metadata": {},
   "outputs": [],
   "source": [
    "import pandas as pd\n",
    "import numpy as np\n",
    "import matplotlib.pyplot as plt\n",
    "%matplotlib inline\n",
    "import seaborn as sns\n",
    "import math"
   ]
  },
  {
   "cell_type": "code",
   "execution_count": 2,
   "metadata": {},
   "outputs": [],
   "source": [
    "#import data\n",
    "df = pd.read_csv(\"housing.csv\")"
   ]
  },
  {
   "cell_type": "code",
   "execution_count": 3,
   "metadata": {},
   "outputs": [
    {
     "data": {
      "text/plain": [
       "8"
      ]
     },
     "execution_count": 3,
     "metadata": {},
     "output_type": "execute_result"
    }
   ],
   "source": [
    "df.MasVnrArea.isnull().sum()"
   ]
  },
  {
   "cell_type": "code",
   "execution_count": 4,
   "metadata": {},
   "outputs": [
    {
     "name": "stdout",
     "output_type": "stream",
     "text": [
      "nan True\n",
      "nan True\n",
      "nan True\n",
      "nan True\n",
      "nan True\n",
      "nan True\n",
      "nan True\n",
      "nan True\n"
     ]
    }
   ],
   "source": [
    "for i in df.MasVnrArea:\n",
    "    if math.isnan(i):\n",
    "        print(i,True)"
   ]
  },
  {
   "cell_type": "code",
   "execution_count": 5,
   "metadata": {},
   "outputs": [
    {
     "name": "stdout",
     "output_type": "stream",
     "text": [
      "<class 'pandas.core.frame.DataFrame'>\n",
      "RangeIndex: 1460 entries, 0 to 1459\n",
      "Data columns (total 81 columns):\n",
      "Id               1460 non-null int64\n",
      "MSSubClass       1460 non-null int64\n",
      "MSZoning         1460 non-null object\n",
      "LotFrontage      1201 non-null float64\n",
      "LotArea          1460 non-null int64\n",
      "Street           1460 non-null object\n",
      "Alley            91 non-null object\n",
      "LotShape         1460 non-null object\n",
      "LandContour      1460 non-null object\n",
      "Utilities        1460 non-null object\n",
      "LotConfig        1460 non-null object\n",
      "LandSlope        1460 non-null object\n",
      "Neighborhood     1460 non-null object\n",
      "Condition1       1460 non-null object\n",
      "Condition2       1460 non-null object\n",
      "BldgType         1460 non-null object\n",
      "HouseStyle       1460 non-null object\n",
      "OverallQual      1460 non-null int64\n",
      "OverallCond      1460 non-null int64\n",
      "YearBuilt        1460 non-null int64\n",
      "YearRemodAdd     1460 non-null int64\n",
      "RoofStyle        1460 non-null object\n",
      "RoofMatl         1460 non-null object\n",
      "Exterior1st      1460 non-null object\n",
      "Exterior2nd      1460 non-null object\n",
      "MasVnrType       1452 non-null object\n",
      "MasVnrArea       1452 non-null float64\n",
      "ExterQual        1460 non-null object\n",
      "ExterCond        1460 non-null object\n",
      "Foundation       1460 non-null object\n",
      "BsmtQual         1423 non-null object\n",
      "BsmtCond         1423 non-null object\n",
      "BsmtExposure     1422 non-null object\n",
      "BsmtFinType1     1423 non-null object\n",
      "BsmtFinSF1       1460 non-null int64\n",
      "BsmtFinType2     1422 non-null object\n",
      "BsmtFinSF2       1460 non-null int64\n",
      "BsmtUnfSF        1460 non-null int64\n",
      "TotalBsmtSF      1460 non-null int64\n",
      "Heating          1460 non-null object\n",
      "HeatingQC        1460 non-null object\n",
      "CentralAir       1460 non-null object\n",
      "Electrical       1459 non-null object\n",
      "1stFlrSF         1460 non-null int64\n",
      "2ndFlrSF         1460 non-null int64\n",
      "LowQualFinSF     1460 non-null int64\n",
      "GrLivArea        1460 non-null int64\n",
      "BsmtFullBath     1460 non-null int64\n",
      "BsmtHalfBath     1460 non-null int64\n",
      "FullBath         1460 non-null int64\n",
      "HalfBath         1460 non-null int64\n",
      "BedroomAbvGr     1460 non-null int64\n",
      "KitchenAbvGr     1460 non-null int64\n",
      "KitchenQual      1460 non-null object\n",
      "TotRmsAbvGrd     1460 non-null int64\n",
      "Functional       1460 non-null object\n",
      "Fireplaces       1460 non-null int64\n",
      "FireplaceQu      770 non-null object\n",
      "GarageType       1379 non-null object\n",
      "GarageYrBlt      1379 non-null float64\n",
      "GarageFinish     1379 non-null object\n",
      "GarageCars       1460 non-null int64\n",
      "GarageArea       1460 non-null int64\n",
      "GarageQual       1379 non-null object\n",
      "GarageCond       1379 non-null object\n",
      "PavedDrive       1460 non-null object\n",
      "WoodDeckSF       1460 non-null int64\n",
      "OpenPorchSF      1460 non-null int64\n",
      "EnclosedPorch    1460 non-null int64\n",
      "3SsnPorch        1460 non-null int64\n",
      "ScreenPorch      1460 non-null int64\n",
      "PoolArea         1460 non-null int64\n",
      "PoolQC           7 non-null object\n",
      "Fence            281 non-null object\n",
      "MiscFeature      54 non-null object\n",
      "MiscVal          1460 non-null int64\n",
      "MoSold           1460 non-null int64\n",
      "YrSold           1460 non-null int64\n",
      "SaleType         1460 non-null object\n",
      "SaleCondition    1460 non-null object\n",
      "SalePrice        1460 non-null int64\n",
      "dtypes: float64(3), int64(35), object(43)\n",
      "memory usage: 924.0+ KB\n"
     ]
    }
   ],
   "source": [
    "df.info()"
   ]
  },
  {
   "cell_type": "markdown",
   "metadata": {},
   "source": [
    "### Well, the first thing to do if we're going to make a model to predict house prices is make sure we're dealing with residential buildings."
   ]
  },
  {
   "cell_type": "code",
   "execution_count": 6,
   "metadata": {},
   "outputs": [],
   "source": [
    "#From data description.txt:\n",
    "\n",
    "#A\tAgriculture\n",
    "#C\tCommercial\n",
    "#FV\tFloating Village Residential\n",
    "#I\tIndustrial\n",
    "#RH\tResidential High Density\n",
    "#RL\tResidential Low Density\n",
    "#RP\tResidential Low Density Park \n",
    "#RM\tResidential Medium Density"
   ]
  },
  {
   "cell_type": "code",
   "execution_count": 7,
   "metadata": {},
   "outputs": [
    {
     "data": {
      "text/html": [
       "<div>\n",
       "<style>\n",
       "    .dataframe thead tr:only-child th {\n",
       "        text-align: right;\n",
       "    }\n",
       "\n",
       "    .dataframe thead th {\n",
       "        text-align: left;\n",
       "    }\n",
       "\n",
       "    .dataframe tbody tr th {\n",
       "        vertical-align: top;\n",
       "    }\n",
       "</style>\n",
       "<table border=\"1\" class=\"dataframe\">\n",
       "  <thead>\n",
       "    <tr style=\"text-align: right;\">\n",
       "      <th></th>\n",
       "      <th>Id</th>\n",
       "      <th>MSSubClass</th>\n",
       "      <th>MSZoning</th>\n",
       "      <th>LotFrontage</th>\n",
       "      <th>LotArea</th>\n",
       "      <th>Street</th>\n",
       "      <th>Alley</th>\n",
       "      <th>LotShape</th>\n",
       "      <th>LandContour</th>\n",
       "      <th>Utilities</th>\n",
       "      <th>...</th>\n",
       "      <th>PoolArea</th>\n",
       "      <th>PoolQC</th>\n",
       "      <th>Fence</th>\n",
       "      <th>MiscFeature</th>\n",
       "      <th>MiscVal</th>\n",
       "      <th>MoSold</th>\n",
       "      <th>YrSold</th>\n",
       "      <th>SaleType</th>\n",
       "      <th>SaleCondition</th>\n",
       "      <th>SalePrice</th>\n",
       "    </tr>\n",
       "  </thead>\n",
       "  <tbody>\n",
       "  </tbody>\n",
       "</table>\n",
       "<p>0 rows × 81 columns</p>\n",
       "</div>"
      ],
      "text/plain": [
       "Empty DataFrame\n",
       "Columns: [Id, MSSubClass, MSZoning, LotFrontage, LotArea, Street, Alley, LotShape, LandContour, Utilities, LotConfig, LandSlope, Neighborhood, Condition1, Condition2, BldgType, HouseStyle, OverallQual, OverallCond, YearBuilt, YearRemodAdd, RoofStyle, RoofMatl, Exterior1st, Exterior2nd, MasVnrType, MasVnrArea, ExterQual, ExterCond, Foundation, BsmtQual, BsmtCond, BsmtExposure, BsmtFinType1, BsmtFinSF1, BsmtFinType2, BsmtFinSF2, BsmtUnfSF, TotalBsmtSF, Heating, HeatingQC, CentralAir, Electrical, 1stFlrSF, 2ndFlrSF, LowQualFinSF, GrLivArea, BsmtFullBath, BsmtHalfBath, FullBath, HalfBath, BedroomAbvGr, KitchenAbvGr, KitchenQual, TotRmsAbvGrd, Functional, Fireplaces, FireplaceQu, GarageType, GarageYrBlt, GarageFinish, GarageCars, GarageArea, GarageQual, GarageCond, PavedDrive, WoodDeckSF, OpenPorchSF, EnclosedPorch, 3SsnPorch, ScreenPorch, PoolArea, PoolQC, Fence, MiscFeature, MiscVal, MoSold, YrSold, SaleType, SaleCondition, SalePrice]\n",
       "Index: []\n",
       "\n",
       "[0 rows x 81 columns]"
      ]
     },
     "execution_count": 7,
     "metadata": {},
     "output_type": "execute_result"
    }
   ],
   "source": [
    "#looks like Residential Low Density Park is also empty anyways.\n",
    "df[df[\"MSZoning\"]==\"RP\"].head()"
   ]
  },
  {
   "cell_type": "code",
   "execution_count": 8,
   "metadata": {
    "collapsed": true
   },
   "outputs": [],
   "source": [
    "nonResidential = [\"A\",\"C\",\"I\"]"
   ]
  },
  {
   "cell_type": "code",
   "execution_count": 9,
   "metadata": {},
   "outputs": [],
   "source": [
    "for i in nonResidential:\n",
    "    df = df[df[\"MSZoning\"]!=i]"
   ]
  },
  {
   "cell_type": "code",
   "execution_count": 10,
   "metadata": {},
   "outputs": [
    {
     "data": {
      "text/plain": [
       "RL         1151\n",
       "RM          218\n",
       "FV           65\n",
       "RH           16\n",
       "C (all)      10\n",
       "Name: MSZoning, dtype: int64"
      ]
     },
     "execution_count": 10,
     "metadata": {},
     "output_type": "execute_result"
    }
   ],
   "source": [
    "#Ah, looks like C (all) snuck past us.\n",
    "df[\"MSZoning\"].value_counts()"
   ]
  },
  {
   "cell_type": "code",
   "execution_count": 11,
   "metadata": {
    "collapsed": true
   },
   "outputs": [],
   "source": [
    "df = df[df[\"MSZoning\"]!=\"C (all)\"]"
   ]
  },
  {
   "cell_type": "code",
   "execution_count": 12,
   "metadata": {},
   "outputs": [
    {
     "data": {
      "text/plain": [
       "RL    1151\n",
       "RM     218\n",
       "FV      65\n",
       "RH      16\n",
       "Name: MSZoning, dtype: int64"
      ]
     },
     "execution_count": 12,
     "metadata": {},
     "output_type": "execute_result"
    }
   ],
   "source": [
    "df[\"MSZoning\"].value_counts()"
   ]
  },
  {
   "cell_type": "markdown",
   "metadata": {},
   "source": [
    "### Alright so now we're working with the right types of buildings.\n",
    "\n",
    "### Next, If a column has more than 80% missing data, I'm going to flag it and probably end up deciding to get rid of it."
   ]
  },
  {
   "cell_type": "code",
   "execution_count": 13,
   "metadata": {},
   "outputs": [],
   "source": [
    " moreThan80PercentGone = []\n",
    "for i in df.columns:\n",
    "    if sum(df[i].isnull())/len(df) > 0.8:\n",
    "        moreThan80PercentGone.append(i)"
   ]
  },
  {
   "cell_type": "code",
   "execution_count": 14,
   "metadata": {},
   "outputs": [
    {
     "data": {
      "text/plain": [
       "['Alley', 'PoolQC', 'Fence', 'MiscFeature']"
      ]
     },
     "execution_count": 14,
     "metadata": {},
     "output_type": "execute_result"
    }
   ],
   "source": [
    "moreThan80PercentGone"
   ]
  },
  {
   "cell_type": "code",
   "execution_count": 15,
   "metadata": {},
   "outputs": [
    {
     "name": "stdout",
     "output_type": "stream",
     "text": [
      "<class 'pandas.core.frame.DataFrame'>\n",
      "Int64Index: 1450 entries, 0 to 1459\n",
      "Data columns (total 4 columns):\n",
      "Alley          89 non-null object\n",
      "PoolQC         7 non-null object\n",
      "Fence          278 non-null object\n",
      "MiscFeature    52 non-null object\n",
      "dtypes: object(4)\n",
      "memory usage: 56.6+ KB\n"
     ]
    }
   ],
   "source": [
    "df[moreThan80PercentGone].info()"
   ]
  },
  {
   "cell_type": "markdown",
   "metadata": {},
   "source": [
    "### Fence is the only thing that looks remotely salvagable.  If the value is nan, I'll replace it with \"noInfo\" -- we may end up eventually just dropping this column."
   ]
  },
  {
   "cell_type": "code",
   "execution_count": 16,
   "metadata": {},
   "outputs": [
    {
     "data": {
      "text/plain": [
       "MnPrv    155\n",
       "GdPrv     59\n",
       "GdWo      53\n",
       "MnWw      11\n",
       "Name: Fence, dtype: int64"
      ]
     },
     "execution_count": 16,
     "metadata": {},
     "output_type": "execute_result"
    }
   ],
   "source": [
    "df[\"Fence\"].value_counts()"
   ]
  },
  {
   "cell_type": "code",
   "execution_count": 17,
   "metadata": {},
   "outputs": [],
   "source": [
    "replacementList = []\n",
    "for i in df[\"Fence\"]:\n",
    "    if type(i) != str:\n",
    "        replacementList.append(\"noInfo\")\n",
    "    else:\n",
    "        replacementList.append(i)\n",
    "#print(replacementList)\n",
    "df[\"Fence\"] = replacementList"
   ]
  },
  {
   "cell_type": "code",
   "execution_count": 18,
   "metadata": {},
   "outputs": [
    {
     "data": {
      "text/plain": [
       "noInfo    1172\n",
       "MnPrv      155\n",
       "GdPrv       59\n",
       "GdWo        53\n",
       "MnWw        11\n",
       "Name: Fence, dtype: int64"
      ]
     },
     "execution_count": 18,
     "metadata": {},
     "output_type": "execute_result"
    }
   ],
   "source": [
    "df[\"Fence\"].value_counts()"
   ]
  },
  {
   "cell_type": "code",
   "execution_count": 19,
   "metadata": {
    "collapsed": true
   },
   "outputs": [],
   "source": [
    "moreThan80PercentGone = []\n",
    "for i in df.columns:\n",
    "    if sum(df[i].isnull())/len(df) > 0.8:\n",
    "        moreThan80PercentGone.append(i)"
   ]
  },
  {
   "cell_type": "code",
   "execution_count": 20,
   "metadata": {},
   "outputs": [
    {
     "data": {
      "text/plain": [
       "['Alley', 'PoolQC', 'MiscFeature']"
      ]
     },
     "execution_count": 20,
     "metadata": {},
     "output_type": "execute_result"
    }
   ],
   "source": [
    "moreThan80PercentGone"
   ]
  },
  {
   "cell_type": "markdown",
   "metadata": {},
   "source": [
    "### I'm just dropping these other columns as they're virtually non-existent."
   ]
  },
  {
   "cell_type": "code",
   "execution_count": 21,
   "metadata": {
    "collapsed": true
   },
   "outputs": [],
   "source": [
    "for i in moreThan80PercentGone:\n",
    "    df = df.drop(i,axis=1)"
   ]
  },
  {
   "cell_type": "markdown",
   "metadata": {},
   "source": [
    "### Next, I still want to see what other columns have incomplete data and in what way."
   ]
  },
  {
   "cell_type": "code",
   "execution_count": 22,
   "metadata": {
    "collapsed": true
   },
   "outputs": [],
   "source": [
    "Incomplete = []\n",
    "for i in df.columns:\n",
    "    if sum(df[i].isnull())/len(df) != 0:\n",
    "        Incomplete.append(i)"
   ]
  },
  {
   "cell_type": "code",
   "execution_count": 23,
   "metadata": {},
   "outputs": [
    {
     "name": "stdout",
     "output_type": "stream",
     "text": [
      "['LotFrontage', 'MasVnrType', 'MasVnrArea', 'BsmtQual', 'BsmtCond', 'BsmtExposure', 'BsmtFinType1', 'BsmtFinType2', 'Electrical', 'FireplaceQu', 'GarageType', 'GarageYrBlt', 'GarageFinish', 'GarageQual', 'GarageCond']\n"
     ]
    }
   ],
   "source": [
    "print(Incomplete)"
   ]
  },
  {
   "cell_type": "code",
   "execution_count": 24,
   "metadata": {},
   "outputs": [],
   "source": [
    "# fig, ax = plt.subplots(figsize=(16,48)) \n",
    "# sns.heatmap(df[Incomplete].isnull(),ax=ax)\n",
    "# plt.show()"
   ]
  },
  {
   "cell_type": "markdown",
   "metadata": {},
   "source": [
    "### Unfortunately, we don't have a nice situation where certain rows are largely responsible for all of the missingness (aside from how it appears that if you don't have one piece of basement info, you don't get any other piece of basement info.)   I think we'll have to address these on a case-by-case basis."
   ]
  },
  {
   "cell_type": "code",
   "execution_count": 25,
   "metadata": {},
   "outputs": [
    {
     "name": "stdout",
     "output_type": "stream",
     "text": [
      "<class 'pandas.core.frame.DataFrame'>\n",
      "Int64Index: 1450 entries, 0 to 1459\n",
      "Data columns (total 15 columns):\n",
      "LotFrontage     1191 non-null float64\n",
      "MasVnrType      1442 non-null object\n",
      "MasVnrArea      1442 non-null float64\n",
      "BsmtQual        1413 non-null object\n",
      "BsmtCond        1413 non-null object\n",
      "BsmtExposure    1412 non-null object\n",
      "BsmtFinType1    1413 non-null object\n",
      "BsmtFinType2    1412 non-null object\n",
      "Electrical      1449 non-null object\n",
      "FireplaceQu     769 non-null object\n",
      "GarageType      1371 non-null object\n",
      "GarageYrBlt     1371 non-null float64\n",
      "GarageFinish    1371 non-null object\n",
      "GarageQual      1371 non-null object\n",
      "GarageCond      1371 non-null object\n",
      "dtypes: float64(3), object(12)\n",
      "memory usage: 181.2+ KB\n"
     ]
    }
   ],
   "source": [
    "df[Incomplete].info()"
   ]
  },
  {
   "cell_type": "markdown",
   "metadata": {},
   "source": [
    "### Well there's something more clear.  There's perfect consistency with the missing Garage data, near-perfect with the Basement, and also perfect with Masonry Veneer.   We'll start with the Garage."
   ]
  },
  {
   "cell_type": "code",
   "execution_count": 26,
   "metadata": {},
   "outputs": [
    {
     "data": {
      "text/plain": [
       "Attchd     870\n",
       "Detchd     381\n",
       "BuiltIn     88\n",
       "Basment     18\n",
       "CarPort      8\n",
       "2Types       6\n",
       "Name: GarageType, dtype: int64"
      ]
     },
     "execution_count": 26,
     "metadata": {},
     "output_type": "execute_result"
    }
   ],
   "source": [
    "df[\"GarageType\"].value_counts()"
   ]
  },
  {
   "cell_type": "markdown",
   "metadata": {},
   "source": [
    "### I'm going to go ahead and say the missing data is actually \"None\" (meaning no garage exists), and honestly, it doesn't matter what it's called, seeing how the way any model interprets these categories, they might as well be labeled 0 through 6.\n",
    "\n",
    "### Also of note, feature engineering a column that is just 1 (if garage exists) and 0 (if garage doesn't exist) may be a valuable move.\n",
    "\n",
    "### For now I'm just going to replace the nulls with \"None\"."
   ]
  },
  {
   "cell_type": "code",
   "execution_count": 27,
   "metadata": {},
   "outputs": [],
   "source": [
    "# for i in df.columns:\n",
    "#     print(df[[i]].dtypes[0])"
   ]
  },
  {
   "cell_type": "code",
   "execution_count": 28,
   "metadata": {
    "collapsed": true
   },
   "outputs": [],
   "source": [
    "def replaceNullsWithValue(theDf,theColumn):\n",
    "    ''' do this to fix the null issue in your data for object columns :\n",
    "    df[theColumn] = replaceNullsWithValue(df,theColumn)\n",
    "    as this function will return a list that will replace the old list\n",
    "    and have the null values replaced.\n",
    "    \n",
    "    this function will just crash if it runs into a dtype it isn't prepared for,\n",
    "    and this is by design to avoid any silent errors.\n",
    "    '''\n",
    "    rnwv = []\n",
    "    columnType = theDf[[theColumn]].dtypes[0]\n",
    "    if columnType == 'O':\n",
    "        daType = str\n",
    "        replacement = \"None\"\n",
    "    elif columnType == 'int64' or columnType == 'int32' or columnType == 'int8':\n",
    "        daType = int\n",
    "        replacement = 0\n",
    "    elif columnType == 'float64':\n",
    "        daType = float\n",
    "        replacement = 0\n",
    "    for i in theDf[theColumn]:\n",
    "        if daType != float:\n",
    "            if type(i) != daType:\n",
    "                rnwv.append(replacement)\n",
    "            else:\n",
    "                rnwv.append(i)\n",
    "        else:\n",
    "            if math.isnan(i):\n",
    "                rnwv.append(replacement)\n",
    "            else:\n",
    "                rnwv.append(i)\n",
    "    return rnwv"
   ]
  },
  {
   "cell_type": "code",
   "execution_count": 29,
   "metadata": {
    "collapsed": true
   },
   "outputs": [],
   "source": [
    "garageColumns = []\n",
    "for i in Incomplete:\n",
    "    if \"Garage\" in i:\n",
    "        garageColumns.append(i)"
   ]
  },
  {
   "cell_type": "code",
   "execution_count": 30,
   "metadata": {},
   "outputs": [
    {
     "data": {
      "text/plain": [
       "['GarageType', 'GarageYrBlt', 'GarageFinish', 'GarageQual', 'GarageCond']"
      ]
     },
     "execution_count": 30,
     "metadata": {},
     "output_type": "execute_result"
    }
   ],
   "source": [
    "garageColumns"
   ]
  },
  {
   "cell_type": "code",
   "execution_count": 31,
   "metadata": {},
   "outputs": [],
   "source": [
    "for i in garageColumns:\n",
    "    df[i] = replaceNullsWithValue(df,i)"
   ]
  },
  {
   "cell_type": "code",
   "execution_count": 32,
   "metadata": {},
   "outputs": [
    {
     "name": "stdout",
     "output_type": "stream",
     "text": [
      "<class 'pandas.core.frame.DataFrame'>\n",
      "Int64Index: 1450 entries, 0 to 1459\n",
      "Data columns (total 5 columns):\n",
      "GarageType      1450 non-null object\n",
      "GarageYrBlt     1450 non-null float64\n",
      "GarageFinish    1450 non-null object\n",
      "GarageQual      1450 non-null object\n",
      "GarageCond      1450 non-null object\n",
      "dtypes: float64(1), object(4)\n",
      "memory usage: 68.0+ KB\n"
     ]
    }
   ],
   "source": [
    "df[garageColumns].info()"
   ]
  },
  {
   "cell_type": "markdown",
   "metadata": {},
   "source": [
    "### There.  No null values for the Garage columns.  Now I wasted space there as far as converting integer columns to object columns, but 1) that can be fixed later by writing a function that converts all categories to integers if need be.  2) There's such a limited amount of data that it doesn't even matter.  It's not taking up any space anyways."
   ]
  },
  {
   "cell_type": "code",
   "execution_count": 33,
   "metadata": {},
   "outputs": [
    {
     "data": {
      "text/plain": [
       "Attchd     870\n",
       "Detchd     381\n",
       "BuiltIn     88\n",
       "None        79\n",
       "Basment     18\n",
       "CarPort      8\n",
       "2Types       6\n",
       "Name: GarageType, dtype: int64"
      ]
     },
     "execution_count": 33,
     "metadata": {},
     "output_type": "execute_result"
    }
   ],
   "source": [
    "df[\"GarageType\"].value_counts()"
   ]
  },
  {
   "cell_type": "markdown",
   "metadata": {},
   "source": [
    "### Since there's so much consistentcy between the columns also in Bsmt and MasVnr, I'm going to do the same with those."
   ]
  },
  {
   "cell_type": "code",
   "execution_count": 34,
   "metadata": {
    "collapsed": true
   },
   "outputs": [],
   "source": [
    "theOthers = []\n",
    "for i in Incomplete:\n",
    "    if \"Bsmt\" in i or \"MasVnr\" in i:\n",
    "        theOthers.append(i)"
   ]
  },
  {
   "cell_type": "code",
   "execution_count": 35,
   "metadata": {},
   "outputs": [
    {
     "data": {
      "text/plain": [
       "['MasVnrType',\n",
       " 'MasVnrArea',\n",
       " 'BsmtQual',\n",
       " 'BsmtCond',\n",
       " 'BsmtExposure',\n",
       " 'BsmtFinType1',\n",
       " 'BsmtFinType2']"
      ]
     },
     "execution_count": 35,
     "metadata": {},
     "output_type": "execute_result"
    }
   ],
   "source": [
    "theOthers"
   ]
  },
  {
   "cell_type": "code",
   "execution_count": 36,
   "metadata": {
    "collapsed": true
   },
   "outputs": [],
   "source": [
    "for i in theOthers:\n",
    "    df[i] = replaceNullsWithValue(df,i)"
   ]
  },
  {
   "cell_type": "code",
   "execution_count": 37,
   "metadata": {},
   "outputs": [
    {
     "name": "stdout",
     "output_type": "stream",
     "text": [
      "<class 'pandas.core.frame.DataFrame'>\n",
      "Int64Index: 1450 entries, 0 to 1459\n",
      "Data columns (total 7 columns):\n",
      "MasVnrType      1450 non-null object\n",
      "MasVnrArea      1450 non-null float64\n",
      "BsmtQual        1450 non-null object\n",
      "BsmtCond        1450 non-null object\n",
      "BsmtExposure    1450 non-null object\n",
      "BsmtFinType1    1450 non-null object\n",
      "BsmtFinType2    1450 non-null object\n",
      "dtypes: float64(1), object(6)\n",
      "memory usage: 90.6+ KB\n"
     ]
    }
   ],
   "source": [
    "df[theOthers].info()"
   ]
  },
  {
   "cell_type": "markdown",
   "metadata": {},
   "source": [
    "### Let's see what else is left from \"Incomplete\""
   ]
  },
  {
   "cell_type": "code",
   "execution_count": 38,
   "metadata": {
    "collapsed": true
   },
   "outputs": [],
   "source": [
    "Incomplete = []\n",
    "for i in df.columns:\n",
    "    if sum(df[i].isnull())/len(df) != 0:\n",
    "        Incomplete.append(i)"
   ]
  },
  {
   "cell_type": "code",
   "execution_count": 39,
   "metadata": {},
   "outputs": [
    {
     "data": {
      "text/plain": [
       "['LotFrontage', 'Electrical', 'FireplaceQu']"
      ]
     },
     "execution_count": 39,
     "metadata": {},
     "output_type": "execute_result"
    }
   ],
   "source": [
    "Incomplete"
   ]
  },
  {
   "cell_type": "code",
   "execution_count": 40,
   "metadata": {},
   "outputs": [
    {
     "name": "stdout",
     "output_type": "stream",
     "text": [
      "<class 'pandas.core.frame.DataFrame'>\n",
      "Int64Index: 1450 entries, 0 to 1459\n",
      "Data columns (total 3 columns):\n",
      "LotFrontage    1191 non-null float64\n",
      "Electrical     1449 non-null object\n",
      "FireplaceQu    769 non-null object\n",
      "dtypes: float64(1), object(2)\n",
      "memory usage: 45.3+ KB\n"
     ]
    }
   ],
   "source": [
    "df[Incomplete].info()"
   ]
  },
  {
   "cell_type": "markdown",
   "metadata": {},
   "source": [
    "### Okay Electrical is literally missing one value."
   ]
  },
  {
   "cell_type": "code",
   "execution_count": 41,
   "metadata": {},
   "outputs": [
    {
     "data": {
      "text/plain": [
       "SBrkr    1328\n",
       "FuseA      90\n",
       "FuseF      27\n",
       "FuseP       3\n",
       "Mix         1\n",
       "Name: Electrical, dtype: int64"
      ]
     },
     "execution_count": 41,
     "metadata": {},
     "output_type": "execute_result"
    }
   ],
   "source": [
    "df[\"Electrical\"].value_counts()"
   ]
  },
  {
   "cell_type": "code",
   "execution_count": 42,
   "metadata": {
    "collapsed": true
   },
   "outputs": [],
   "source": [
    "df[\"Electrical\"] = replaceNullsWithValue(df,\"Electrical\")"
   ]
  },
  {
   "cell_type": "code",
   "execution_count": 43,
   "metadata": {},
   "outputs": [
    {
     "data": {
      "text/plain": [
       "SBrkr    1328\n",
       "FuseA      90\n",
       "FuseF      27\n",
       "FuseP       3\n",
       "Mix         1\n",
       "None        1\n",
       "Name: Electrical, dtype: int64"
      ]
     },
     "execution_count": 43,
     "metadata": {},
     "output_type": "execute_result"
    }
   ],
   "source": [
    "df[\"Electrical\"].value_counts()"
   ]
  },
  {
   "cell_type": "markdown",
   "metadata": {},
   "source": [
    "### Electrical seems like another column that might benefit from converting it to something like 1 (SBrkr) and 0 (Else)  (or to be honest just dropping the column, seeing how 1328/1450 are in one category.)  We'll see."
   ]
  },
  {
   "cell_type": "code",
   "execution_count": 44,
   "metadata": {},
   "outputs": [
    {
     "name": "stdout",
     "output_type": "stream",
     "text": [
      "<class 'pandas.core.frame.DataFrame'>\n",
      "Int64Index: 1450 entries, 0 to 1459\n",
      "Data columns (total 1 columns):\n",
      "LotFrontage    1191 non-null float64\n",
      "dtypes: float64(1)\n",
      "memory usage: 22.7 KB\n"
     ]
    }
   ],
   "source": [
    "df[[\"LotFrontage\"]].info()"
   ]
  },
  {
   "cell_type": "markdown",
   "metadata": {},
   "source": [
    "### Ah, right LotFrontage would be floats."
   ]
  },
  {
   "cell_type": "code",
   "execution_count": 45,
   "metadata": {},
   "outputs": [
    {
     "data": {
      "text/plain": [
       "<matplotlib.text.Text at 0x7f708fd15320>"
      ]
     },
     "execution_count": 45,
     "metadata": {},
     "output_type": "execute_result"
    },
    {
     "data": {
      "image/png": "[encoded data removed]",
      "text/plain": [
       "<matplotlib.figure.Figure at 0x7f70bc8f06a0>"
      ]
     },
     "metadata": {},
     "output_type": "display_data"
    }
   ],
   "source": [
    "plt.plot(df[\"LotFrontage\"])\n",
    "plt.xlabel(\"index\")\n",
    "plt.ylabel(\"lot frontage\")"
   ]
  },
  {
   "cell_type": "code",
   "execution_count": 46,
   "metadata": {},
   "outputs": [
    {
     "name": "stdout",
     "output_type": "stream",
     "text": [
      "21.0\n",
      "313.0\n"
     ]
    }
   ],
   "source": [
    "print(min(df[\"LotFrontage\"]))\n",
    "print(max(df[\"LotFrontage\"]))"
   ]
  },
  {
   "cell_type": "markdown",
   "metadata": {},
   "source": [
    "### So LotFrontage is easily the hardest column to deal with so far.  It has a fair amount of variance and, at least to me, it isn't clear what the lack of information means.  I'm not at all comfortable subbing in 0 for the missing values.  \n",
    "\n",
    "### Also those couple outliers should be removed later if we keep this column.\n",
    "\n",
    "### Before we get all crazy, let's see if this column even matters."
   ]
  },
  {
   "cell_type": "code",
   "execution_count": 47,
   "metadata": {},
   "outputs": [
    {
     "data": {
      "text/html": [
       "<div>\n",
       "<style>\n",
       "    .dataframe thead tr:only-child th {\n",
       "        text-align: right;\n",
       "    }\n",
       "\n",
       "    .dataframe thead th {\n",
       "        text-align: left;\n",
       "    }\n",
       "\n",
       "    .dataframe tbody tr th {\n",
       "        vertical-align: top;\n",
       "    }\n",
       "</style>\n",
       "<table border=\"1\" class=\"dataframe\">\n",
       "  <thead>\n",
       "    <tr style=\"text-align: right;\">\n",
       "      <th></th>\n",
       "      <th>LotFrontage</th>\n",
       "      <th>SalePrice</th>\n",
       "    </tr>\n",
       "  </thead>\n",
       "  <tbody>\n",
       "    <tr>\n",
       "      <th>LotFrontage</th>\n",
       "      <td>1.000000</td>\n",
       "      <td>0.354848</td>\n",
       "    </tr>\n",
       "    <tr>\n",
       "      <th>SalePrice</th>\n",
       "      <td>0.354848</td>\n",
       "      <td>1.000000</td>\n",
       "    </tr>\n",
       "  </tbody>\n",
       "</table>\n",
       "</div>"
      ],
      "text/plain": [
       "             LotFrontage  SalePrice\n",
       "LotFrontage     1.000000   0.354848\n",
       "SalePrice       0.354848   1.000000"
      ]
     },
     "execution_count": 47,
     "metadata": {},
     "output_type": "execute_result"
    }
   ],
   "source": [
    "df[[\"LotFrontage\",\"SalePrice\"]].corr() #this automatically will not use the missing values in the calculation,\n",
    "# so that's not an issue."
   ]
  },
  {
   "cell_type": "code",
   "execution_count": 48,
   "metadata": {
    "collapsed": true
   },
   "outputs": [],
   "source": [
    "dfLFReplaceWithZero = df.copy()"
   ]
  },
  {
   "cell_type": "code",
   "execution_count": 49,
   "metadata": {
    "collapsed": true
   },
   "outputs": [],
   "source": [
    "rpl = []\n",
    "for i in dfLFReplaceWithZero[\"LotFrontage\"]:\n",
    "    if i > 20:\n",
    "        rpl.append(i)\n",
    "    else:\n",
    "        rpl.append(0)\n",
    "dfLFReplaceWithZero[\"LotFrontage\"] = rpl"
   ]
  },
  {
   "cell_type": "code",
   "execution_count": 50,
   "metadata": {},
   "outputs": [
    {
     "data": {
      "text/html": [
       "<div>\n",
       "<style>\n",
       "    .dataframe thead tr:only-child th {\n",
       "        text-align: right;\n",
       "    }\n",
       "\n",
       "    .dataframe thead th {\n",
       "        text-align: left;\n",
       "    }\n",
       "\n",
       "    .dataframe tbody tr th {\n",
       "        vertical-align: top;\n",
       "    }\n",
       "</style>\n",
       "<table border=\"1\" class=\"dataframe\">\n",
       "  <thead>\n",
       "    <tr style=\"text-align: right;\">\n",
       "      <th></th>\n",
       "      <th>LotFrontage</th>\n",
       "      <th>SalePrice</th>\n",
       "    </tr>\n",
       "  </thead>\n",
       "  <tbody>\n",
       "    <tr>\n",
       "      <th>LotFrontage</th>\n",
       "      <td>1.000000</td>\n",
       "      <td>0.214273</td>\n",
       "    </tr>\n",
       "    <tr>\n",
       "      <th>SalePrice</th>\n",
       "      <td>0.214273</td>\n",
       "      <td>1.000000</td>\n",
       "    </tr>\n",
       "  </tbody>\n",
       "</table>\n",
       "</div>"
      ],
      "text/plain": [
       "             LotFrontage  SalePrice\n",
       "LotFrontage     1.000000   0.214273\n",
       "SalePrice       0.214273   1.000000"
      ]
     },
     "execution_count": 50,
     "metadata": {},
     "output_type": "execute_result"
    }
   ],
   "source": [
    "dfLFReplaceWithZero[[\"LotFrontage\",\"SalePrice\"]].corr()"
   ]
  },
  {
   "cell_type": "markdown",
   "metadata": {},
   "source": [
    "### Well I mean that's enough for me --  It's definitely an important column.  There's a lot of correlation when we only use the good values, and we lose an entire 14% when we just faceroll / replace with 0.  We have to find some way of imputing the missing values."
   ]
  },
  {
   "cell_type": "code",
   "execution_count": 51,
   "metadata": {
    "collapsed": true
   },
   "outputs": [],
   "source": [
    "dfLFReplaceWithZero = 0 #freeing memory lol"
   ]
  },
  {
   "cell_type": "code",
   "execution_count": 52,
   "metadata": {},
   "outputs": [
    {
     "data": {
      "text/plain": [
       "Gd    379\n",
       "TA    313\n",
       "Fa     33\n",
       "Ex     24\n",
       "Po     20\n",
       "Name: FireplaceQu, dtype: int64"
      ]
     },
     "execution_count": 52,
     "metadata": {},
     "output_type": "execute_result"
    }
   ],
   "source": [
    "df[\"FireplaceQu\"].value_counts()"
   ]
  },
  {
   "cell_type": "markdown",
   "metadata": {},
   "source": [
    "### Unfortunately we can't use .corr() here, but I'm sure a barplot will be fine to get the general idea."
   ]
  },
  {
   "cell_type": "code",
   "execution_count": 53,
   "metadata": {},
   "outputs": [
    {
     "data": {
      "image/png": "[encoded data removed]",
      "text/plain": [
       "<matplotlib.figure.Figure at 0x7f70c1416898>"
      ]
     },
     "metadata": {},
     "output_type": "display_data"
    }
   ],
   "source": [
    "sns.barplot(df[\"FireplaceQu\"],df[\"SalePrice\"]);"
   ]
  },
  {
   "cell_type": "markdown",
   "metadata": {},
   "source": [
    "### Well that's definitely enough to look into it more.\n",
    "\n",
    "### Let's convert the missing values to \"None\" and see if the picture still makes sense."
   ]
  },
  {
   "cell_type": "code",
   "execution_count": 54,
   "metadata": {
    "collapsed": true
   },
   "outputs": [],
   "source": [
    "dfNone = df.copy()"
   ]
  },
  {
   "cell_type": "code",
   "execution_count": 55,
   "metadata": {
    "collapsed": true
   },
   "outputs": [],
   "source": [
    "dfNone[\"FireplaceQu\"] = replaceNullsWithValue(dfNone,\"FireplaceQu\")"
   ]
  },
  {
   "cell_type": "code",
   "execution_count": 56,
   "metadata": {},
   "outputs": [
    {
     "data": {
      "text/plain": [
       "None    681\n",
       "Gd      379\n",
       "TA      313\n",
       "Fa       33\n",
       "Ex       24\n",
       "Po       20\n",
       "Name: FireplaceQu, dtype: int64"
      ]
     },
     "execution_count": 56,
     "metadata": {},
     "output_type": "execute_result"
    }
   ],
   "source": [
    "dfNone[\"FireplaceQu\"].value_counts()"
   ]
  },
  {
   "cell_type": "code",
   "execution_count": 57,
   "metadata": {},
   "outputs": [
    {
     "data": {
      "image/png": "[encoded data removed]",
      "text/plain": [
       "<matplotlib.figure.Figure at 0x7f7087d72080>"
      ]
     },
     "metadata": {},
     "output_type": "display_data"
    }
   ],
   "source": [
    "sns.barplot(dfNone[\"FireplaceQu\"],dfNone[\"SalePrice\"]);"
   ]
  },
  {
   "cell_type": "markdown",
   "metadata": {},
   "source": [
    "### Yeah I mean that still looks sensible what with None being around the lowest average."
   ]
  },
  {
   "cell_type": "code",
   "execution_count": 58,
   "metadata": {},
   "outputs": [
    {
     "data": {
      "image/png": "[encoded data removed]",
      "text/plain": [
       "<matplotlib.figure.Figure at 0x7f7087d445f8>"
      ]
     },
     "metadata": {},
     "output_type": "display_data"
    }
   ],
   "source": [
    "sns.distplot(dfNone[\"SalePrice\"][dfNone[\"FireplaceQu\"]==\"None\"]);\n",
    "plt.ylabel(\"percent of distribution\");\n",
    "plt.title(\"distribution of price for houses without fireplaces\");"
   ]
  },
  {
   "cell_type": "code",
   "execution_count": 59,
   "metadata": {},
   "outputs": [
    {
     "data": {
      "image/png": "[encoded data removed]",
      "text/plain": [
       "<matplotlib.figure.Figure at 0x7f7087c93978>"
      ]
     },
     "metadata": {},
     "output_type": "display_data"
    }
   ],
   "source": [
    "sns.distplot(dfNone[\"SalePrice\"][dfNone[\"FireplaceQu\"]==\"Ex\"]);\n",
    "plt.ylabel(\"percent of distribution\");\n",
    "plt.title(\"distribution of price for houses with EXCELLENT fireplaces\");"
   ]
  },
  {
   "cell_type": "code",
   "execution_count": 60,
   "metadata": {},
   "outputs": [
    {
     "data": {
      "image/png": "[encoded data removed]",
      "text/plain": [
       "<matplotlib.figure.Figure at 0x7f7087aaeda0>"
      ]
     },
     "metadata": {},
     "output_type": "display_data"
    }
   ],
   "source": [
    "sns.distplot(dfNone[\"SalePrice\"][dfNone[\"FireplaceQu\"]==\"TA\"]);\n",
    "plt.ylabel(\"percent of distribution\");\n",
    "plt.title(\"distribution of price for houses with AVERAGE fireplaces\");"
   ]
  },
  {
   "cell_type": "code",
   "execution_count": 61,
   "metadata": {},
   "outputs": [
    {
     "data": {
      "image/png": "[encoded data removed]",
      "text/plain": [
       "<matplotlib.figure.Figure at 0x7f708794bb00>"
      ]
     },
     "metadata": {},
     "output_type": "display_data"
    }
   ],
   "source": [
    "sns.distplot(dfNone[\"SalePrice\"][dfNone[\"FireplaceQu\"]==\"Po\"]);\n",
    "plt.ylabel(\"percent of distribution\");\n",
    "plt.title(\"distribution of price for houses with POOR fireplaces\");"
   ]
  },
  {
   "cell_type": "markdown",
   "metadata": {},
   "source": [
    "### I'm content with what we're seeing here.  It does appear that if you have a fireplace, and especially if it's a great one, that does seem to be an indicator... The column probably matters at least a little bit and so at least initially the column will be included until proven to be a distraction.  I'll include the column with \"None\" replacing the missing values."
   ]
  },
  {
   "cell_type": "code",
   "execution_count": 62,
   "metadata": {
    "collapsed": true
   },
   "outputs": [],
   "source": [
    "df[\"FireplaceQu\"] = replaceNullsWithValue(df,\"FireplaceQu\")"
   ]
  },
  {
   "cell_type": "markdown",
   "metadata": {},
   "source": [
    "#"
   ]
  },
  {
   "cell_type": "markdown",
   "metadata": {},
   "source": [
    "### This nearly concludes the section where I clean up the null values, but we are left with the LotFrontage problem. \n",
    "\n",
    "### Our first task, unexpectedly, will be to train a model to predict LotFrontage.\n",
    "\n",
    "### First, I'm just going to see if we can use RandomForestClassifier's feature importances to reduce our own time investigating things.  After all, this is only to salvage one column.\n",
    "\n",
    "### Also of note, we'll be keeping SalePrice in but not predicting with it in the end -- the reason I'm keeping it in has to do with restructuring the DataFrame later."
   ]
  },
  {
   "cell_type": "code",
   "execution_count": 63,
   "metadata": {},
   "outputs": [],
   "source": [
    "from sklearn.model_selection import KFold, cross_val_score\n",
    "from sklearn.ensemble import RandomForestClassifier, RandomForestRegressor"
   ]
  },
  {
   "cell_type": "code",
   "execution_count": 64,
   "metadata": {
    "collapsed": true
   },
   "outputs": [],
   "source": [
    "X = df.copy()\n",
    "#X = X.drop(\"SalePrice\",axis=1)\n",
    "X = X.drop(\"Id\",axis=1)"
   ]
  },
  {
   "cell_type": "code",
   "execution_count": 65,
   "metadata": {
    "collapsed": true
   },
   "outputs": [],
   "source": [
    "def keyer(theDf,theColumn):\n",
    "    '''returns a new column to replace the old one, where the\n",
    "    strings that represented different categories are replaced with \n",
    "    unique integer values (increasing)'''\n",
    "    kyr = []\n",
    "    seen = {}\n",
    "    counter = 0\n",
    "    for i in theDf[theColumn]:\n",
    "        try:\n",
    "            kyr.append(seen[i])\n",
    "        except:\n",
    "            seen[i] = counter\n",
    "            kyr.append(seen[i])\n",
    "            counter += 1\n",
    "    return kyr"
   ]
  },
  {
   "cell_type": "code",
   "execution_count": 66,
   "metadata": {
    "collapsed": true
   },
   "outputs": [],
   "source": [
    "for i in X.columns:\n",
    "    if type(X[i][0]) == str:\n",
    "        X[i] = keyer(X,i)"
   ]
  },
  {
   "cell_type": "code",
   "execution_count": 67,
   "metadata": {},
   "outputs": [
    {
     "data": {
      "text/plain": [
       "0    681\n",
       "2    379\n",
       "1    313\n",
       "3     33\n",
       "4     24\n",
       "5     20\n",
       "Name: FireplaceQu, dtype: int64"
      ]
     },
     "execution_count": 67,
     "metadata": {},
     "output_type": "execute_result"
    }
   ],
   "source": [
    "X[\"FireplaceQu\"].value_counts()"
   ]
  },
  {
   "cell_type": "code",
   "execution_count": 68,
   "metadata": {},
   "outputs": [],
   "source": [
    "X_impute = X[X[\"LotFrontage\"].isnull()==True].drop(\"LotFrontage\",axis=1)"
   ]
  },
  {
   "cell_type": "code",
   "execution_count": 69,
   "metadata": {
    "collapsed": true
   },
   "outputs": [],
   "source": [
    "y_impute = X[X[\"LotFrontage\"].isnull()==True][\"LotFrontage\"]"
   ]
  },
  {
   "cell_type": "code",
   "execution_count": 70,
   "metadata": {
    "collapsed": true
   },
   "outputs": [],
   "source": [
    "X_main = X[X[\"LotFrontage\"].isnull()==False].drop(\"LotFrontage\",axis=1)"
   ]
  },
  {
   "cell_type": "code",
   "execution_count": 71,
   "metadata": {},
   "outputs": [],
   "source": [
    "y_main = X[X[\"LotFrontage\"].isnull()==False][\"LotFrontage\"]"
   ]
  },
  {
   "cell_type": "code",
   "execution_count": 72,
   "metadata": {},
   "outputs": [],
   "source": [
    "#X.info()"
   ]
  },
  {
   "cell_type": "code",
   "execution_count": 73,
   "metadata": {},
   "outputs": [
    {
     "name": "stdout",
     "output_type": "stream",
     "text": [
      "scores [ 0.4829173   0.3459856   0.4256949   0.47140517]\n",
      "np.mean(scores) 0.431500740642\n",
      "np.std(scores) 0.053811182916\n"
     ]
    }
   ],
   "source": [
    "rfr = RandomForestRegressor()\n",
    "\n",
    "kf_shuffle = KFold(n_splits=4,shuffle=True,random_state=42)\n",
    "scores = cross_val_score(rfr, X_main, y_main, cv=kf_shuffle)\n",
    "\n",
    "print(\"scores\",scores)\n",
    "print(\"np.mean(scores)\",np.mean(scores))\n",
    "print(\"np.std(scores)\",np.std(scores))"
   ]
  },
  {
   "cell_type": "markdown",
   "metadata": {},
   "source": [
    "### Not bad at all."
   ]
  },
  {
   "cell_type": "code",
   "execution_count": 74,
   "metadata": {},
   "outputs": [
    {
     "data": {
      "text/plain": [
       "RandomForestRegressor(bootstrap=True, criterion='mse', max_depth=None,\n",
       "           max_features='auto', max_leaf_nodes=None,\n",
       "           min_impurity_decrease=0.0, min_impurity_split=None,\n",
       "           min_samples_leaf=1, min_samples_split=2,\n",
       "           min_weight_fraction_leaf=0.0, n_estimators=10, n_jobs=1,\n",
       "           oob_score=False, random_state=None, verbose=0, warm_start=False)"
      ]
     },
     "execution_count": 74,
     "metadata": {},
     "output_type": "execute_result"
    }
   ],
   "source": [
    "rfr.fit(X_main,y_main)"
   ]
  },
  {
   "cell_type": "code",
   "execution_count": 75,
   "metadata": {},
   "outputs": [
    {
     "name": "stdout",
     "output_type": "stream",
     "text": [
      "('LotArea', 0.37580416293026264)\n",
      "('LotShape', 0.023464278601511918)\n",
      "('LotConfig', 0.042269785251920836)\n",
      "('Neighborhood', 0.011384648001545511)\n",
      "('Condition1', 0.067098138960343542)\n",
      "('BldgType', 0.065037330543929836)\n",
      "('YearBuilt', 0.035964926280895045)\n",
      "('RoofStyle', 0.014744278152622168)\n",
      "('RoofMatl', 0.022378069066007027)\n",
      "('TotalBsmtSF', 0.032313813397356672)\n",
      "('1stFlrSF', 0.018673146769048722)\n",
      "('GrLivArea', 0.053887638264498786)\n",
      "('GarageArea', 0.038084981859373403)\n",
      "('SalePrice', 0.01904791085990102)\n"
     ]
    }
   ],
   "source": [
    "for i in zip([x for x in X_main.columns],rfr.feature_importances_):\n",
    "    if i[1] > 0.01:\n",
    "        print(i)"
   ]
  },
  {
   "cell_type": "code",
   "execution_count": 76,
   "metadata": {
    "collapsed": true
   },
   "outputs": [],
   "source": [
    "simplerModelColumns = []\n",
    "for i in zip([x for x in X_main.columns],rfr.feature_importances_):\n",
    "    if i[1] > 0.01:\n",
    "        simplerModelColumns.append(i[0])"
   ]
  },
  {
   "cell_type": "code",
   "execution_count": 77,
   "metadata": {},
   "outputs": [
    {
     "data": {
      "text/plain": [
       "['LotArea',\n",
       " 'LotShape',\n",
       " 'LotConfig',\n",
       " 'Neighborhood',\n",
       " 'Condition1',\n",
       " 'BldgType',\n",
       " 'YearBuilt',\n",
       " 'RoofStyle',\n",
       " 'RoofMatl',\n",
       " 'TotalBsmtSF',\n",
       " '1stFlrSF',\n",
       " 'GrLivArea',\n",
       " 'GarageArea',\n",
       " 'SalePrice']"
      ]
     },
     "execution_count": 77,
     "metadata": {},
     "output_type": "execute_result"
    }
   ],
   "source": [
    "simplerModelColumns"
   ]
  },
  {
   "cell_type": "code",
   "execution_count": 78,
   "metadata": {},
   "outputs": [],
   "source": [
    "#simplerModelColumns.remove(\"MoSold\")"
   ]
  },
  {
   "cell_type": "code",
   "execution_count": 79,
   "metadata": {
    "collapsed": true
   },
   "outputs": [],
   "source": [
    "X_main2 = X_main.copy()"
   ]
  },
  {
   "cell_type": "code",
   "execution_count": 80,
   "metadata": {
    "collapsed": true
   },
   "outputs": [],
   "source": [
    "X_main2 = X_main2[simplerModelColumns]"
   ]
  },
  {
   "cell_type": "code",
   "execution_count": 81,
   "metadata": {},
   "outputs": [
    {
     "name": "stdout",
     "output_type": "stream",
     "text": [
      "scores [ 0.52519871  0.35518756  0.52645962  0.46757286]\n",
      "np.mean(scores) 0.468604684602\n",
      "np.std(scores) 0.0696681178148\n"
     ]
    }
   ],
   "source": [
    "rfr = RandomForestRegressor()\n",
    "\n",
    "kf_shuffle = KFold(n_splits=4,shuffle=True,random_state=42)\n",
    "scores = cross_val_score(rfr, X_main2, y_main, cv=kf_shuffle)\n",
    "\n",
    "print(\"scores\",scores)\n",
    "print(\"np.mean(scores)\",np.mean(scores))\n",
    "print(\"np.std(scores)\",np.std(scores))"
   ]
  },
  {
   "cell_type": "markdown",
   "metadata": {},
   "source": [
    "### Better, but a lot of variance"
   ]
  },
  {
   "cell_type": "code",
   "execution_count": 82,
   "metadata": {},
   "outputs": [
    {
     "name": "stdout",
     "output_type": "stream",
     "text": [
      "scores [ 0.37313547  0.23757279  0.33391752  0.0571729 ]\n",
      "np.mean(scores) 0.250449669699\n",
      "np.std(scores) 0.122004523253\n"
     ]
    }
   ],
   "source": [
    "rfr = RandomForestRegressor()\n",
    "\n",
    "kf_shuffle = KFold(n_splits=4,shuffle=True,random_state=42)\n",
    "scores = cross_val_score(rfr, X_main2[[\"LotArea\"]], y_main, cv=kf_shuffle)\n",
    "\n",
    "print(\"scores\",scores)\n",
    "print(\"np.mean(scores)\",np.mean(scores))\n",
    "print(\"np.std(scores)\",np.std(scores))"
   ]
  },
  {
   "cell_type": "code",
   "execution_count": 83,
   "metadata": {},
   "outputs": [
    {
     "data": {
      "text/plain": [
       "RandomForestRegressor(bootstrap=True, criterion='mse', max_depth=None,\n",
       "           max_features='auto', max_leaf_nodes=None,\n",
       "           min_impurity_decrease=0.0, min_impurity_split=None,\n",
       "           min_samples_leaf=1, min_samples_split=2,\n",
       "           min_weight_fraction_leaf=0.0, n_estimators=10, n_jobs=1,\n",
       "           oob_score=False, random_state=None, verbose=0, warm_start=False)"
      ]
     },
     "execution_count": 83,
     "metadata": {},
     "output_type": "execute_result"
    }
   ],
   "source": [
    "rfr.fit(X_main2[simplerModelColumns],y_main)"
   ]
  },
  {
   "cell_type": "code",
   "execution_count": 84,
   "metadata": {},
   "outputs": [],
   "source": [
    "y_replace = rfr.predict(X_impute[simplerModelColumns])"
   ]
  },
  {
   "cell_type": "code",
   "execution_count": 85,
   "metadata": {
    "collapsed": true
   },
   "outputs": [],
   "source": [
    "y_impute = y_replace"
   ]
  },
  {
   "cell_type": "code",
   "execution_count": 86,
   "metadata": {
    "collapsed": true
   },
   "outputs": [],
   "source": [
    "yFinal = list(y_main) + list(y_impute)"
   ]
  },
  {
   "cell_type": "code",
   "execution_count": 87,
   "metadata": {},
   "outputs": [],
   "source": [
    "X_testImpute = pd.concat([X_main,X_impute])"
   ]
  },
  {
   "cell_type": "code",
   "execution_count": 88,
   "metadata": {},
   "outputs": [],
   "source": [
    "X_testImpute[\"LotFrontage\"] = yFinal"
   ]
  },
  {
   "cell_type": "markdown",
   "metadata": {},
   "source": [
    "### Ah, the imputation is done.  I mean I'm not going to GridSearch over columns, models, and parameters for one column that isn't even the best column.  At least not yet.\n",
    "\n",
    "### Let's take a look at the old correlation and the new correlation with the imputed values."
   ]
  },
  {
   "cell_type": "code",
   "execution_count": 89,
   "metadata": {},
   "outputs": [
    {
     "data": {
      "text/html": [
       "<div>\n",
       "<style>\n",
       "    .dataframe thead tr:only-child th {\n",
       "        text-align: right;\n",
       "    }\n",
       "\n",
       "    .dataframe thead th {\n",
       "        text-align: left;\n",
       "    }\n",
       "\n",
       "    .dataframe tbody tr th {\n",
       "        vertical-align: top;\n",
       "    }\n",
       "</style>\n",
       "<table border=\"1\" class=\"dataframe\">\n",
       "  <thead>\n",
       "    <tr style=\"text-align: right;\">\n",
       "      <th></th>\n",
       "      <th>LotFrontage</th>\n",
       "      <th>SalePrice</th>\n",
       "    </tr>\n",
       "  </thead>\n",
       "  <tbody>\n",
       "    <tr>\n",
       "      <th>LotFrontage</th>\n",
       "      <td>1.000000</td>\n",
       "      <td>0.354848</td>\n",
       "    </tr>\n",
       "    <tr>\n",
       "      <th>SalePrice</th>\n",
       "      <td>0.354848</td>\n",
       "      <td>1.000000</td>\n",
       "    </tr>\n",
       "  </tbody>\n",
       "</table>\n",
       "</div>"
      ],
      "text/plain": [
       "             LotFrontage  SalePrice\n",
       "LotFrontage     1.000000   0.354848\n",
       "SalePrice       0.354848   1.000000"
      ]
     },
     "execution_count": 89,
     "metadata": {},
     "output_type": "execute_result"
    }
   ],
   "source": [
    "df[[\"LotFrontage\",\"SalePrice\"]].corr() #old stuff"
   ]
  },
  {
   "cell_type": "code",
   "execution_count": 90,
   "metadata": {},
   "outputs": [
    {
     "data": {
      "text/html": [
       "<div>\n",
       "<style>\n",
       "    .dataframe thead tr:only-child th {\n",
       "        text-align: right;\n",
       "    }\n",
       "\n",
       "    .dataframe thead th {\n",
       "        text-align: left;\n",
       "    }\n",
       "\n",
       "    .dataframe tbody tr th {\n",
       "        vertical-align: top;\n",
       "    }\n",
       "</style>\n",
       "<table border=\"1\" class=\"dataframe\">\n",
       "  <thead>\n",
       "    <tr style=\"text-align: right;\">\n",
       "      <th></th>\n",
       "      <th>LotFrontage</th>\n",
       "      <th>SalePrice</th>\n",
       "    </tr>\n",
       "  </thead>\n",
       "  <tbody>\n",
       "    <tr>\n",
       "      <th>LotFrontage</th>\n",
       "      <td>1.000000</td>\n",
       "      <td>0.346703</td>\n",
       "    </tr>\n",
       "    <tr>\n",
       "      <th>SalePrice</th>\n",
       "      <td>0.346703</td>\n",
       "      <td>1.000000</td>\n",
       "    </tr>\n",
       "  </tbody>\n",
       "</table>\n",
       "</div>"
      ],
      "text/plain": [
       "             LotFrontage  SalePrice\n",
       "LotFrontage     1.000000   0.346703\n",
       "SalePrice       0.346703   1.000000"
      ]
     },
     "execution_count": 90,
     "metadata": {},
     "output_type": "execute_result"
    }
   ],
   "source": [
    "X_testImpute[[\"LotFrontage\",\"SalePrice\"]].corr() #with imputed values"
   ]
  },
  {
   "cell_type": "markdown",
   "metadata": {},
   "source": [
    "### Bascially the same! Fantastic!\n",
    "\n",
    "### Now I'm going to show the old untouched values and their correlation with SalePrice, and then the new imputed values and their correlation with SalePrice."
   ]
  },
  {
   "cell_type": "code",
   "execution_count": 91,
   "metadata": {},
   "outputs": [
    {
     "data": {
      "text/html": [
       "<div>\n",
       "<style>\n",
       "    .dataframe thead tr:only-child th {\n",
       "        text-align: right;\n",
       "    }\n",
       "\n",
       "    .dataframe thead th {\n",
       "        text-align: left;\n",
       "    }\n",
       "\n",
       "    .dataframe tbody tr th {\n",
       "        vertical-align: top;\n",
       "    }\n",
       "</style>\n",
       "<table border=\"1\" class=\"dataframe\">\n",
       "  <thead>\n",
       "    <tr style=\"text-align: right;\">\n",
       "      <th></th>\n",
       "      <th>LotFrontage</th>\n",
       "      <th>SalePrice</th>\n",
       "    </tr>\n",
       "  </thead>\n",
       "  <tbody>\n",
       "    <tr>\n",
       "      <th>LotFrontage</th>\n",
       "      <td>1.000000</td>\n",
       "      <td>0.354848</td>\n",
       "    </tr>\n",
       "    <tr>\n",
       "      <th>SalePrice</th>\n",
       "      <td>0.354848</td>\n",
       "      <td>1.000000</td>\n",
       "    </tr>\n",
       "  </tbody>\n",
       "</table>\n",
       "</div>"
      ],
      "text/plain": [
       "             LotFrontage  SalePrice\n",
       "LotFrontage     1.000000   0.354848\n",
       "SalePrice       0.354848   1.000000"
      ]
     },
     "execution_count": 91,
     "metadata": {},
     "output_type": "execute_result"
    }
   ],
   "source": [
    "X_testImpute[[\"LotFrontage\",\"SalePrice\"]][:1191].corr() # only old values"
   ]
  },
  {
   "cell_type": "markdown",
   "metadata": {},
   "source": [
    "### Okay so the old values have an identical affect.  Good.  Otherwise it means we did the whole process wrong."
   ]
  },
  {
   "cell_type": "code",
   "execution_count": 92,
   "metadata": {},
   "outputs": [
    {
     "data": {
      "text/html": [
       "<div>\n",
       "<style>\n",
       "    .dataframe thead tr:only-child th {\n",
       "        text-align: right;\n",
       "    }\n",
       "\n",
       "    .dataframe thead th {\n",
       "        text-align: left;\n",
       "    }\n",
       "\n",
       "    .dataframe tbody tr th {\n",
       "        vertical-align: top;\n",
       "    }\n",
       "</style>\n",
       "<table border=\"1\" class=\"dataframe\">\n",
       "  <thead>\n",
       "    <tr style=\"text-align: right;\">\n",
       "      <th></th>\n",
       "      <th>LotFrontage</th>\n",
       "      <th>SalePrice</th>\n",
       "    </tr>\n",
       "  </thead>\n",
       "  <tbody>\n",
       "    <tr>\n",
       "      <th>LotFrontage</th>\n",
       "      <td>1.000000</td>\n",
       "      <td>0.306182</td>\n",
       "    </tr>\n",
       "    <tr>\n",
       "      <th>SalePrice</th>\n",
       "      <td>0.306182</td>\n",
       "      <td>1.000000</td>\n",
       "    </tr>\n",
       "  </tbody>\n",
       "</table>\n",
       "</div>"
      ],
      "text/plain": [
       "             LotFrontage  SalePrice\n",
       "LotFrontage     1.000000   0.306182\n",
       "SalePrice       0.306182   1.000000"
      ]
     },
     "execution_count": 92,
     "metadata": {},
     "output_type": "execute_result"
    }
   ],
   "source": [
    "X_testImpute[[\"LotFrontage\",\"SalePrice\"]][1191:1450].corr() #only new imputed stuff"
   ]
  },
  {
   "cell_type": "code",
   "execution_count": 94,
   "metadata": {},
   "outputs": [
    {
     "name": "stdout",
     "output_type": "stream",
     "text": [
      "0.8628539543691948\n"
     ]
    }
   ],
   "source": [
    "print(0.306182/0.354848)"
   ]
  },
  {
   "cell_type": "markdown",
   "metadata": {},
   "source": [
    "### Amazing!  We're barely losing anything!\n",
    "\n",
    "### Now I just have to shuffle the original df around so it's ordered in the same way, and then I can accept these new values into the LotFrontage column."
   ]
  },
  {
   "cell_type": "code",
   "execution_count": 95,
   "metadata": {
    "collapsed": true
   },
   "outputs": [],
   "source": [
    "# X_impute = X[X[\"LotFrontage\"].isnull()==True].drop(\"LotFrontage\",axis=1)\n",
    "# y_impute = X[X[\"LotFrontage\"].isnull()==True][\"LotFrontage\"]\n",
    "# X_main = X[X[\"LotFrontage\"].isnull()==False].drop(\"LotFrontage\",axis=1)\n",
    "# y_main = X[X[\"LotFrontage\"].isnull()==False][\"LotFrontage\"]"
   ]
  },
  {
   "cell_type": "code",
   "execution_count": 96,
   "metadata": {
    "collapsed": true
   },
   "outputs": [],
   "source": [
    "dfPart1 = df[df[\"LotFrontage\"].isnull()==False]\n",
    "dfPart2 = df[df[\"LotFrontage\"].isnull()==True]"
   ]
  },
  {
   "cell_type": "code",
   "execution_count": 97,
   "metadata": {
    "collapsed": true
   },
   "outputs": [],
   "source": [
    "df2 = pd.concat([dfPart1,dfPart2])"
   ]
  },
  {
   "cell_type": "code",
   "execution_count": 98,
   "metadata": {},
   "outputs": [
    {
     "data": {
      "text/html": [
       "<div>\n",
       "<style>\n",
       "    .dataframe thead tr:only-child th {\n",
       "        text-align: right;\n",
       "    }\n",
       "\n",
       "    .dataframe thead th {\n",
       "        text-align: left;\n",
       "    }\n",
       "\n",
       "    .dataframe tbody tr th {\n",
       "        vertical-align: top;\n",
       "    }\n",
       "</style>\n",
       "<table border=\"1\" class=\"dataframe\">\n",
       "  <thead>\n",
       "    <tr style=\"text-align: right;\">\n",
       "      <th></th>\n",
       "      <th>LotFrontage</th>\n",
       "      <th>SalePrice</th>\n",
       "    </tr>\n",
       "  </thead>\n",
       "  <tbody>\n",
       "    <tr>\n",
       "      <th>LotFrontage</th>\n",
       "      <td>1.000000</td>\n",
       "      <td>0.354848</td>\n",
       "    </tr>\n",
       "    <tr>\n",
       "      <th>SalePrice</th>\n",
       "      <td>0.354848</td>\n",
       "      <td>1.000000</td>\n",
       "    </tr>\n",
       "  </tbody>\n",
       "</table>\n",
       "</div>"
      ],
      "text/plain": [
       "             LotFrontage  SalePrice\n",
       "LotFrontage     1.000000   0.354848\n",
       "SalePrice       0.354848   1.000000"
      ]
     },
     "execution_count": 98,
     "metadata": {},
     "output_type": "execute_result"
    }
   ],
   "source": [
    "df2[[\"LotFrontage\",\"SalePrice\"]][:].corr()"
   ]
  },
  {
   "cell_type": "code",
   "execution_count": 99,
   "metadata": {
    "collapsed": true
   },
   "outputs": [],
   "source": [
    "df2[\"LotFrontage\"] = X_testImpute[\"LotFrontage\"]"
   ]
  },
  {
   "cell_type": "code",
   "execution_count": 100,
   "metadata": {},
   "outputs": [
    {
     "data": {
      "text/html": [
       "<div>\n",
       "<style>\n",
       "    .dataframe thead tr:only-child th {\n",
       "        text-align: right;\n",
       "    }\n",
       "\n",
       "    .dataframe thead th {\n",
       "        text-align: left;\n",
       "    }\n",
       "\n",
       "    .dataframe tbody tr th {\n",
       "        vertical-align: top;\n",
       "    }\n",
       "</style>\n",
       "<table border=\"1\" class=\"dataframe\">\n",
       "  <thead>\n",
       "    <tr style=\"text-align: right;\">\n",
       "      <th></th>\n",
       "      <th>LotFrontage</th>\n",
       "      <th>SalePrice</th>\n",
       "    </tr>\n",
       "  </thead>\n",
       "  <tbody>\n",
       "    <tr>\n",
       "      <th>LotFrontage</th>\n",
       "      <td>1.000000</td>\n",
       "      <td>0.346703</td>\n",
       "    </tr>\n",
       "    <tr>\n",
       "      <th>SalePrice</th>\n",
       "      <td>0.346703</td>\n",
       "      <td>1.000000</td>\n",
       "    </tr>\n",
       "  </tbody>\n",
       "</table>\n",
       "</div>"
      ],
      "text/plain": [
       "             LotFrontage  SalePrice\n",
       "LotFrontage     1.000000   0.346703\n",
       "SalePrice       0.346703   1.000000"
      ]
     },
     "execution_count": 100,
     "metadata": {},
     "output_type": "execute_result"
    }
   ],
   "source": [
    "df2[[\"LotFrontage\",\"SalePrice\"]][:].corr()"
   ]
  },
  {
   "cell_type": "code",
   "execution_count": 101,
   "metadata": {},
   "outputs": [
    {
     "data": {
      "text/html": [
       "<div>\n",
       "<style>\n",
       "    .dataframe thead tr:only-child th {\n",
       "        text-align: right;\n",
       "    }\n",
       "\n",
       "    .dataframe thead th {\n",
       "        text-align: left;\n",
       "    }\n",
       "\n",
       "    .dataframe tbody tr th {\n",
       "        vertical-align: top;\n",
       "    }\n",
       "</style>\n",
       "<table border=\"1\" class=\"dataframe\">\n",
       "  <thead>\n",
       "    <tr style=\"text-align: right;\">\n",
       "      <th></th>\n",
       "      <th>LotFrontage</th>\n",
       "      <th>SalePrice</th>\n",
       "    </tr>\n",
       "  </thead>\n",
       "  <tbody>\n",
       "    <tr>\n",
       "      <th>LotFrontage</th>\n",
       "      <td>1.000000</td>\n",
       "      <td>0.354848</td>\n",
       "    </tr>\n",
       "    <tr>\n",
       "      <th>SalePrice</th>\n",
       "      <td>0.354848</td>\n",
       "      <td>1.000000</td>\n",
       "    </tr>\n",
       "  </tbody>\n",
       "</table>\n",
       "</div>"
      ],
      "text/plain": [
       "             LotFrontage  SalePrice\n",
       "LotFrontage     1.000000   0.354848\n",
       "SalePrice       0.354848   1.000000"
      ]
     },
     "execution_count": 101,
     "metadata": {},
     "output_type": "execute_result"
    }
   ],
   "source": [
    "df2[[\"LotFrontage\",\"SalePrice\"]][:1191].corr()"
   ]
  },
  {
   "cell_type": "code",
   "execution_count": 102,
   "metadata": {},
   "outputs": [
    {
     "data": {
      "text/html": [
       "<div>\n",
       "<style>\n",
       "    .dataframe thead tr:only-child th {\n",
       "        text-align: right;\n",
       "    }\n",
       "\n",
       "    .dataframe thead th {\n",
       "        text-align: left;\n",
       "    }\n",
       "\n",
       "    .dataframe tbody tr th {\n",
       "        vertical-align: top;\n",
       "    }\n",
       "</style>\n",
       "<table border=\"1\" class=\"dataframe\">\n",
       "  <thead>\n",
       "    <tr style=\"text-align: right;\">\n",
       "      <th></th>\n",
       "      <th>LotFrontage</th>\n",
       "      <th>SalePrice</th>\n",
       "    </tr>\n",
       "  </thead>\n",
       "  <tbody>\n",
       "    <tr>\n",
       "      <th>LotFrontage</th>\n",
       "      <td>1.000000</td>\n",
       "      <td>0.306182</td>\n",
       "    </tr>\n",
       "    <tr>\n",
       "      <th>SalePrice</th>\n",
       "      <td>0.306182</td>\n",
       "      <td>1.000000</td>\n",
       "    </tr>\n",
       "  </tbody>\n",
       "</table>\n",
       "</div>"
      ],
      "text/plain": [
       "             LotFrontage  SalePrice\n",
       "LotFrontage     1.000000   0.306182\n",
       "SalePrice       0.306182   1.000000"
      ]
     },
     "execution_count": 102,
     "metadata": {},
     "output_type": "execute_result"
    }
   ],
   "source": [
    "df2[[\"LotFrontage\",\"SalePrice\"]][1191:1450].corr()"
   ]
  },
  {
   "cell_type": "markdown",
   "metadata": {},
   "source": [
    "### Okay everything checks out!\n",
    "\n",
    "### Now I think I'm going to get rid of irrelevant columns"
   ]
  },
  {
   "cell_type": "code",
   "execution_count": 103,
   "metadata": {
    "collapsed": true
   },
   "outputs": [],
   "source": [
    "df = 0\n",
    "X_testImpute = 0\n",
    "X_main = 0\n",
    "X_impute = 0\n",
    "y_main = 0\n",
    "y_impute = 0\n",
    "y_replace = 0\n",
    "dfPart1 = 0\n",
    "dfPart2 = 0\n",
    "#clearing memory"
   ]
  },
  {
   "cell_type": "code",
   "execution_count": 104,
   "metadata": {},
   "outputs": [],
   "source": [
    "df2 = df2.drop(\"Id\",axis=1)"
   ]
  },
  {
   "cell_type": "markdown",
   "metadata": {},
   "source": [
    "### I'm going to write a function that flags a column whose value_counts() have 90% or more of their values as one value.  These sorts of columns should probably be dropped and for now (I can always come back), I'm going to drop them and shift to df3."
   ]
  },
  {
   "cell_type": "code",
   "execution_count": 105,
   "metadata": {
    "collapsed": true
   },
   "outputs": [],
   "source": [
    "def flag90(theDf,theColumn):\n",
    "    '''returns True if column has 90% or more of value_counts() in just one value'''\n",
    "    if max(theDf[theColumn].value_counts())/len(theDf) > 0.89:\n",
    "        return True\n",
    "    else:\n",
    "        return False"
   ]
  },
  {
   "cell_type": "code",
   "execution_count": 106,
   "metadata": {},
   "outputs": [],
   "source": [
    "flagged90 = []\n",
    "for i in df2.columns:\n",
    "    if flag90(df2,i) == True:\n",
    "        flagged90.append(i)"
   ]
  },
  {
   "cell_type": "code",
   "execution_count": 107,
   "metadata": {},
   "outputs": [
    {
     "data": {
      "text/plain": [
       "['Street',\n",
       " 'LandContour',\n",
       " 'Utilities',\n",
       " 'LandSlope',\n",
       " 'Condition2',\n",
       " 'RoofMatl',\n",
       " 'BsmtCond',\n",
       " 'Heating',\n",
       " 'CentralAir',\n",
       " 'Electrical',\n",
       " 'LowQualFinSF',\n",
       " 'BsmtHalfBath',\n",
       " 'KitchenAbvGr',\n",
       " 'Functional',\n",
       " 'GarageQual',\n",
       " 'GarageCond',\n",
       " 'PavedDrive',\n",
       " '3SsnPorch',\n",
       " 'ScreenPorch',\n",
       " 'PoolArea',\n",
       " 'MiscVal']"
      ]
     },
     "execution_count": 107,
     "metadata": {},
     "output_type": "execute_result"
    }
   ],
   "source": [
    "flagged90"
   ]
  },
  {
   "cell_type": "code",
   "execution_count": 108,
   "metadata": {
    "collapsed": true
   },
   "outputs": [],
   "source": [
    "df3 = df2.copy()"
   ]
  },
  {
   "cell_type": "code",
   "execution_count": 109,
   "metadata": {},
   "outputs": [],
   "source": [
    "for i in flagged90:\n",
    "    df3 = df3.drop(i,axis=1)"
   ]
  },
  {
   "cell_type": "code",
   "execution_count": 122,
   "metadata": {},
   "outputs": [],
   "source": [
    "df4 = df3.copy() #So I can run the model a bunch of times"
   ]
  },
  {
   "cell_type": "code",
   "execution_count": 123,
   "metadata": {
    "collapsed": true
   },
   "outputs": [],
   "source": [
    "for i in df4.columns:\n",
    "    if type(df4[i][0]) == str:\n",
    "        df4[i] = keyer(df4,i)"
   ]
  },
  {
   "cell_type": "markdown",
   "metadata": {},
   "source": [
    "### Let's see how well the remaining columns do individually at predicting SalePrice."
   ]
  },
  {
   "cell_type": "code",
   "execution_count": 124,
   "metadata": {
    "collapsed": true
   },
   "outputs": [],
   "source": [
    "def predictiveness(theDf,target,verbose=False,splits=5):\n",
    "    X_f = theDf.drop(target,axis=1)\n",
    "    y_f = theDf[target]\n",
    "    \n",
    "    report = []\n",
    "    counter = 0\n",
    "    for i in X_f.columns:\n",
    "        rfr_f = RandomForestRegressor()\n",
    "        \n",
    "        kf_shuffle = KFold(n_splits=splits,shuffle=True,random_state=42)\n",
    "        scores = cross_val_score(rfr_f, X_f[[i]], y_f, cv=kf_shuffle)\n",
    "\n",
    "        #print(\"scores\",scores)\n",
    "        #print(\"np.mean(scores)\",np.mean(scores))\n",
    "        #print(\"np.std(scores)\",np.std(scores))\n",
    "        report.append([i,np.mean(scores)])\n",
    "        if verbose == True:\n",
    "            counter += 1\n",
    "            print(counter,\"done out of\",len(theDf.columns),\"columns\")\n",
    "    return report"
   ]
  },
  {
   "cell_type": "code",
   "execution_count": 125,
   "metadata": {},
   "outputs": [],
   "source": [
    "report_1 = predictiveness(df4,\"SalePrice\")"
   ]
  },
  {
   "cell_type": "code",
   "execution_count": 126,
   "metadata": {},
   "outputs": [
    {
     "name": "stdout",
     "output_type": "stream",
     "text": [
      "['MSSubClass', 0.2259896149274514]\n",
      "['MSZoning', 0.089518411086622021]\n",
      "['LotFrontage', 0.0098164824475384712]\n",
      "['LotArea', -0.087068572469190114]\n",
      "['LotShape', 0.062079475534531879]\n",
      "['LotConfig', 0.0086382895397315584]\n",
      "['Neighborhood', 0.52985358359033607]\n",
      "['Condition1', 0.021775235411782456]\n",
      "['BldgType', 0.028059579923715928]\n",
      "['HouseStyle', 0.066343020302406949]\n",
      "['OverallQual', 0.66637970386107437]\n",
      "['OverallCond', 0.10750145935931424]\n",
      "['YearBuilt', 0.31589571560741792]\n",
      "['YearRemodAdd', 0.23317553654341028]\n",
      "['RoofStyle', 0.04481285857496338]\n",
      "['Exterior1st', 0.119737074409011]\n",
      "['Exterior2nd', 0.10279292278498778]\n",
      "['MasVnrType', 0.17176625033891643]\n",
      "['MasVnrArea', -0.045077908897557008]\n",
      "['ExterQual', 0.46211354946124272]\n",
      "['ExterCond', 0.013246843386668882]\n",
      "['Foundation', 0.24949556436107842]\n",
      "['BsmtQual', 0.45764103147572499]\n",
      "['BsmtExposure', 0.13462420551912044]\n",
      "['BsmtFinType1', 0.20149892118349033]\n",
      "['BsmtFinSF1', 0.026779017406115279]\n",
      "['BsmtFinType2', 0.019870529378223579]\n",
      "['BsmtFinSF2', -0.011632886993630142]\n",
      "['BsmtUnfSF', -0.29953054402718149]\n",
      "['TotalBsmtSF', 0.26581093320368787]\n",
      "['HeatingQC', 0.18491434020405931]\n",
      "['1stFlrSF', 0.18237864900465922]\n",
      "['2ndFlrSF', 0.12654778682797654]\n",
      "['GrLivArea', 0.28634991179105246]\n",
      "['BsmtFullBath', 0.040824644490047232]\n",
      "['FullBath', 0.30692218127810861]\n",
      "['HalfBath', 0.083785256966838847]\n",
      "['BedroomAbvGr', 0.01110447556797578]\n",
      "['KitchenQual', 0.4481810375499376]\n",
      "['TotRmsAbvGrd', 0.256004073905364]\n",
      "['Fireplaces', 0.21388522124586135]\n",
      "['FireplaceQu', 0.27903378510508209]\n",
      "['GarageType', 0.23419699312808392]\n",
      "['GarageYrBlt', 0.28086273449087351]\n",
      "['GarageFinish', 0.30640497575155362]\n",
      "['GarageCars', 0.48318375906912425]\n",
      "['GarageArea', 0.31960973910753498]\n",
      "['WoodDeckSF', -0.093720278855943404]\n",
      "['OpenPorchSF', 0.060296016661514205]\n",
      "['EnclosedPorch', -0.0013606148077977887]\n",
      "['Fence', 0.025280180903680005]\n",
      "['MoSold', -0.015964867110349855]\n",
      "['YrSold', -0.011577873094273494]\n",
      "['SaleType', 0.11648933927493452]\n",
      "['SaleCondition', 0.12494448177632263]\n"
     ]
    }
   ],
   "source": [
    "for i in report_1:\n",
    "    print(i)"
   ]
  },
  {
   "cell_type": "markdown",
   "metadata": {},
   "source": [
    "### Actually real quick I want to see where we're at just with clean data and useless columns cut."
   ]
  },
  {
   "cell_type": "code",
   "execution_count": 128,
   "metadata": {},
   "outputs": [
    {
     "name": "stdout",
     "output_type": "stream",
     "text": [
      "scores [ 0.80373393  0.87152903  0.85733003  0.82048714]\n",
      "np.mean(scores) 0.838270031778\n",
      "np.std(scores) 0.0272874419372\n"
     ]
    }
   ],
   "source": [
    "X = df4.drop(\"SalePrice\",axis=1)\n",
    "y = df4[\"SalePrice\"]\n",
    "\n",
    "rfr = RandomForestRegressor()\n",
    "        \n",
    "kf_shuffle = KFold(n_splits=4,shuffle=True,random_state=42)\n",
    "scores = cross_val_score(rfr, X, y, cv=kf_shuffle)\n",
    "\n",
    "print(\"scores\",scores)\n",
    "print(\"np.mean(scores)\",np.mean(scores))\n",
    "print(\"np.std(scores)\",np.std(scores))"
   ]
  },
  {
   "cell_type": "markdown",
   "metadata": {},
   "source": [
    "### Wow, we're around the score I submitted in school and all I did was impute one column really well and cut absolutely useless columns.\n",
    "\n",
    "### Now I should use feature importances from this model and simplify.  What I'm going to do is let it run 100 times, because these are randomForests and they will have different approaches sometimes, and whatever features make it even once past the 0.01% importance treshold, these will be included in our \"simpler\" model."
   ]
  },
  {
   "cell_type": "code",
   "execution_count": 150,
   "metadata": {},
   "outputs": [],
   "source": [
    "importantFeatures = []\n",
    "for _ in range(100):\n",
    "    rfr.fit(X,y)\n",
    "    for i in zip(X.columns,rfr.feature_importances_):\n",
    "        if i[1] > 0.01 and i[0] not in importantFeatures:\n",
    "            importantFeatures.append(i[0])"
   ]
  },
  {
   "cell_type": "code",
   "execution_count": null,
   "metadata": {},
   "outputs": [],
   "source": []
  },
  {
   "cell_type": "code",
   "execution_count": 151,
   "metadata": {},
   "outputs": [
    {
     "data": {
      "text/plain": [
       "['LotArea',\n",
       " 'OverallQual',\n",
       " 'YearRemodAdd',\n",
       " 'BsmtFinSF1',\n",
       " 'TotalBsmtSF',\n",
       " '1stFlrSF',\n",
       " '2ndFlrSF',\n",
       " 'GrLivArea',\n",
       " 'GarageCars',\n",
       " 'GarageArea',\n",
       " 'YearBuilt',\n",
       " 'FullBath',\n",
       " 'LotFrontage',\n",
       " 'TotRmsAbvGrd',\n",
       " 'BsmtQual',\n",
       " 'GarageYrBlt',\n",
       " 'MasVnrArea',\n",
       " 'ExterQual',\n",
       " 'KitchenQual',\n",
       " 'OpenPorchSF',\n",
       " 'BsmtUnfSF',\n",
       " 'WoodDeckSF']"
      ]
     },
     "execution_count": 151,
     "metadata": {},
     "output_type": "execute_result"
    }
   ],
   "source": [
    "importantFeatures"
   ]
  },
  {
   "cell_type": "code",
   "execution_count": 155,
   "metadata": {},
   "outputs": [],
   "source": [
    "avgScore = []\n",
    "avgStdDev = []\n",
    "for i in range(10):\n",
    "    rfr2 = RandomForestRegressor()\n",
    "\n",
    "    kf_shuffle = KFold(n_splits=4,shuffle=True,random_state=42)\n",
    "    scores = cross_val_score(rfr2, X[importantFeatures], y, cv=kf_shuffle)\n",
    "    avgScore.append(np.mean(scores))\n",
    "    avgStdDev.append(np.std(scores))\n",
    "    #print(\"scores\",scores)\n",
    "    #print(\"np.mean(scores)\",np.mean(scores))\n",
    "    #print(\"np.std(scores)\",np.std(scores))\n",
    "avgScore = np.mean(avgScore)\n",
    "avgStdDev = np.mean(avgStdDev)"
   ]
  },
  {
   "cell_type": "code",
   "execution_count": 157,
   "metadata": {},
   "outputs": [
    {
     "name": "stdout",
     "output_type": "stream",
     "text": [
      "0.831292659786 0.0391347869365\n"
     ]
    }
   ],
   "source": [
    "print(avgScore,avgStdDev)"
   ]
  },
  {
   "cell_type": "markdown",
   "metadata": {},
   "source": [
    "### Well we have a much simpler model and we've retained most of the strength, so that's wonderful.  Glad to see LotFrontage made it as well!"
   ]
  },
  {
   "cell_type": "markdown",
   "metadata": {},
   "source": [
    "###  Now I'd actually like to see what kind of predicting this model is doing right now.  Where is it getting tripped up?  Is there any edge we can get there?"
   ]
  },
  {
   "cell_type": "code",
   "execution_count": 160,
   "metadata": {},
   "outputs": [],
   "source": [
    "rfr3 = RandomForestRegressor()\n",
    "#rfr3.fit(X[importantFeatures],y)"
   ]
  },
  {
   "cell_type": "code",
   "execution_count": 162,
   "metadata": {
    "collapsed": true
   },
   "outputs": [],
   "source": [
    "X = X[importantFeatures]"
   ]
  },
  {
   "cell_type": "code",
   "execution_count": 163,
   "metadata": {
    "collapsed": true
   },
   "outputs": [],
   "source": [
    "from sklearn.model_selection import train_test_split\n",
    "X_train, X_test, y_train, y_test = train_test_split(X, y, test_size=0.25)"
   ]
  },
  {
   "cell_type": "code",
   "execution_count": 165,
   "metadata": {},
   "outputs": [
    {
     "data": {
      "text/plain": [
       "RandomForestRegressor(bootstrap=True, criterion='mse', max_depth=None,\n",
       "           max_features='auto', max_leaf_nodes=None,\n",
       "           min_impurity_decrease=0.0, min_impurity_split=None,\n",
       "           min_samples_leaf=1, min_samples_split=2,\n",
       "           min_weight_fraction_leaf=0.0, n_estimators=10, n_jobs=1,\n",
       "           oob_score=False, random_state=None, verbose=0, warm_start=False)"
      ]
     },
     "execution_count": 165,
     "metadata": {},
     "output_type": "execute_result"
    }
   ],
   "source": [
    "rfr3.fit(X_train,y_train)"
   ]
  },
  {
   "cell_type": "code",
   "execution_count": 167,
   "metadata": {},
   "outputs": [],
   "source": [
    "predictions = rfr3.predict(X_test)"
   ]
  },
  {
   "cell_type": "code",
   "execution_count": 180,
   "metadata": {
    "collapsed": true
   },
   "outputs": [],
   "source": [
    "offBy = abs(y_test-predictions)"
   ]
  },
  {
   "cell_type": "code",
   "execution_count": 181,
   "metadata": {},
   "outputs": [
    {
     "data": {
      "text/plain": [
       "(array([ 219.,   91.,   27.,   13.,    3.,    4.,    1.,    2.,    2.,    1.]),\n",
       " array([  8.00000000e+01,   1.48201100e+04,   2.95602200e+04,\n",
       "          4.43003300e+04,   5.90404400e+04,   7.37805500e+04,\n",
       "          8.85206600e+04,   1.03260770e+05,   1.18000880e+05,\n",
       "          1.32740990e+05,   1.47481100e+05]),\n",
       " <a list of 10 Patch objects>)"
      ]
     },
     "execution_count": 181,
     "metadata": {},
     "output_type": "execute_result"
    },
    {
     "data": {
      "image/png": "[encoded data removed]",
      "text/plain": [
       "<matplotlib.figure.Figure at 0x7f70834d8160>"
      ]
     },
     "metadata": {},
     "output_type": "display_data"
    }
   ],
   "source": [
    "plt.hist(offBy)"
   ]
  },
  {
   "cell_type": "code",
   "execution_count": 187,
   "metadata": {},
   "outputs": [
    {
     "data": {
      "image/png": "[encoded data removed]",
      "text/plain": [
       "<matplotlib.figure.Figure at 0x7f7081145438>"
      ]
     },
     "metadata": {},
     "output_type": "display_data"
    }
   ],
   "source": [
    "plt.scatter(y_test,offBy);\n",
    "plt.xlabel(\"SalePrice\");\n",
    "plt.ylabel(\"how much we missed by\");"
   ]
  },
  {
   "cell_type": "markdown",
   "metadata": {},
   "source": [
    "### Ah, the higher the price, the more off we are, and the higher it gets, the fewer the values.  We need to be predicting log price."
   ]
  },
  {
   "cell_type": "code",
   "execution_count": 189,
   "metadata": {
    "collapsed": true
   },
   "outputs": [],
   "source": [
    "y2 = [math.log(x) for x in y]"
   ]
  },
  {
   "cell_type": "code",
   "execution_count": 220,
   "metadata": {},
   "outputs": [
    {
     "name": "stdout",
     "output_type": "stream",
     "text": [
      "scores [ 0.81416322  0.84787705  0.85595935  0.87738976]\n",
      "np.mean(scores) 0.848847344315\n",
      "np.std(scores) 0.02274411924\n"
     ]
    }
   ],
   "source": [
    "rfr4 = RandomForestRegressor()\n",
    "\n",
    "kf_shuffle = KFold(n_splits=4,shuffle=True,random_state=42)\n",
    "scores = cross_val_score(rfr4, X, y2, cv=kf_shuffle)\n",
    "\n",
    "print(\"scores\",scores)\n",
    "print(\"np.mean(scores)\",np.mean(scores))\n",
    "print(\"np.std(scores)\",np.std(scores))"
   ]
  },
  {
   "cell_type": "markdown",
   "metadata": {},
   "source": [
    "### There we go.  Much less variance too."
   ]
  },
  {
   "cell_type": "markdown",
   "metadata": {},
   "source": [
    "### All you need to do to get back the real predictions afterwards is math.exp() them."
   ]
  },
  {
   "cell_type": "markdown",
   "metadata": {},
   "source": [
    "### Alright, honestly I think most of the hard work has been done here.  \n",
    "\n",
    "### TPOT is a library that handles the rest.  Data importing and cleaning is something people do, but TPOT bruteforces the other part really well and I've cut its workload down some so it doesn't take forever.  I'm not using AWS to get a higher percentage.  That really isn't the point of this notebook.  But yeah, first I'm going to let it predict regularly (not log price.)"
   ]
  },
  {
   "cell_type": "code",
   "execution_count": 311,
   "metadata": {
    "collapsed": true
   },
   "outputs": [],
   "source": [
    "from tpot import TPOTRegressor"
   ]
  },
  {
   "cell_type": "code",
   "execution_count": 312,
   "metadata": {
    "collapsed": true
   },
   "outputs": [],
   "source": [
    "from sklearn.model_selection import train_test_split\n",
    "X_train, X_test, y_train, y_test = train_test_split(X, y, test_size=0.25)"
   ]
  },
  {
   "cell_type": "code",
   "execution_count": 313,
   "metadata": {
    "collapsed": true
   },
   "outputs": [],
   "source": [
    "rfr5 = RandomForestRegressor()"
   ]
  },
  {
   "cell_type": "code",
   "execution_count": 314,
   "metadata": {},
   "outputs": [
    {
     "data": {
      "text/plain": [
       "RandomForestRegressor(bootstrap=True, criterion='mse', max_depth=None,\n",
       "           max_features='auto', max_leaf_nodes=None,\n",
       "           min_impurity_decrease=0.0, min_impurity_split=None,\n",
       "           min_samples_leaf=1, min_samples_split=2,\n",
       "           min_weight_fraction_leaf=0.0, n_estimators=10, n_jobs=1,\n",
       "           oob_score=False, random_state=None, verbose=0, warm_start=False)"
      ]
     },
     "execution_count": 314,
     "metadata": {},
     "output_type": "execute_result"
    }
   ],
   "source": [
    "rfr5.fit(X_train,y_train)"
   ]
  },
  {
   "cell_type": "code",
   "execution_count": 315,
   "metadata": {},
   "outputs": [
    {
     "data": {
      "text/plain": [
       "0.81980535576818969"
      ]
     },
     "execution_count": 315,
     "metadata": {},
     "output_type": "execute_result"
    }
   ],
   "source": [
    "rfr5.score(X_test,y_test)"
   ]
  },
  {
   "cell_type": "code",
   "execution_count": null,
   "metadata": {
    "collapsed": true
   },
   "outputs": [],
   "source": []
  },
  {
   "cell_type": "code",
   "execution_count": 325,
   "metadata": {},
   "outputs": [
    {
     "name": "stdout",
     "output_type": "stream",
     "text": [
      "Version 0.9.0 of tpot is outdated. Version 0.9.2 was released Wednesday January 17, 2018.\n",
      "Warning: xgboost.XGBRegressor is not available and will not be used by TPOT.\n"
     ]
    }
   ],
   "source": [
    "tpot_clf_1 = TPOTRegressor(scoring=\"r2\",max_time_mins=10)"
   ]
  },
  {
   "cell_type": "code",
   "execution_count": 326,
   "metadata": {},
   "outputs": [
    {
     "data": {
      "text/plain": [
       "TPOTRegressor(config_dict={'sklearn.linear_model.ElasticNetCV': {'l1_ratio': array([ 0.  ,  0.05,  0.1 ,  0.15,  0.2 ,  0.25,  0.3 ,  0.35,  0.4 ,\n",
       "        0.45,  0.5 ,  0.55,  0.6 ,  0.65,  0.7 ,  0.75,  0.8 ,  0.85,\n",
       "        0.9 ,  0.95,  1.  ]), 'tol': [1e-05, 0.0001, 0.001, 0.01, 0.1]}, 'sklearn.ensemble.ExtraT....45,\n",
       "        0.5 ,  0.55,  0.6 ,  0.65,  0.7 ,  0.75,  0.8 ,  0.85,  0.9 ,\n",
       "        0.95,  1.  ])}}}},\n",
       "       crossover_rate=0.1, cv=5, disable_update_check=False,\n",
       "       early_stop=None, generations=1000000, max_eval_time_mins=5,\n",
       "       max_time_mins=10, mutation_rate=0.9, n_jobs=1, offspring_size=100,\n",
       "       periodic_checkpoint_folder=None, population_size=100,\n",
       "       random_state=None, scoring=None, subsample=1.0, verbosity=0,\n",
       "       warm_start=False)"
      ]
     },
     "execution_count": 326,
     "metadata": {},
     "output_type": "execute_result"
    }
   ],
   "source": [
    "tpot_clf_1.fit(X_train,pd.Series(y_train))"
   ]
  },
  {
   "cell_type": "code",
   "execution_count": 327,
   "metadata": {},
   "outputs": [],
   "source": [
    "#preds = tpot_clf_1.predict(X_test)"
   ]
  },
  {
   "cell_type": "code",
   "execution_count": 328,
   "metadata": {},
   "outputs": [],
   "source": [
    "# for i in range(len(preds)):\n",
    "#     print(abs(preds[i]-list(y_test)[i]))"
   ]
  },
  {
   "cell_type": "code",
   "execution_count": 329,
   "metadata": {},
   "outputs": [
    {
     "data": {
      "text/plain": [
       "0.86957458889924122"
      ]
     },
     "execution_count": 329,
     "metadata": {},
     "output_type": "execute_result"
    }
   ],
   "source": [
    "tpot_clf_1.score(X_test,pd.Series(y_test))"
   ]
  },
  {
   "cell_type": "markdown",
   "metadata": {},
   "source": [
    "### Okay and now with log price"
   ]
  },
  {
   "cell_type": "code",
   "execution_count": 331,
   "metadata": {
    "collapsed": true
   },
   "outputs": [],
   "source": [
    "from sklearn.model_selection import train_test_split\n",
    "X_train, X_test, y_train, y_test = train_test_split(X, y2, test_size=0.25)"
   ]
  },
  {
   "cell_type": "code",
   "execution_count": 332,
   "metadata": {},
   "outputs": [
    {
     "name": "stdout",
     "output_type": "stream",
     "text": [
      "Version 0.9.0 of tpot is outdated. Version 0.9.2 was released Wednesday January 17, 2018.\n",
      "Warning: xgboost.XGBRegressor is not available and will not be used by TPOT.\n"
     ]
    }
   ],
   "source": [
    "tp2 = TPOTRegressor(scoring=\"r2\",max_time_mins=10)"
   ]
  },
  {
   "cell_type": "code",
   "execution_count": 333,
   "metadata": {},
   "outputs": [
    {
     "data": {
      "text/plain": [
       "TPOTRegressor(config_dict={'sklearn.linear_model.ElasticNetCV': {'l1_ratio': array([ 0.  ,  0.05,  0.1 ,  0.15,  0.2 ,  0.25,  0.3 ,  0.35,  0.4 ,\n",
       "        0.45,  0.5 ,  0.55,  0.6 ,  0.65,  0.7 ,  0.75,  0.8 ,  0.85,\n",
       "        0.9 ,  0.95,  1.  ]), 'tol': [1e-05, 0.0001, 0.001, 0.01, 0.1]}, 'sklearn.ensemble.ExtraT....45,\n",
       "        0.5 ,  0.55,  0.6 ,  0.65,  0.7 ,  0.75,  0.8 ,  0.85,  0.9 ,\n",
       "        0.95,  1.  ])}}}},\n",
       "       crossover_rate=0.1, cv=5, disable_update_check=False,\n",
       "       early_stop=None, generations=1000000, max_eval_time_mins=5,\n",
       "       max_time_mins=10, mutation_rate=0.9, n_jobs=1, offspring_size=100,\n",
       "       periodic_checkpoint_folder=None, population_size=100,\n",
       "       random_state=None, scoring=None, subsample=1.0, verbosity=0,\n",
       "       warm_start=False)"
      ]
     },
     "execution_count": 333,
     "metadata": {},
     "output_type": "execute_result"
    }
   ],
   "source": [
    "tp2.fit(X_train,pd.Series(y_train))"
   ]
  },
  {
   "cell_type": "code",
   "execution_count": 334,
   "metadata": {},
   "outputs": [
    {
     "data": {
      "text/plain": [
       "0.91903131195735344"
      ]
     },
     "execution_count": 334,
     "metadata": {},
     "output_type": "execute_result"
    }
   ],
   "source": [
    "tp2.score(X_test,pd.Series(y_test))"
   ]
  },
  {
   "cell_type": "markdown",
   "metadata": {},
   "source": [
    "### Well okay then.  And that's TPOT running for 10 minutes on a home computer without the n_jobs parameter being increased and without training on the other 25% of the data.\n",
    "\n",
    "### AWS/TPOT has got to be a legendary black box\n",
    "\n",
    "\n",
    "### Anyhow yeah I'm going to pickle the model and reload it, and then show a couple graphs that sort of summarize where the model shines and doesn't shine."
   ]
  },
  {
   "cell_type": "code",
   "execution_count": 353,
   "metadata": {
    "collapsed": true
   },
   "outputs": [],
   "source": [
    "import pickle as pkl"
   ]
  },
  {
   "cell_type": "code",
   "execution_count": 359,
   "metadata": {},
   "outputs": [],
   "source": [
    "with open('tp2.pkl', 'wb') as f:\n",
    "    pkl.dump(tp2.fitted_pipeline_, f) "
   ]
  },
  {
   "cell_type": "code",
   "execution_count": 360,
   "metadata": {
    "collapsed": true
   },
   "outputs": [],
   "source": [
    "with open('tp2.pkl', 'rb') as f:\n",
    "    tp2Load = pkl.load(f)"
   ]
  },
  {
   "cell_type": "code",
   "execution_count": 366,
   "metadata": {},
   "outputs": [],
   "source": [
    "finalPredictionsOfInternalTestSplit = [math.exp(x) for x in tp2Load.predict(X_test)]"
   ]
  },
  {
   "cell_type": "code",
   "execution_count": 371,
   "metadata": {
    "collapsed": true
   },
   "outputs": [],
   "source": [
    "finalTest = [math.exp(x) for x in y_test]"
   ]
  },
  {
   "cell_type": "code",
   "execution_count": 375,
   "metadata": {},
   "outputs": [
    {
     "data": {
      "image/png": "[encoded data removed]",
      "text/plain": [
       "<matplotlib.figure.Figure at 0x7f7079042400>"
      ]
     },
     "metadata": {},
     "output_type": "display_data"
    }
   ],
   "source": [
    "plt.scatter(finalPredictionsOfInternalTestSplit,finalTest);\n",
    "plt.xlabel(\"predictedValue\");\n",
    "plt.ylabel(\"actualValue\");"
   ]
  },
  {
   "cell_type": "code",
   "execution_count": 377,
   "metadata": {},
   "outputs": [],
   "source": [
    "finalAbsDiff = [abs(x-y) for x,y in zip(finalPredictionsOfInternalTestSplit,finalTest)]"
   ]
  },
  {
   "cell_type": "code",
   "execution_count": 382,
   "metadata": {},
   "outputs": [
    {
     "data": {
      "image/png": "[encoded data removed]",
      "text/plain": [
       "<matplotlib.figure.Figure at 0x7f7078b5f390>"
      ]
     },
     "metadata": {},
     "output_type": "display_data"
    }
   ],
   "source": [
    "plt.hist(finalAbsDiff,bins=100);\n",
    "plt.xlabel(\"how much we're off by (USD)\");\n",
    "plt.ylabel(\"number of predictions\");"
   ]
  },
  {
   "cell_type": "markdown",
   "metadata": {},
   "source": [
    "### I think the nutshell about this model and everything is that it's good at predicting houses as long as they're cheap and not great at predicting them when they're expensive, even despite the log price pseudofix, and I don't think that's particularly weird either, because we didn't have a lot of costly houses in the dataset, and it's also a relatively small dataset as far as len(df) goes."
   ]
  },
  {
   "cell_type": "code",
   "execution_count": null,
   "metadata": {
    "collapsed": true
   },
   "outputs": [],
   "source": []
  }
 ],
 "metadata": {
  "kernelspec": {
   "display_name": "Python 3",
   "language": "python",
   "name": "python3"
  },
  "language_info": {
   "codemirror_mode": {
    "name": "ipython",
    "version": 3
   },
   "file_extension": ".py",
   "mimetype": "text/x-python",
   "name": "python",
   "nbconvert_exporter": "python",
   "pygments_lexer": "ipython3",
   "version": "3.6.1"
  }
 },
 "nbformat": 4,
 "nbformat_minor": 2
}
