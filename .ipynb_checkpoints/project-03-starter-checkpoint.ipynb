{
 "cells": [
  {
   "cell_type": "markdown",
   "metadata": {},
   "source": [
    "<img src=\"http://imgur.com/1ZcRyrc.png\" style=\"float: left; margin: 15px; height: 80px\">\n",
    "\n",
    "# Project 3\n",
    "\n",
    "### Regression and Classification with the Ames Housing Data\n",
    "\n",
    "---\n",
    "\n",
    "You have just joined a new \"full stack\" real estate company in Ames, Iowa. The strategy of the firm is two-fold:\n",
    "- Own the entire process from the purchase of the land all the way to sale of the house, and anything in between.\n",
    "- Use statistical analysis to optimize investment and maximize return.\n",
    "\n",
    "The company is still small, and though investment is substantial the short-term goals of the company are more oriented towards purchasing existing houses and flipping them as opposed to constructing entirely new houses. That being said, the company has access to a large construction workforce operating at rock-bottom prices.\n",
    "\n",
    "This project uses the [Ames housing data recently made available on kaggle](https://www.kaggle.com/c/house-prices-advanced-regression-techniques)."
   ]
  },
  {
   "cell_type": "code",
   "execution_count": 2,
   "metadata": {
    "collapsed": true
   },
   "outputs": [],
   "source": [
    "import numpy as np\n",
    "import scipy.stats as stats\n",
    "import seaborn as sns\n",
    "import matplotlib.pyplot as plt\n",
    "import pandas as pd\n",
    "\n",
    "sns.set_style('whitegrid')\n",
    "\n",
    "%config InlineBackend.figure_format = 'retina'\n",
    "%matplotlib inline"
   ]
  },
  {
   "cell_type": "markdown",
   "metadata": {},
   "source": [
    "<img src=\"http://imgur.com/l5NasQj.png\" style=\"float: left; margin: 25px 15px 0px 0px; height: 25px\">\n",
    "\n",
    "## 1. Estimating the value of homes from fixed characteristics.\n",
    "\n",
    "---\n",
    "\n",
    "Your superiors have outlined this year's strategy for the company:\n",
    "1. Develop an algorithm to reliably estimate the value of residential houses based on *fixed* characteristics.\n",
    "2. Identify characteristics of houses that the company can cost-effectively change/renovate with their construction team.\n",
    "3. Evaluate the mean dollar value of different renovations.\n",
    "\n",
    "Then we can use that to buy houses that are likely to sell for more than the cost of the purchase plus renovations.\n",
    "\n",
    "Your first job is to tackle #1. You have a dataset of housing sale data with a huge amount of features identifying different aspects of the house. The full description of the data features can be found in a separate file:\n",
    "\n",
    "    housing.csv\n",
    "    data_description.txt\n",
    "    \n",
    "You need to build a reliable estimator for the price of the house given characteristics of the house that cannot be renovated. Some examples include:\n",
    "- The neighborhood\n",
    "- Square feet\n",
    "- Bedrooms, bathrooms\n",
    "- Basement and garage space\n",
    "\n",
    "and many more. \n",
    "\n",
    "Some examples of things that **ARE renovate-able:**\n",
    "- Roof and exterior features\n",
    "- \"Quality\" metrics, such as kitchen quality\n",
    "- \"Condition\" metrics, such as condition of garage\n",
    "- Heating and electrical components\n",
    "\n",
    "and generally anything you deem can be modified without having to undergo major construction on the house.\n",
    "\n",
    "---\n",
    "\n",
    "**Your goals:**\n",
    "1. Perform any cleaning, feature engineering, and EDA you deem necessary.\n",
    "- Be sure to remove any houses that are not residential from the dataset.\n",
    "- Identify **fixed** features that can predict price.\n",
    "- Train a model on pre-2010 data and evaluate its performance on the 2010 houses.\n",
    "- Characterize your model. How well does it perform? What are the best estimates of price?\n",
    "\n",
    "> **Note:** The EDA and feature engineering component to this project is not trivial! Be sure to always think critically and creatively. Justify your actions! Use the data description file!"
   ]
  },
  {
   "cell_type": "code",
   "execution_count": 3,
   "metadata": {
    "collapsed": true
   },
   "outputs": [],
   "source": [
    "# Load the data\n",
    "df = pd.read_csv('./housing.csv')"
   ]
  },
  {
   "cell_type": "code",
   "execution_count": 4,
   "metadata": {},
   "outputs": [
    {
     "name": "stdout",
     "output_type": "stream",
     "text": [
      "('houses for category FV :', 65)\n",
      "('houses for category RH :', 16)\n",
      "('houses for category RL :', 1151)\n",
      "('houses for category RM :', 218)\n"
     ]
    }
   ],
   "source": [
    "# listHouseTypes = [\"A\",\"C\",\"I\",\"FV\",\"RH\",\"RL\",\"RP\",\"RM\"]\n",
    "\n",
    "# for i in listHouseTypes:\n",
    "#     print(df[\"MSZoning\"][df[\"MSZoning\"] == i].count())\n",
    "    \n",
    "actualLHT = [\"FV\",\"RH\",\"RL\",\"RM\"]\n",
    "\n",
    "for i in actualLHT:\n",
    "    print(\"houses for category \"+i+\" :\",df[\"MSZoning\"][df[\"MSZoning\"] == i].count())\n",
    "    "
   ]
  },
  {
   "cell_type": "code",
   "execution_count": 5,
   "metadata": {
    "collapsed": true
   },
   "outputs": [],
   "source": [
    "#df.info()"
   ]
  },
  {
   "cell_type": "code",
   "execution_count": 6,
   "metadata": {},
   "outputs": [
    {
     "name": "stdout",
     "output_type": "stream",
     "text": [
      "              SalePrice\n",
      "LotFrontage    0.351799\n",
      "LotArea        0.263843\n",
      "OverallQual    0.790982\n",
      "YearBuilt      0.522897\n",
      "YearRemodAdd   0.507101\n",
      "MasVnrArea     0.477493\n",
      "BsmtFinSF1     0.386420\n",
      "TotalBsmtSF    0.613581\n",
      "1stFlrSF       0.605852\n",
      "2ndFlrSF       0.319334\n",
      "GrLivArea      0.708624\n",
      "FullBath       0.560664\n",
      "HalfBath       0.284108\n",
      "TotRmsAbvGrd   0.533723\n",
      "Fireplaces     0.466929\n",
      "GarageYrBlt    0.486362\n",
      "GarageCars     0.640409\n",
      "GarageArea     0.623431\n",
      "WoodDeckSF     0.324413\n",
      "OpenPorchSF    0.315856\n",
      "SalePrice      1.000000\n",
      "<class 'pandas.core.frame.DataFrame'>\n",
      "RangeIndex: 1460 entries, 0 to 1459\n",
      "Data columns (total 18 columns):\n",
      "LotArea         1460 non-null int64\n",
      "OverallQual     1460 non-null int64\n",
      "YearBuilt       1460 non-null int64\n",
      "YearRemodAdd    1460 non-null int64\n",
      "BsmtFinSF1      1460 non-null int64\n",
      "TotalBsmtSF     1460 non-null int64\n",
      "1stFlrSF        1460 non-null int64\n",
      "2ndFlrSF        1460 non-null int64\n",
      "GrLivArea       1460 non-null int64\n",
      "FullBath        1460 non-null int64\n",
      "HalfBath        1460 non-null int64\n",
      "TotRmsAbvGrd    1460 non-null int64\n",
      "Fireplaces      1460 non-null int64\n",
      "GarageCars      1460 non-null int64\n",
      "GarageArea      1460 non-null int64\n",
      "WoodDeckSF      1460 non-null int64\n",
      "OpenPorchSF     1460 non-null int64\n",
      "SalePrice       1460 non-null int64\n",
      "dtypes: int64(18)\n",
      "memory usage: 205.4 KB\n"
     ]
    }
   ],
   "source": [
    "corrs = df.corr()[[\"SalePrice\"]]\n",
    "corrsDecent = corrs[corrs[\"SalePrice\"]>0.25]\n",
    "print(corrsDecent)\n",
    "ecks = list(corrsDecent.index)\n",
    "#df[ecks].info()\n",
    "\n",
    "#Since there's so many columns right now, I just wanna drop the columns that are complicating things and see what's\n",
    "#up elsewhere for now... already a ton to look through...\n",
    "\n",
    "ecks.remove('LotFrontage')\n",
    "ecks.remove('MasVnrArea')\n",
    "ecks.remove('GarageYrBlt')\n",
    "\n",
    "df[ecks].info()"
   ]
  },
  {
   "cell_type": "raw",
   "metadata": {},
   "source": []
  },
  {
   "cell_type": "code",
   "execution_count": 7,
   "metadata": {
    "collapsed": true
   },
   "outputs": [],
   "source": [
    "#sns.regplot(\"LotArea\",\"SalePrice\",data=df) #That's garbage.  We're dropping that lol.\n",
    "#sns.regplot(\"OverallQual\",\"SalePrice\",data=df) #Solid\n",
    "#sns.regplot(\"YearBuilt\",\"SalePrice\",data=df) #Okay\n",
    "#sns.regplot(\"YearRemodAdd\",\"SalePrice\",data=df) #There's something there kinda, also some weird data. \n",
    "#Not crazy about this one.\n",
    "#sns.regplot(\"TotalBsmtSF\",\"SalePrice\",data=df) #Yes\n",
    "#sns.regplot(\"1stFlrSF\",\"SalePrice\",data=df) #For Sure\n",
    "#sns.regplot(\"2ndFlrSF\",\"SalePrice\",data=df) #Ah, some places don't have a second floor. Will have to think about\n",
    "#what this might mean if I kept it.\n",
    "#sns.regplot(\"GrLivArea\",\"SalePrice\",data=df) #Solid\n",
    "#sns.regplot(\"FullBath\",\"SalePrice\",data=df) #I mean there's a trend\n",
    "#sns.regplot(\"HalfBath\",\"SalePrice\",data=df) #Pretty noisy honestly, but idk.\n",
    "#sns.regplot(\"TotRmsAbvGrd\",\"SalePrice\",data=df) #k\n",
    "#sns.regplot(\"Fireplaces\",\"SalePrice\",data=df) #k\n",
    "#sns.regplot(\"GarageCars\",\"SalePrice\",data=df) #yep\n",
    "#sns.regplot(\"GarageArea\",\"SalePrice\",data=df) #ya\n",
    "#sns.regplot(\"WoodDeckSF\",\"SalePrice\",data=df) #eh\n",
    "#sns.regplot(\"OpenPorchSF\",\"SalePrice\",data=df) #eh\n",
    "\n",
    "#good for now\n",
    "\n",
    "\n",
    "keepList = [\"OverallQual\",\"YearBuilt\",\"TotalBsmtSF\",\"1stFlrSF\",\"2ndFlrSF\",\"GrLivArea\",\"TotRmsAbvGrd\",\"Fireplaces\",\n",
    "            \"GarageCars\",\"GarageArea\"]\n",
    "\n",
    "#df[keepList].info()\n",
    "\n",
    "#df[\"2ndFlrSF\"].value_counts() #0s.count = 829\n",
    "#df[\"2ndFlrSF\"].shape #total.count = 1460\n",
    "\n",
    "#creating \n",
    "\n",
    "# valz = df[\"2ndFlrSF\"].values\n",
    "# for i in range(len(valz)):\n",
    "#     if valz[i] != 0:\n",
    "#         valz[i] = 1\n",
    "# df[\"2ndFlrExists\"] = valz\n",
    "# df[\"2ndFlrExists\"]"
   ]
  },
  {
   "cell_type": "code",
   "execution_count": 8,
   "metadata": {
    "collapsed": true
   },
   "outputs": [],
   "source": [
    "from sklearn.linear_model import LinearRegression, Lasso, LassoCV, Ridge, RidgeCV\n",
    "from sklearn.model_selection import train_test_split\n",
    "from sklearn.model_selection import KFold, cross_val_score\n",
    "from sklearn.preprocessing import StandardScaler\n",
    "from sklearn import metrics"
   ]
  },
  {
   "cell_type": "code",
   "execution_count": 9,
   "metadata": {
    "collapsed": true
   },
   "outputs": [],
   "source": [
    "df2 = df.copy()\n",
    "#df2 = df2[df2[\"\"]] #need earlier years"
   ]
  },
  {
   "cell_type": "code",
   "execution_count": 10,
   "metadata": {},
   "outputs": [
    {
     "name": "stdout",
     "output_type": "stream",
     "text": [
      "[ 0.79878221  0.77707198  0.55102766  0.71269767  0.76856467]\n",
      "0.721628839632\n",
      "0.0899044870655\n"
     ]
    }
   ],
   "source": [
    "X = df[keepList]\n",
    "y = df[\"SalePrice\"]\n",
    "\n",
    "ss = StandardScaler()\n",
    "Xs = ss.fit_transform(X)\n",
    "\n",
    "X_train, X_test, y_train, y_test = train_test_split(Xs, y, test_size=0.3,random_state=42)\n",
    "\n",
    "linreg = LinearRegression()\n",
    "\n",
    "kf_shuffle = KFold(n_splits=5,shuffle=True,random_state=42)\n",
    "scores = cross_val_score(linreg, X_train, y_train, cv=kf_shuffle)\n",
    "\n",
    "print(scores)\n",
    "print(np.mean(scores))\n",
    "print(np.std(scores))"
   ]
  },
  {
   "cell_type": "code",
   "execution_count": 11,
   "metadata": {
    "collapsed": true
   },
   "outputs": [],
   "source": [
    "#Alright so this is pretty bad.  Maybe I'll just clean everything up and Lasso out the ones it lassos out."
   ]
  },
  {
   "cell_type": "code",
   "execution_count": 12,
   "metadata": {
    "collapsed": true
   },
   "outputs": [],
   "source": [
    "df = pd.read_csv('./housing.csv')"
   ]
  },
  {
   "cell_type": "code",
   "execution_count": 13,
   "metadata": {
    "collapsed": true
   },
   "outputs": [],
   "source": [
    "df = df.drop(\"Id\",axis=1)"
   ]
  },
  {
   "cell_type": "code",
   "execution_count": 14,
   "metadata": {
    "collapsed": true
   },
   "outputs": [],
   "source": [
    "#df[\"MSSubClass\"].value_counts()\n",
    "\n",
    "#Needs to be dummied."
   ]
  },
  {
   "cell_type": "code",
   "execution_count": 15,
   "metadata": {
    "collapsed": true
   },
   "outputs": [],
   "source": [
    "mssc_dummies = pd.get_dummies(df[\"MSSubClass\"],prefix=\"MSSubClass\")"
   ]
  },
  {
   "cell_type": "code",
   "execution_count": 16,
   "metadata": {},
   "outputs": [
    {
     "data": {
      "text/plain": [
       "Index([u'MSSubClass_20', u'MSSubClass_30', u'MSSubClass_40', u'MSSubClass_45',\n",
       "       u'MSSubClass_50', u'MSSubClass_60', u'MSSubClass_70', u'MSSubClass_75',\n",
       "       u'MSSubClass_80', u'MSSubClass_85', u'MSSubClass_90', u'MSSubClass_120',\n",
       "       u'MSSubClass_160', u'MSSubClass_180', u'MSSubClass_190'],\n",
       "      dtype='object')"
      ]
     },
     "execution_count": 16,
     "metadata": {},
     "output_type": "execute_result"
    }
   ],
   "source": [
    "mssc_dummies.columns"
   ]
  },
  {
   "cell_type": "code",
   "execution_count": 17,
   "metadata": {
    "collapsed": true
   },
   "outputs": [],
   "source": [
    "df[mssc_dummies.columns] = mssc_dummies"
   ]
  },
  {
   "cell_type": "code",
   "execution_count": 18,
   "metadata": {
    "collapsed": true
   },
   "outputs": [],
   "source": [
    "df = df.drop(\"MSSubClass\",axis=1)\n",
    "df = df.drop(\"MSSubClass_190\",axis=1)"
   ]
  },
  {
   "cell_type": "code",
   "execution_count": 19,
   "metadata": {
    "collapsed": true
   },
   "outputs": [],
   "source": [
    "msz_dummies = pd.get_dummies(df[\"MSZoning\"],prefix=\"MSZoning\")"
   ]
  },
  {
   "cell_type": "code",
   "execution_count": 20,
   "metadata": {
    "collapsed": true
   },
   "outputs": [],
   "source": [
    "df[msz_dummies.columns] = msz_dummies"
   ]
  },
  {
   "cell_type": "code",
   "execution_count": 21,
   "metadata": {
    "collapsed": true
   },
   "outputs": [],
   "source": [
    "#df.info()"
   ]
  },
  {
   "cell_type": "code",
   "execution_count": 22,
   "metadata": {},
   "outputs": [
    {
     "data": {
      "text/plain": [
       "RL         1151\n",
       "RM          218\n",
       "FV           65\n",
       "RH           16\n",
       "C (all)      10\n",
       "Name: MSZoning, dtype: int64"
      ]
     },
     "execution_count": 22,
     "metadata": {},
     "output_type": "execute_result"
    }
   ],
   "source": [
    "df[\"MSZoning\"].value_counts()"
   ]
  },
  {
   "cell_type": "code",
   "execution_count": 23,
   "metadata": {
    "collapsed": true
   },
   "outputs": [],
   "source": [
    "#seems we have 10 commercial buildings we need to drop."
   ]
  },
  {
   "cell_type": "code",
   "execution_count": 24,
   "metadata": {
    "collapsed": true
   },
   "outputs": [],
   "source": [
    "df = df[df[\"MSZoning_C (all)\"] == 0]"
   ]
  },
  {
   "cell_type": "code",
   "execution_count": 25,
   "metadata": {
    "collapsed": true
   },
   "outputs": [],
   "source": [
    "#df.info()"
   ]
  },
  {
   "cell_type": "code",
   "execution_count": 26,
   "metadata": {
    "collapsed": true
   },
   "outputs": [],
   "source": [
    "df = df.drop(\"MSZoning\",axis=1)\n",
    "df = df.drop(\"MSZoning_C (all)\",axis=1)\n",
    "df = df.drop(\"MSZoning_RH\",axis=1)"
   ]
  },
  {
   "cell_type": "code",
   "execution_count": 27,
   "metadata": {
    "collapsed": true
   },
   "outputs": [],
   "source": [
    "#df.info()"
   ]
  },
  {
   "cell_type": "code",
   "execution_count": 28,
   "metadata": {
    "collapsed": true
   },
   "outputs": [],
   "source": [
    "import math #for NaNs"
   ]
  },
  {
   "cell_type": "code",
   "execution_count": 29,
   "metadata": {
    "collapsed": true
   },
   "outputs": [],
   "source": [
    "valz = df[\"LotFrontage\"].values\n",
    "\n",
    "for i in range(len(valz)):\n",
    "    if math.isnan(valz[i]) == True:\n",
    "        valz[i] = 0"
   ]
  },
  {
   "cell_type": "code",
   "execution_count": 30,
   "metadata": {
    "collapsed": true
   },
   "outputs": [],
   "source": [
    "df[\"LotFrontage\"] = valz"
   ]
  },
  {
   "cell_type": "code",
   "execution_count": 31,
   "metadata": {
    "collapsed": true
   },
   "outputs": [],
   "source": [
    "#df[\"LotFrontage\"].isnull().sum()"
   ]
  },
  {
   "cell_type": "code",
   "execution_count": 32,
   "metadata": {},
   "outputs": [
    {
     "name": "stdout",
     "output_type": "stream",
     "text": [
      "[53107, 53227, 53504, 57200, 63887, 70761, 115149, 159000, 164660, 215245]\n"
     ]
    },
    {
     "data": {
      "text/plain": [
       "<seaborn.axisgrid.JointGrid at 0x7fc4d9c2d090>"
      ]
     },
     "execution_count": 32,
     "metadata": {},
     "output_type": "execute_result"
    },
    {
     "data": {
      "image/png": "[encoded data removed]",
      "text/plain": [
       "<matplotlib.figure.Figure at 0x7fc4d6077590>"
      ]
     },
     "metadata": {
      "image/png": {
       "height": 424,
       "width": 444
      }
     },
     "output_type": "display_data"
    }
   ],
   "source": [
    "print(sorted(df[\"LotArea\"])[1440:1450])\n",
    "np.mean(df[\"LotArea\"])\n",
    "\n",
    "#some outliers for sure.\n",
    "\n",
    "#plt.scatter(\"LotArea\",\"SalePrice\",data=df)\n",
    "sns.jointplot(\"LotArea\",\"SalePrice\",data=df)\n",
    "\n",
    "#let's see if it gets lasso'ed out, but I wanna remember these outliers."
   ]
  },
  {
   "cell_type": "code",
   "execution_count": 33,
   "metadata": {
    "collapsed": true
   },
   "outputs": [],
   "source": [
    "#df.info()"
   ]
  },
  {
   "cell_type": "code",
   "execution_count": 34,
   "metadata": {},
   "outputs": [
    {
     "data": {
      "text/plain": [
       "Pave    1446\n",
       "Grvl       4\n",
       "Name: Street, dtype: int64"
      ]
     },
     "execution_count": 34,
     "metadata": {},
     "output_type": "execute_result"
    }
   ],
   "source": [
    "df[\"Street\"].value_counts()\n",
    "\n",
    "#useless, only 4 cases where it isn't paved."
   ]
  },
  {
   "cell_type": "code",
   "execution_count": 35,
   "metadata": {
    "collapsed": true
   },
   "outputs": [],
   "source": [
    "df = df.drop(\"Street\",axis=1)"
   ]
  },
  {
   "cell_type": "code",
   "execution_count": 36,
   "metadata": {
    "collapsed": true
   },
   "outputs": [],
   "source": [
    "#df.info()\n",
    "\n",
    "#Alley only has 89 non-null values of 1450 max. Also useless.\n",
    "\n",
    "df = df.drop(\"Alley\",axis=1)"
   ]
  },
  {
   "cell_type": "code",
   "execution_count": 37,
   "metadata": {
    "collapsed": true
   },
   "outputs": [],
   "source": [
    "df[\"LotShape\"].value_counts()\n",
    "\n",
    "#dummies for sure.\n",
    "\n",
    "ls_dummies = pd.get_dummies(df[\"LotShape\"],prefix=\"LotShape\")"
   ]
  },
  {
   "cell_type": "code",
   "execution_count": 38,
   "metadata": {},
   "outputs": [
    {
     "name": "stdout",
     "output_type": "stream",
     "text": [
      "\n"
     ]
    }
   ],
   "source": [
    "ls_dummies.drop(\"LotShape_Reg\",axis=1)  #should probably make this the standard and probably should have made the\n",
    "#big ones in others the standard as well, but idk, we'll see what happens.\n",
    "print(\"\")"
   ]
  },
  {
   "cell_type": "code",
   "execution_count": 39,
   "metadata": {
    "collapsed": true
   },
   "outputs": [],
   "source": [
    "df[ls_dummies.columns] = ls_dummies"
   ]
  },
  {
   "cell_type": "code",
   "execution_count": 40,
   "metadata": {
    "collapsed": true
   },
   "outputs": [],
   "source": [
    "#df.info() #oops forgot to drop it for real."
   ]
  },
  {
   "cell_type": "code",
   "execution_count": 41,
   "metadata": {
    "collapsed": true
   },
   "outputs": [],
   "source": [
    "df = df.drop(\"LotShape_Reg\",axis=1)"
   ]
  },
  {
   "cell_type": "code",
   "execution_count": 42,
   "metadata": {
    "collapsed": true
   },
   "outputs": [],
   "source": [
    "#df.info()"
   ]
  },
  {
   "cell_type": "code",
   "execution_count": 43,
   "metadata": {
    "collapsed": true
   },
   "outputs": [],
   "source": [
    "df = df.drop(\"LotShape\",axis=1)"
   ]
  },
  {
   "cell_type": "code",
   "execution_count": 44,
   "metadata": {},
   "outputs": [
    {
     "data": {
      "text/plain": [
       "Lvl    1305\n",
       "Bnk      62\n",
       "HLS      49\n",
       "Low      34\n",
       "Name: LandContour, dtype: int64"
      ]
     },
     "execution_count": 44,
     "metadata": {},
     "output_type": "execute_result"
    }
   ],
   "source": [
    "df[\"LandContour\"].value_counts()\n",
    "\n",
    "#I guess. I mean there might be enough information."
   ]
  },
  {
   "cell_type": "code",
   "execution_count": 45,
   "metadata": {
    "collapsed": true
   },
   "outputs": [],
   "source": [
    "lc_dummies = pd.get_dummies(df[\"LandContour\"],prefix=\"LandContour\")\n",
    "lc_dummies = lc_dummies.drop(\"LandContour_Lvl\",axis=1)\n",
    "df[lc_dummies.columns] = lc_dummies\n",
    "df = df.drop(\"LandContour\",axis=1)"
   ]
  },
  {
   "cell_type": "code",
   "execution_count": 46,
   "metadata": {
    "collapsed": true
   },
   "outputs": [],
   "source": [
    "df[\"Utilities\"].value_counts()\n",
    "#useless, 1499 in one category, 1 in the other category.\n",
    "df = df.drop(\"Utilities\",axis=1)"
   ]
  },
  {
   "cell_type": "code",
   "execution_count": 47,
   "metadata": {},
   "outputs": [
    {
     "data": {
      "text/plain": [
       "Inside     1044\n",
       "Corner      261\n",
       "CulDSac      94\n",
       "FR2          47\n",
       "FR3           4\n",
       "Name: LotConfig, dtype: int64"
      ]
     },
     "execution_count": 47,
     "metadata": {},
     "output_type": "execute_result"
    }
   ],
   "source": [
    "df[\"LotConfig\"].value_counts()\n",
    "#moar dummies"
   ]
  },
  {
   "cell_type": "code",
   "execution_count": 48,
   "metadata": {
    "collapsed": true
   },
   "outputs": [],
   "source": [
    "lc2_dummies = pd.get_dummies(df[\"LotConfig\"],prefix=\"LotConfig\")\n",
    "lc2_dummies = lc2_dummies.drop(\"LotConfig_Inside\",axis=1)\n",
    "df[lc2_dummies.columns] = lc2_dummies\n",
    "df = df.drop(\"LotConfig\",axis=1)"
   ]
  },
  {
   "cell_type": "code",
   "execution_count": 49,
   "metadata": {
    "collapsed": true
   },
   "outputs": [],
   "source": [
    "#df.info()"
   ]
  },
  {
   "cell_type": "code",
   "execution_count": 50,
   "metadata": {
    "collapsed": true
   },
   "outputs": [],
   "source": [
    "df[\"LandSlope\"].value_counts()\n",
    "\n",
    "#ugh.... Like honestly? XD\n",
    " \n",
    "ls_dummies = pd.get_dummies(df[\"LandSlope\"],prefix=\"LandSlope\")\n",
    "ls_dummies = ls_dummies.drop(\"LandSlope_Gtl\",axis=1)\n",
    "df[ls_dummies.columns] = ls_dummies\n",
    "df = df.drop(\"LandSlope\",axis=1)"
   ]
  },
  {
   "cell_type": "code",
   "execution_count": 51,
   "metadata": {},
   "outputs": [
    {
     "data": {
      "text/plain": [
       "NAmes      225\n",
       "CollgCr    150\n",
       "OldTown    112\n",
       "Edwards    100\n",
       "Somerst     86\n",
       "Gilbert     79\n",
       "NridgHt     77\n",
       "Sawyer      74\n",
       "NWAmes      73\n",
       "SawyerW     59\n",
       "BrkSide     58\n",
       "Crawfor     51\n",
       "Mitchel     49\n",
       "NoRidge     41\n",
       "Timber      38\n",
       "IDOTRR      28\n",
       "ClearCr     28\n",
       "SWISU       25\n",
       "StoneBr     25\n",
       "MeadowV     17\n",
       "Blmngtn     17\n",
       "BrDale      16\n",
       "Veenker     11\n",
       "NPkVill      9\n",
       "Blueste      2\n",
       "Name: Neighborhood, dtype: int64"
      ]
     },
     "execution_count": 51,
     "metadata": {},
     "output_type": "execute_result"
    }
   ],
   "source": [
    "df[\"Neighborhood\"].value_counts()\n",
    "\n",
    "#shgdkjhsdjkgjkshdkgjhkjsdg"
   ]
  },
  {
   "cell_type": "code",
   "execution_count": 52,
   "metadata": {
    "collapsed": true
   },
   "outputs": [],
   "source": [
    "killme = df[\"Neighborhood\"].copy().values\n",
    "\n",
    "nameList = []\n",
    "\n",
    "for i in range(len(killme)):\n",
    "    if killme[i] not in nameList:\n",
    "        nameList.append(killme[i])\n",
    "        killme[i] = nameList.index(killme[i])\n",
    "    else:\n",
    "        killme[i] = nameList.index(killme[i])"
   ]
  },
  {
   "cell_type": "code",
   "execution_count": 53,
   "metadata": {
    "collapsed": true
   },
   "outputs": [],
   "source": [
    "km = pd.DataFrame({\"kmplz\":killme})"
   ]
  },
  {
   "cell_type": "code",
   "execution_count": 54,
   "metadata": {},
   "outputs": [
    {
     "data": {
      "text/plain": [
       "<matplotlib.collections.PathCollection at 0x7fc4d5b37310>"
      ]
     },
     "execution_count": 54,
     "metadata": {},
     "output_type": "execute_result"
    },
    {
     "data": {
      "image/png": "[encoded data removed]",
      "text/plain": [
       "<matplotlib.figure.Figure at 0x7fc4d5dba590>"
      ]
     },
     "metadata": {
      "image/png": {
       "height": 248,
       "width": 392
      }
     },
     "output_type": "display_data"
    }
   ],
   "source": [
    "plt.scatter(km[\"kmplz\"],df[\"SalePrice\"])"
   ]
  },
  {
   "cell_type": "code",
   "execution_count": 55,
   "metadata": {
    "collapsed": true
   },
   "outputs": [],
   "source": [
    "#actually looks kinda useful.  Could honestly just have dummied it and seen what the lasso did.  At least I'm good\n",
    "#with Python and can do weird stuff really fast like I just did! XD"
   ]
  },
  {
   "cell_type": "code",
   "execution_count": 56,
   "metadata": {
    "collapsed": true
   },
   "outputs": [],
   "source": [
    "nh_dummies = pd.get_dummies(df[\"Neighborhood\"],prefix=\"Neighborhood\")\n",
    "nh_dummies = nh_dummies.drop(\"Neighborhood_Blueste\",axis=1)\n",
    "df[nh_dummies.columns] = nh_dummies\n",
    "df = df.drop(\"Neighborhood\",axis=1)"
   ]
  },
  {
   "cell_type": "code",
   "execution_count": 57,
   "metadata": {},
   "outputs": [
    {
     "name": "stdout",
     "output_type": "stream",
     "text": [
      "<class 'pandas.core.frame.DataFrame'>\n",
      "Int64Index: 1450 entries, 0 to 1459\n",
      "Columns: 123 entries, LotFrontage to Neighborhood_Veenker\n",
      "dtypes: float64(3), int64(33), object(34), uint8(53)\n",
      "memory usage: 919.3+ KB\n"
     ]
    }
   ],
   "source": [
    "df.info()\n",
    "\n",
    "#omg r u srs"
   ]
  },
  {
   "cell_type": "code",
   "execution_count": 58,
   "metadata": {
    "collapsed": true
   },
   "outputs": [],
   "source": [
    "#df.info(max_cols=123)"
   ]
  },
  {
   "cell_type": "code",
   "execution_count": 59,
   "metadata": {
    "collapsed": true
   },
   "outputs": [],
   "source": [
    "df[\"Condition1\"].value_counts()\n",
    "\n",
    "#LOL\n",
    "\n",
    "c1_dummies = pd.get_dummies(df[\"Condition1\"],prefix=\"Condition1\")\n",
    "c1_dummies = c1_dummies.drop(\"Condition1_Norm\",axis=1)\n",
    "df[c1_dummies.columns] = c1_dummies\n",
    "df = df.drop(\"Condition1\",axis=1)"
   ]
  },
  {
   "cell_type": "code",
   "execution_count": 60,
   "metadata": {},
   "outputs": [
    {
     "name": "stdout",
     "output_type": "stream",
     "text": [
      "Norm      1436\n",
      "Feedr        5\n",
      "Artery       2\n",
      "RRNn         2\n",
      "PosN         2\n",
      "RRAn         1\n",
      "RRAe         1\n",
      "PosA         1\n",
      "Name: Condition2, dtype: int64\n"
     ]
    }
   ],
   "source": [
    "print(df[\"Condition2\"].value_counts())\n",
    "df = df.drop(\"Condition2\",axis=1)\n",
    "#No lol.  I just don't care.  It just isn't enough data."
   ]
  },
  {
   "cell_type": "code",
   "execution_count": 61,
   "metadata": {
    "collapsed": true
   },
   "outputs": [],
   "source": [
    "#df.info(max_cols=150)"
   ]
  },
  {
   "cell_type": "code",
   "execution_count": 62,
   "metadata": {
    "collapsed": true
   },
   "outputs": [],
   "source": [
    "df[\"BldgType\"].value_counts()\n",
    "\n",
    "bt_dummies = pd.get_dummies(df[\"BldgType\"],prefix=\"BldgType\")\n",
    "bt_dummies = bt_dummies.drop(\"BldgType_1Fam\",axis=1)\n",
    "df[bt_dummies.columns] = bt_dummies\n",
    "df = df.drop(\"BldgType\",axis=1)"
   ]
  },
  {
   "cell_type": "code",
   "execution_count": 63,
   "metadata": {
    "collapsed": true
   },
   "outputs": [],
   "source": [
    "#df.info(max_cols=150)"
   ]
  },
  {
   "cell_type": "code",
   "execution_count": 64,
   "metadata": {},
   "outputs": [
    {
     "data": {
      "text/plain": [
       "1Story    722\n",
       "2Story    444\n",
       "1.5Fin    150\n",
       "SLvl       65\n",
       "SFoyer     37\n",
       "1.5Unf     14\n",
       "2.5Unf     10\n",
       "2.5Fin      8\n",
       "Name: HouseStyle, dtype: int64"
      ]
     },
     "execution_count": 64,
     "metadata": {},
     "output_type": "execute_result"
    }
   ],
   "source": [
    "df[\"HouseStyle\"].value_counts()\n",
    "\n",
    "#I feel like this is contained within other variables like 2ndFLRsqft or whatever it's called in a way.\n",
    "\n",
    "#I'm gonna exclude it preemptively and if it's a slight mistake, idrc."
   ]
  },
  {
   "cell_type": "code",
   "execution_count": 65,
   "metadata": {
    "collapsed": true
   },
   "outputs": [],
   "source": [
    "df = df.drop(\"HouseStyle\",axis=1)"
   ]
  },
  {
   "cell_type": "code",
   "execution_count": 66,
   "metadata": {
    "collapsed": true
   },
   "outputs": [],
   "source": [
    "#df.info(max_cols=150)"
   ]
  },
  {
   "cell_type": "code",
   "execution_count": 67,
   "metadata": {},
   "outputs": [
    {
     "data": {
      "text/plain": [
       "5     396\n",
       "6     373\n",
       "7     319\n",
       "8     168\n",
       "4     111\n",
       "9      43\n",
       "10     18\n",
       "3      18\n",
       "2       2\n",
       "1       2\n",
       "Name: OverallQual, dtype: int64"
      ]
     },
     "execution_count": 67,
     "metadata": {},
     "output_type": "execute_result"
    }
   ],
   "source": [
    "df[\"OverallQual\"].value_counts()\n",
    "\n",
    "#Ah I think we can keep this normal, as the ascending nature of the values isn't so unreasonable.\n",
    "\n",
    "#Something maybe to mess with and see what happens if it stays the whole way and if I have time later."
   ]
  },
  {
   "cell_type": "code",
   "execution_count": 68,
   "metadata": {
    "collapsed": true
   },
   "outputs": [],
   "source": [
    "#df.info(max_cols=150)"
   ]
  },
  {
   "cell_type": "code",
   "execution_count": 69,
   "metadata": {},
   "outputs": [
    {
     "data": {
      "text/html": [
       "<div>\n",
       "<style>\n",
       "    .dataframe thead tr:only-child th {\n",
       "        text-align: right;\n",
       "    }\n",
       "\n",
       "    .dataframe thead th {\n",
       "        text-align: left;\n",
       "    }\n",
       "\n",
       "    .dataframe tbody tr th {\n",
       "        vertical-align: top;\n",
       "    }\n",
       "</style>\n",
       "<table border=\"1\" class=\"dataframe\">\n",
       "  <thead>\n",
       "    <tr style=\"text-align: right;\">\n",
       "      <th></th>\n",
       "      <th>YearBuilt</th>\n",
       "      <th>SalePrice</th>\n",
       "    </tr>\n",
       "  </thead>\n",
       "  <tbody>\n",
       "    <tr>\n",
       "      <th>YearBuilt</th>\n",
       "      <td>1.000000</td>\n",
       "      <td>0.517602</td>\n",
       "    </tr>\n",
       "    <tr>\n",
       "      <th>SalePrice</th>\n",
       "      <td>0.517602</td>\n",
       "      <td>1.000000</td>\n",
       "    </tr>\n",
       "  </tbody>\n",
       "</table>\n",
       "</div>"
      ],
      "text/plain": [
       "           YearBuilt  SalePrice\n",
       "YearBuilt   1.000000   0.517602\n",
       "SalePrice   0.517602   1.000000"
      ]
     },
     "execution_count": 69,
     "metadata": {},
     "output_type": "execute_result"
    },
    {
     "data": {
      "image/png": "[encoded data removed]",
      "text/plain": [
       "<matplotlib.figure.Figure at 0x7fc4d5ecb650>"
      ]
     },
     "metadata": {
      "image/png": {
       "height": 248,
       "width": 389
      }
     },
     "output_type": "display_data"
    }
   ],
   "source": [
    "df[\"YearBuilt\"].value_counts()\n",
    "\n",
    "#Not sure how I feel about this variable.  Let's plot it vs price.\n",
    "\n",
    "plt.scatter(\"YearBuilt\",\"SalePrice\",data=df)\n",
    "\n",
    "df[[\"YearBuilt\",\"SalePrice\"]].corr()\n",
    "\n",
    "#interesting. Seems pretty related."
   ]
  },
  {
   "cell_type": "code",
   "execution_count": 70,
   "metadata": {
    "collapsed": true
   },
   "outputs": [],
   "source": [
    "#df.info(max_cols=150)"
   ]
  },
  {
   "cell_type": "code",
   "execution_count": 71,
   "metadata": {
    "collapsed": true
   },
   "outputs": [],
   "source": [
    "df[\"RoofStyle\"].value_counts()\n",
    "\n",
    "rs_dummies = pd.get_dummies(df[\"RoofStyle\"],prefix=\"RoofStyle\")\n",
    "rs_dummies = rs_dummies.drop(\"RoofStyle_Gable\",axis=1)\n",
    "df[rs_dummies.columns] = rs_dummies\n",
    "df = df.drop(\"RoofStyle\",axis=1)"
   ]
  },
  {
   "cell_type": "code",
   "execution_count": 72,
   "metadata": {
    "collapsed": true
   },
   "outputs": [],
   "source": [
    "#df.info(max_cols=150)"
   ]
  },
  {
   "cell_type": "code",
   "execution_count": 73,
   "metadata": {},
   "outputs": [
    {
     "name": "stdout",
     "output_type": "stream",
     "text": [
      "CompShg    1424\n",
      "Tar&Grv      11\n",
      "WdShngl       6\n",
      "WdShake       5\n",
      "Membran       1\n",
      "Metal         1\n",
      "ClyTile       1\n",
      "Roll          1\n",
      "Name: RoofMatl, dtype: int64\n"
     ]
    }
   ],
   "source": [
    "print(df[\"RoofMatl\"].value_counts())\n",
    "\n",
    "#Not enough values for me.\n",
    "\n",
    "df = df.drop(\"RoofMatl\",axis=1)"
   ]
  },
  {
   "cell_type": "code",
   "execution_count": 74,
   "metadata": {
    "collapsed": true
   },
   "outputs": [],
   "source": [
    "#df.info(max_cols=150)"
   ]
  },
  {
   "cell_type": "code",
   "execution_count": 75,
   "metadata": {},
   "outputs": [
    {
     "data": {
      "text/plain": [
       "VinylSd    515\n",
       "HdBoard    222\n",
       "MetalSd    215\n",
       "Wd Sdng    204\n",
       "Plywood    107\n",
       "CemntBd     61\n",
       "BrkFace     49\n",
       "WdShing     26\n",
       "Stucco      25\n",
       "AsbShng     19\n",
       "Stone        2\n",
       "BrkComm      2\n",
       "AsphShn      1\n",
       "ImStucc      1\n",
       "CBlock       1\n",
       "Name: Exterior1st, dtype: int64"
      ]
     },
     "execution_count": 75,
     "metadata": {},
     "output_type": "execute_result"
    }
   ],
   "source": [
    "df[\"Exterior1st\"].value_counts()"
   ]
  },
  {
   "cell_type": "code",
   "execution_count": 76,
   "metadata": {
    "collapsed": true
   },
   "outputs": [],
   "source": [
    "ex1_dummies = pd.get_dummies(df[\"Exterior1st\"],prefix=\"Exterior1st\")\n",
    "ex1_dummies = ex1_dummies.drop(\"Exterior1st_VinylSd\",axis=1)\n",
    "df[ex1_dummies.columns] = ex1_dummies\n",
    "df = df.drop(\"Exterior1st\",axis=1)"
   ]
  },
  {
   "cell_type": "code",
   "execution_count": 77,
   "metadata": {
    "collapsed": true
   },
   "outputs": [],
   "source": [
    "df[\"Exterior2nd\"].value_counts()\n",
    "\n",
    "ex2_dummies = pd.get_dummies(df[\"Exterior2nd\"],prefix=\"Exterior2nd\")\n",
    "ex2_dummies = ex2_dummies.drop(\"Exterior2nd_VinylSd\",axis=1)\n",
    "df[ex2_dummies.columns] = ex2_dummies\n",
    "df = df.drop(\"Exterior2nd\",axis=1)"
   ]
  },
  {
   "cell_type": "code",
   "execution_count": 78,
   "metadata": {
    "collapsed": true
   },
   "outputs": [],
   "source": [
    "#df.info(max_cols=161)"
   ]
  },
  {
   "cell_type": "code",
   "execution_count": 79,
   "metadata": {
    "collapsed": true
   },
   "outputs": [],
   "source": [
    "df[\"MasVnrType\"].value_counts()\n",
    "\n",
    "mvt_dummies = pd.get_dummies(df[\"MasVnrType\"],prefix=\"MasVnrType\")\n",
    "mvt_dummies = mvt_dummies.drop(\"MasVnrType_None\",axis=1)\n",
    "df[mvt_dummies.columns] = mvt_dummies\n",
    "df = df.drop(\"MasVnrType\",axis=1)"
   ]
  },
  {
   "cell_type": "code",
   "execution_count": 80,
   "metadata": {
    "collapsed": true
   },
   "outputs": [],
   "source": [
    "#df.info(max_cols=170)"
   ]
  },
  {
   "cell_type": "code",
   "execution_count": 81,
   "metadata": {
    "collapsed": true
   },
   "outputs": [],
   "source": [
    "zeer = df[\"MasVnrArea\"].copy().values\n",
    "\n",
    "for i in range(len(zeer)):\n",
    "    if math.isnan(zeer[i]) == True:\n",
    "        zeer[i] = 0\n",
    "df[\"MasVnrArea\"] = zeer"
   ]
  },
  {
   "cell_type": "code",
   "execution_count": 82,
   "metadata": {},
   "outputs": [
    {
     "data": {
      "text/plain": [
       "0"
      ]
     },
     "execution_count": 82,
     "metadata": {},
     "output_type": "execute_result"
    }
   ],
   "source": [
    "df[\"MasVnrArea\"].isnull().sum()"
   ]
  },
  {
   "cell_type": "code",
   "execution_count": 83,
   "metadata": {},
   "outputs": [
    {
     "data": {
      "text/plain": [
       "859"
      ]
     },
     "execution_count": 83,
     "metadata": {},
     "output_type": "execute_result"
    }
   ],
   "source": [
    "list(df[\"MasVnrArea\"].values).count(0)"
   ]
  },
  {
   "cell_type": "code",
   "execution_count": 84,
   "metadata": {
    "collapsed": true
   },
   "outputs": [],
   "source": [
    "#df.info(max_cols=170)"
   ]
  },
  {
   "cell_type": "code",
   "execution_count": 85,
   "metadata": {
    "collapsed": true
   },
   "outputs": [],
   "source": [
    "df[\"ExterQual\"].value_counts()\n",
    "\n",
    "exq_dummies = pd.get_dummies(df[\"ExterQual\"],prefix=\"ExterQual\")\n",
    "exq_dummies = exq_dummies.drop(\"ExterQual_TA\",axis=1)\n",
    "df[exq_dummies.columns] = exq_dummies\n",
    "df = df.drop(\"ExterQual\",axis=1)"
   ]
  },
  {
   "cell_type": "code",
   "execution_count": 86,
   "metadata": {
    "collapsed": true
   },
   "outputs": [],
   "source": [
    "df[\"ExterCond\"].value_counts()\n",
    "\n",
    "exc_dummies = pd.get_dummies(df[\"ExterCond\"],prefix=\"ExterCond\")\n",
    "exc_dummies = exc_dummies.drop(\"ExterCond_TA\",axis=1)\n",
    "df[exc_dummies.columns] = exc_dummies\n",
    "df = df.drop(\"ExterCond\",axis=1)"
   ]
  },
  {
   "cell_type": "code",
   "execution_count": 87,
   "metadata": {
    "collapsed": true
   },
   "outputs": [],
   "source": [
    "#df.info(max_cols=170)"
   ]
  },
  {
   "cell_type": "code",
   "execution_count": 88,
   "metadata": {
    "collapsed": true
   },
   "outputs": [],
   "source": [
    "df[\"Foundation\"].value_counts()\n",
    "\n",
    "fnd_dummies = pd.get_dummies(df[\"Foundation\"],prefix=\"Foundation\")\n",
    "fnd_dummies = fnd_dummies.drop(\"Foundation_PConc\",axis=1)\n",
    "df[fnd_dummies.columns] = fnd_dummies\n",
    "df = df.drop(\"Foundation\",axis=1)"
   ]
  },
  {
   "cell_type": "code",
   "execution_count": 89,
   "metadata": {
    "collapsed": true
   },
   "outputs": [],
   "source": [
    "#df.info(max_cols=180)"
   ]
  },
  {
   "cell_type": "code",
   "execution_count": 90,
   "metadata": {},
   "outputs": [
    {
     "data": {
      "text/plain": [
       "TA    639\n",
       "Gd    618\n",
       "Ex    121\n",
       "Fa     35\n",
       "Name: BsmtQual, dtype: int64"
      ]
     },
     "execution_count": 90,
     "metadata": {},
     "output_type": "execute_result"
    }
   ],
   "source": [
    "df[\"BsmtQual\"].value_counts()\n",
    "\n",
    "#right and we have missing values, so I'm going to make those called \"Unknown\" or something."
   ]
  },
  {
   "cell_type": "code",
   "execution_count": 91,
   "metadata": {
    "collapsed": true
   },
   "outputs": [],
   "source": [
    "Nullify = df[\"BsmtQual\"].copy().values\n",
    "\n",
    "for i in range(len(Nullify)):\n",
    "    if Nullify[i] != \"TA\" and Nullify[i] != \"Gd\" and Nullify[i] != \"Ex\" and Nullify[i] != \"Fa\":\n",
    "        Nullify[i] = \"Unknown\"\n",
    "df[\"BsmtQual\"] = Nullify"
   ]
  },
  {
   "cell_type": "code",
   "execution_count": 92,
   "metadata": {},
   "outputs": [
    {
     "data": {
      "text/plain": [
       "TA         639\n",
       "Gd         618\n",
       "Ex         121\n",
       "Unknown     37\n",
       "Fa          35\n",
       "Name: BsmtQual, dtype: int64"
      ]
     },
     "execution_count": 92,
     "metadata": {},
     "output_type": "execute_result"
    }
   ],
   "source": [
    "df[\"BsmtQual\"].value_counts()"
   ]
  },
  {
   "cell_type": "code",
   "execution_count": 93,
   "metadata": {
    "collapsed": true
   },
   "outputs": [],
   "source": [
    "bq_dummies = pd.get_dummies(df[\"BsmtQual\"],prefix=\"BsmtQual\")\n",
    "bq_dummies = bq_dummies.drop(\"BsmtQual_TA\",axis=1)\n",
    "df[bq_dummies.columns] = bq_dummies\n",
    "df = df.drop(\"BsmtQual\",axis=1)"
   ]
  },
  {
   "cell_type": "code",
   "execution_count": 94,
   "metadata": {
    "collapsed": true
   },
   "outputs": [],
   "source": [
    "#df.info(max_cols=200)"
   ]
  },
  {
   "cell_type": "code",
   "execution_count": 95,
   "metadata": {},
   "outputs": [
    {
     "data": {
      "text/plain": [
       "TA    1303\n",
       "Gd      65\n",
       "Fa      43\n",
       "Po       2\n",
       "Name: BsmtCond, dtype: int64"
      ]
     },
     "execution_count": 95,
     "metadata": {},
     "output_type": "execute_result"
    }
   ],
   "source": [
    "df[\"BsmtCond\"].value_counts()"
   ]
  },
  {
   "cell_type": "code",
   "execution_count": 96,
   "metadata": {
    "collapsed": true
   },
   "outputs": [],
   "source": [
    "Nullify = df[\"BsmtCond\"].copy().values\n",
    "\n",
    "for i in range(len(Nullify)):\n",
    "    if Nullify[i] != \"TA\" and Nullify[i] != \"Gd\" and Nullify[i] != \"Fa\" and Nullify[i] != \"Po\":\n",
    "        Nullify[i] = \"Unknown\"\n",
    "df[\"BsmtCond\"] = Nullify"
   ]
  },
  {
   "cell_type": "code",
   "execution_count": 97,
   "metadata": {},
   "outputs": [
    {
     "data": {
      "text/plain": [
       "TA         1303\n",
       "Gd           65\n",
       "Fa           43\n",
       "Unknown      37\n",
       "Po            2\n",
       "Name: BsmtCond, dtype: int64"
      ]
     },
     "execution_count": 97,
     "metadata": {},
     "output_type": "execute_result"
    }
   ],
   "source": [
    "df[\"BsmtCond\"].value_counts()"
   ]
  },
  {
   "cell_type": "code",
   "execution_count": 98,
   "metadata": {
    "collapsed": true
   },
   "outputs": [],
   "source": [
    "bc_dummies = pd.get_dummies(df[\"BsmtCond\"],prefix=\"BsmtCond\")\n",
    "bc_dummies = bc_dummies.drop(\"BsmtCond_TA\",axis=1)\n",
    "df[bc_dummies.columns] = bc_dummies\n",
    "df = df.drop(\"BsmtCond\",axis=1)"
   ]
  },
  {
   "cell_type": "code",
   "execution_count": 99,
   "metadata": {
    "collapsed": true
   },
   "outputs": [],
   "source": [
    "#df.info(max_cols=200)"
   ]
  },
  {
   "cell_type": "code",
   "execution_count": 100,
   "metadata": {},
   "outputs": [
    {
     "data": {
      "text/plain": [
       "No    947\n",
       "Av    219\n",
       "Gd    134\n",
       "Mn    112\n",
       "Name: BsmtExposure, dtype: int64"
      ]
     },
     "execution_count": 100,
     "metadata": {},
     "output_type": "execute_result"
    }
   ],
   "source": [
    "df[\"BsmtExposure\"].value_counts()"
   ]
  },
  {
   "cell_type": "code",
   "execution_count": 101,
   "metadata": {
    "collapsed": true
   },
   "outputs": [],
   "source": [
    "Nullify = df[\"BsmtExposure\"].copy().values\n",
    "\n",
    "for i in range(len(Nullify)):\n",
    "    if Nullify[i] != \"No\" and Nullify[i] != \"Av\" and Nullify[i] != \"Gd\" and Nullify[i] != \"Mn\":\n",
    "        Nullify[i] = \"Unknown\"\n",
    "df[\"BsmtExposure\"] = Nullify"
   ]
  },
  {
   "cell_type": "code",
   "execution_count": 102,
   "metadata": {},
   "outputs": [
    {
     "data": {
      "text/plain": [
       "No         947\n",
       "Av         219\n",
       "Gd         134\n",
       "Mn         112\n",
       "Unknown     38\n",
       "Name: BsmtExposure, dtype: int64"
      ]
     },
     "execution_count": 102,
     "metadata": {},
     "output_type": "execute_result"
    }
   ],
   "source": [
    "df[\"BsmtExposure\"].value_counts()"
   ]
  },
  {
   "cell_type": "code",
   "execution_count": 103,
   "metadata": {
    "collapsed": true
   },
   "outputs": [],
   "source": [
    "be_dummies = pd.get_dummies(df[\"BsmtExposure\"],prefix=\"BsmtExposure\")\n",
    "be_dummies = be_dummies.drop(\"BsmtExposure_No\",axis=1)\n",
    "df[be_dummies.columns] = be_dummies\n",
    "df = df.drop(\"BsmtExposure\",axis=1)"
   ]
  },
  {
   "cell_type": "code",
   "execution_count": 104,
   "metadata": {
    "collapsed": true
   },
   "outputs": [],
   "source": [
    "#df.info(max_cols=200)"
   ]
  },
  {
   "cell_type": "code",
   "execution_count": 105,
   "metadata": {},
   "outputs": [
    {
     "data": {
      "text/plain": [
       "Unf    424\n",
       "GLQ    418\n",
       "ALQ    220\n",
       "BLQ    147\n",
       "Rec    130\n",
       "LwQ     74\n",
       "Name: BsmtFinType1, dtype: int64"
      ]
     },
     "execution_count": 105,
     "metadata": {},
     "output_type": "execute_result"
    }
   ],
   "source": [
    "df[\"BsmtFinType1\"].value_counts()"
   ]
  },
  {
   "cell_type": "code",
   "execution_count": 106,
   "metadata": {
    "collapsed": true
   },
   "outputs": [],
   "source": [
    "\n",
    "\n",
    "def dummyAndDrop(df,dummyCol,dropCol):\n",
    "    '''enough is enough'''\n",
    "    dummies = pd.get_dummies(df[dummyCol],prefix=dummyCol)\n",
    "    dropStr = dummyCol+\"_\"+dropCol\n",
    "    dummies = dummies.drop(dropStr,axis=1)\n",
    "    df[dummies.columns] = dummies\n",
    "    df.drop(dummyCol,axis=1,inplace=True)\n",
    "    "
   ]
  },
  {
   "cell_type": "code",
   "execution_count": 107,
   "metadata": {
    "collapsed": true
   },
   "outputs": [],
   "source": [
    "df[\"BsmtFinType1\"].isnull().sum()\n",
    "\n",
    "Nullify = df[\"BsmtFinType1\"].copy().values\n",
    "\n",
    "for i in range(len(Nullify)):\n",
    "    if Nullify[i] != \"Unf\" and Nullify[i] != \"GLQ\" and Nullify[i] != \"ALQ\" and Nullify[i] != \"BLQ\" and Nullify[i] != \"Rec\" and Nullify[i] != \"LwQ\":\n",
    "        Nullify[i] = \"Unknown\"\n",
    "df[\"BsmtFinType1\"] = Nullify"
   ]
  },
  {
   "cell_type": "code",
   "execution_count": 108,
   "metadata": {},
   "outputs": [
    {
     "data": {
      "text/plain": [
       "Unf        424\n",
       "GLQ        418\n",
       "ALQ        220\n",
       "BLQ        147\n",
       "Rec        130\n",
       "LwQ         74\n",
       "Unknown     37\n",
       "Name: BsmtFinType1, dtype: int64"
      ]
     },
     "execution_count": 108,
     "metadata": {},
     "output_type": "execute_result"
    }
   ],
   "source": [
    "df[\"BsmtFinType1\"].value_counts()"
   ]
  },
  {
   "cell_type": "code",
   "execution_count": 109,
   "metadata": {
    "collapsed": true
   },
   "outputs": [],
   "source": [
    "dummyAndDrop(df,\"BsmtFinType1\",\"Unf\")"
   ]
  },
  {
   "cell_type": "code",
   "execution_count": 110,
   "metadata": {
    "collapsed": true
   },
   "outputs": [],
   "source": [
    "#df.info(max_cols=200)"
   ]
  },
  {
   "cell_type": "code",
   "execution_count": 111,
   "metadata": {},
   "outputs": [
    {
     "data": {
      "text/plain": [
       "Unf    1246\n",
       "Rec      54\n",
       "LwQ      46\n",
       "BLQ      33\n",
       "ALQ      19\n",
       "GLQ      14\n",
       "Name: BsmtFinType2, dtype: int64"
      ]
     },
     "execution_count": 111,
     "metadata": {},
     "output_type": "execute_result"
    }
   ],
   "source": [
    "df[\"BsmtFinType2\"].value_counts()"
   ]
  },
  {
   "cell_type": "code",
   "execution_count": 112,
   "metadata": {},
   "outputs": [
    {
     "data": {
      "text/plain": [
       "38"
      ]
     },
     "execution_count": 112,
     "metadata": {},
     "output_type": "execute_result"
    }
   ],
   "source": [
    "df[\"BsmtFinType2\"].isnull().sum()"
   ]
  },
  {
   "cell_type": "code",
   "execution_count": 113,
   "metadata": {
    "collapsed": true
   },
   "outputs": [],
   "source": [
    "def makeUnknown(df,col):\n",
    "    '''this too'''\n",
    "    nullify = df[col].copy().values\n",
    "\n",
    "    for i in range(len(nullify)):\n",
    "        try:\n",
    "            if math.isnan(float(nullify[i])) == True:\n",
    "                nullify[i] = \"Unknown\"\n",
    "        except:\n",
    "            pass\n",
    "    df[col] = nullify"
   ]
  },
  {
   "cell_type": "code",
   "execution_count": 114,
   "metadata": {
    "collapsed": true
   },
   "outputs": [],
   "source": [
    "makeUnknown(df,\"BsmtFinType2\")"
   ]
  },
  {
   "cell_type": "code",
   "execution_count": 115,
   "metadata": {},
   "outputs": [
    {
     "data": {
      "text/plain": [
       "0"
      ]
     },
     "execution_count": 115,
     "metadata": {},
     "output_type": "execute_result"
    }
   ],
   "source": [
    "df[\"BsmtFinType2\"].isnull().sum()"
   ]
  },
  {
   "cell_type": "code",
   "execution_count": 116,
   "metadata": {},
   "outputs": [
    {
     "data": {
      "text/plain": [
       "Unf        1246\n",
       "Rec          54\n",
       "LwQ          46\n",
       "Unknown      38\n",
       "BLQ          33\n",
       "ALQ          19\n",
       "GLQ          14\n",
       "Name: BsmtFinType2, dtype: int64"
      ]
     },
     "execution_count": 116,
     "metadata": {},
     "output_type": "execute_result"
    }
   ],
   "source": [
    "df[\"BsmtFinType2\"].value_counts()"
   ]
  },
  {
   "cell_type": "code",
   "execution_count": 117,
   "metadata": {
    "collapsed": true
   },
   "outputs": [],
   "source": [
    "dummyAndDrop(df,\"BsmtFinType2\",\"Unf\")"
   ]
  },
  {
   "cell_type": "code",
   "execution_count": 118,
   "metadata": {
    "collapsed": true
   },
   "outputs": [],
   "source": [
    "#df.info(max_cols=200)"
   ]
  },
  {
   "cell_type": "code",
   "execution_count": 119,
   "metadata": {},
   "outputs": [
    {
     "data": {
      "text/plain": [
       "GasA     1419\n",
       "GasW       17\n",
       "Grav        7\n",
       "Wall        4\n",
       "OthW        2\n",
       "Floor       1\n",
       "Name: Heating, dtype: int64"
      ]
     },
     "execution_count": 119,
     "metadata": {},
     "output_type": "execute_result"
    }
   ],
   "source": [
    "df[\"Heating\"].value_counts()\n",
    "\n",
    "#pfffff..."
   ]
  },
  {
   "cell_type": "code",
   "execution_count": 120,
   "metadata": {
    "collapsed": true
   },
   "outputs": [],
   "source": [
    "df = df.drop(\"Heating\",axis=1)"
   ]
  },
  {
   "cell_type": "code",
   "execution_count": 121,
   "metadata": {},
   "outputs": [
    {
     "data": {
      "text/plain": [
       "Ex    740\n",
       "TA    421\n",
       "Gd    239\n",
       "Fa     49\n",
       "Po      1\n",
       "Name: HeatingQC, dtype: int64"
      ]
     },
     "execution_count": 121,
     "metadata": {},
     "output_type": "execute_result"
    }
   ],
   "source": [
    "df[\"HeatingQC\"].value_counts()"
   ]
  },
  {
   "cell_type": "code",
   "execution_count": 122,
   "metadata": {
    "collapsed": true
   },
   "outputs": [],
   "source": [
    "dummyAndDrop(df,\"HeatingQC\",\"Ex\")"
   ]
  },
  {
   "cell_type": "code",
   "execution_count": 123,
   "metadata": {
    "collapsed": true
   },
   "outputs": [],
   "source": [
    "#df.info(max_cols=200)"
   ]
  },
  {
   "cell_type": "code",
   "execution_count": 124,
   "metadata": {},
   "outputs": [
    {
     "data": {
      "text/plain": [
       "6110"
      ]
     },
     "execution_count": 124,
     "metadata": {},
     "output_type": "execute_result"
    }
   ],
   "source": [
    "max(df[\"TotalBsmtSF\"])"
   ]
  },
  {
   "cell_type": "code",
   "execution_count": 125,
   "metadata": {
    "collapsed": true
   },
   "outputs": [],
   "source": [
    "#df.info(max_cols=200)"
   ]
  },
  {
   "cell_type": "code",
   "execution_count": 126,
   "metadata": {},
   "outputs": [
    {
     "data": {
      "text/plain": [
       "Y    1361\n",
       "N      89\n",
       "Name: CentralAir, dtype: int64"
      ]
     },
     "execution_count": 126,
     "metadata": {},
     "output_type": "execute_result"
    }
   ],
   "source": [
    "df[\"CentralAir\"].value_counts()"
   ]
  },
  {
   "cell_type": "code",
   "execution_count": 127,
   "metadata": {
    "collapsed": true
   },
   "outputs": [],
   "source": [
    "dummyAndDrop(df,\"CentralAir\",\"N\")"
   ]
  },
  {
   "cell_type": "code",
   "execution_count": 128,
   "metadata": {
    "collapsed": true
   },
   "outputs": [],
   "source": [
    "#df.info(max_cols=200)"
   ]
  },
  {
   "cell_type": "code",
   "execution_count": 129,
   "metadata": {
    "collapsed": true
   },
   "outputs": [],
   "source": [
    "df[\"Electrical\"].value_counts()\n",
    "makeUnknown(df,\"Electrical\")\n",
    "dummyAndDrop(df,\"Electrical\",\"SBrkr\")"
   ]
  },
  {
   "cell_type": "code",
   "execution_count": 130,
   "metadata": {
    "collapsed": true
   },
   "outputs": [],
   "source": [
    "#df.info(max_cols=200)"
   ]
  },
  {
   "cell_type": "code",
   "execution_count": 131,
   "metadata": {
    "collapsed": true
   },
   "outputs": [],
   "source": [
    "df[\"LowQualFinSF\"].value_counts()\n",
    "\n",
    "#dropping it, because there's basically no distinction to make even if i made it 0 and other.\n",
    "\n",
    "df = df.drop(\"LowQualFinSF\",axis=1)"
   ]
  },
  {
   "cell_type": "code",
   "execution_count": 132,
   "metadata": {},
   "outputs": [
    {
     "data": {
      "text/plain": [
       "0    904\n",
       "1    534\n",
       "2     12\n",
       "Name: HalfBath, dtype: int64"
      ]
     },
     "execution_count": 132,
     "metadata": {},
     "output_type": "execute_result"
    }
   ],
   "source": [
    "df[\"BsmtFullBath\"].value_counts()\n",
    "\n",
    "#I think that can stay\n",
    "\n",
    "df[\"BsmtHalfBath\"].value_counts()\n",
    "\n",
    "#This too\n",
    "\n",
    "df[\"FullBath\"].value_counts()\n",
    "\n",
    "df[\"HalfBath\"].value_counts()\n",
    "\n",
    "#yeah the linear relationship makes sense for all of them I think.  It may actually make sense to combine these to\n",
    "#be just \"total baths\" and \"total halfbaths, but whatever, leaving it for now.\""
   ]
  },
  {
   "cell_type": "code",
   "execution_count": 133,
   "metadata": {
    "collapsed": true
   },
   "outputs": [],
   "source": [
    "#df.info(max_cols=200)"
   ]
  },
  {
   "cell_type": "code",
   "execution_count": 134,
   "metadata": {},
   "outputs": [
    {
     "data": {
      "text/plain": [
       "1    1383\n",
       "2      64\n",
       "3       2\n",
       "0       1\n",
       "Name: KitchenAbvGr, dtype: int64"
      ]
     },
     "execution_count": 134,
     "metadata": {},
     "output_type": "execute_result"
    }
   ],
   "source": [
    "df[\"BedroomAbvGr\"].value_counts()\n",
    "df[\"KitchenAbvGr\"].value_counts()"
   ]
  },
  {
   "cell_type": "code",
   "execution_count": 135,
   "metadata": {},
   "outputs": [
    {
     "data": {
      "text/plain": [
       "0"
      ]
     },
     "execution_count": 135,
     "metadata": {},
     "output_type": "execute_result"
    }
   ],
   "source": [
    "df[\"KitchenQual\"].isnull().sum()"
   ]
  },
  {
   "cell_type": "code",
   "execution_count": 136,
   "metadata": {},
   "outputs": [
    {
     "data": {
      "text/plain": [
       "TA    727\n",
       "Gd    586\n",
       "Ex    100\n",
       "Fa     37\n",
       "Name: KitchenQual, dtype: int64"
      ]
     },
     "execution_count": 136,
     "metadata": {},
     "output_type": "execute_result"
    }
   ],
   "source": [
    "df[\"KitchenQual\"].value_counts()"
   ]
  },
  {
   "cell_type": "code",
   "execution_count": 137,
   "metadata": {
    "collapsed": true
   },
   "outputs": [],
   "source": [
    "dummyAndDrop(df,\"KitchenQual\",\"TA\")"
   ]
  },
  {
   "cell_type": "code",
   "execution_count": 138,
   "metadata": {
    "collapsed": true
   },
   "outputs": [],
   "source": [
    "#df.info(max_cols=200)"
   ]
  },
  {
   "cell_type": "code",
   "execution_count": 139,
   "metadata": {},
   "outputs": [
    {
     "data": {
      "text/plain": [
       "6     398\n",
       "7     327\n",
       "5     275\n",
       "8     187\n",
       "4      94\n",
       "9      74\n",
       "10     47\n",
       "11     18\n",
       "3      17\n",
       "12     11\n",
       "14      1\n",
       "2       1\n",
       "Name: TotRmsAbvGrd, dtype: int64"
      ]
     },
     "execution_count": 139,
     "metadata": {},
     "output_type": "execute_result"
    }
   ],
   "source": [
    "df[\"TotRmsAbvGrd\"].value_counts()"
   ]
  },
  {
   "cell_type": "code",
   "execution_count": 140,
   "metadata": {},
   "outputs": [
    {
     "data": {
      "text/plain": [
       "Typ     1350\n",
       "Min2      34\n",
       "Min1      31\n",
       "Mod       15\n",
       "Maj1      14\n",
       "Maj2       5\n",
       "Sev        1\n",
       "Name: Functional, dtype: int64"
      ]
     },
     "execution_count": 140,
     "metadata": {},
     "output_type": "execute_result"
    }
   ],
   "source": [
    "df[\"Functional\"].value_counts()"
   ]
  },
  {
   "cell_type": "code",
   "execution_count": 141,
   "metadata": {
    "collapsed": true
   },
   "outputs": [],
   "source": [
    "dummyAndDrop(df,\"Functional\",\"Typ\")"
   ]
  },
  {
   "cell_type": "code",
   "execution_count": 142,
   "metadata": {
    "collapsed": true
   },
   "outputs": [],
   "source": [
    "#df.info(max_cols=250)"
   ]
  },
  {
   "cell_type": "code",
   "execution_count": 143,
   "metadata": {},
   "outputs": [
    {
     "data": {
      "text/plain": [
       "Gd    379\n",
       "TA    313\n",
       "Fa     33\n",
       "Ex     24\n",
       "Po     20\n",
       "Name: FireplaceQu, dtype: int64"
      ]
     },
     "execution_count": 143,
     "metadata": {},
     "output_type": "execute_result"
    }
   ],
   "source": [
    "df[\"FireplaceQu\"].value_counts()"
   ]
  },
  {
   "cell_type": "code",
   "execution_count": 144,
   "metadata": {
    "collapsed": true
   },
   "outputs": [],
   "source": [
    "def nameNulls(df,col,name):\n",
    "    '''more general version of makeUnknown'''\n",
    "    nullify = df[col].copy().values\n",
    "\n",
    "    for i in range(len(nullify)):\n",
    "        try:\n",
    "            if math.isnan(float(nullify[i])) == True:\n",
    "                nullify[i] = name\n",
    "        except:\n",
    "            pass\n",
    "    df[col] = nullify"
   ]
  },
  {
   "cell_type": "code",
   "execution_count": 145,
   "metadata": {
    "collapsed": true
   },
   "outputs": [],
   "source": [
    "nameNulls(df,\"FireplaceQu\",\"None\") #making an assumption here, but honestly it doesn't matter."
   ]
  },
  {
   "cell_type": "code",
   "execution_count": 146,
   "metadata": {},
   "outputs": [
    {
     "data": {
      "text/plain": [
       "None    681\n",
       "Gd      379\n",
       "TA      313\n",
       "Fa       33\n",
       "Ex       24\n",
       "Po       20\n",
       "Name: FireplaceQu, dtype: int64"
      ]
     },
     "execution_count": 146,
     "metadata": {},
     "output_type": "execute_result"
    }
   ],
   "source": [
    "df[\"FireplaceQu\"].value_counts()"
   ]
  },
  {
   "cell_type": "code",
   "execution_count": 147,
   "metadata": {
    "collapsed": true
   },
   "outputs": [],
   "source": [
    "dummyAndDrop(df,\"FireplaceQu\",\"None\")"
   ]
  },
  {
   "cell_type": "code",
   "execution_count": 148,
   "metadata": {
    "collapsed": true
   },
   "outputs": [],
   "source": [
    "#df.info(max_cols=250)"
   ]
  },
  {
   "cell_type": "code",
   "execution_count": 149,
   "metadata": {
    "collapsed": true
   },
   "outputs": [],
   "source": [
    "df[\"GarageType\"].isnull().sum()\n",
    "nameNulls(df,\"GarageType\",\"idklol\")\n",
    "dummyAndDrop(df,\"GarageType\",\"idklol\")"
   ]
  },
  {
   "cell_type": "code",
   "execution_count": 150,
   "metadata": {
    "collapsed": true
   },
   "outputs": [],
   "source": [
    "df[\"GarageYrBlt\"].value_counts()\n",
    "\n",
    "#This is undoubtedly impatient, but I'm just dropping this because I don't know what to do with it, and I don't\n",
    "#think it matters that much.\n",
    "\n",
    "df = df.drop(\"GarageYrBlt\",axis=1)"
   ]
  },
  {
   "cell_type": "code",
   "execution_count": 151,
   "metadata": {
    "collapsed": true
   },
   "outputs": [],
   "source": [
    "df[\"GarageFinish\"].value_counts()\n",
    "nameNulls(df,\"GarageFinish\",\"idklol\")\n",
    "dummyAndDrop(df,\"GarageFinish\",\"idklol\")"
   ]
  },
  {
   "cell_type": "code",
   "execution_count": 152,
   "metadata": {
    "collapsed": true
   },
   "outputs": [],
   "source": [
    "#df.info(max_cols=250)"
   ]
  },
  {
   "cell_type": "code",
   "execution_count": 153,
   "metadata": {
    "collapsed": true
   },
   "outputs": [],
   "source": [
    "df[\"GarageQual\"].value_counts()\n",
    "nameNulls(df,\"GarageQual\",\"idklol\")\n",
    "dummyAndDrop(df,\"GarageQual\",\"idklol\")"
   ]
  },
  {
   "cell_type": "code",
   "execution_count": 154,
   "metadata": {
    "collapsed": true
   },
   "outputs": [],
   "source": [
    "df[\"GarageCond\"].value_counts()\n",
    "nameNulls(df,\"GarageCond\",\"idklol\")\n",
    "dummyAndDrop(df,\"GarageCond\",\"idklol\")"
   ]
  },
  {
   "cell_type": "code",
   "execution_count": 155,
   "metadata": {
    "collapsed": true
   },
   "outputs": [],
   "source": [
    "df[\"PavedDrive\"].value_counts()\n",
    "dummyAndDrop(df,\"PavedDrive\",\"P\")"
   ]
  },
  {
   "cell_type": "code",
   "execution_count": 156,
   "metadata": {
    "collapsed": true
   },
   "outputs": [],
   "source": [
    "#df.info(max_cols=250)"
   ]
  },
  {
   "cell_type": "code",
   "execution_count": 157,
   "metadata": {
    "collapsed": true
   },
   "outputs": [],
   "source": [
    "df[\"PoolQC\"].value_counts()\n",
    "# LOL\n",
    "\n",
    "df = df.drop(\"PoolQC\",axis=1)"
   ]
  },
  {
   "cell_type": "code",
   "execution_count": 158,
   "metadata": {
    "collapsed": true
   },
   "outputs": [],
   "source": [
    "df[\"Fence\"].value_counts()\n",
    "nameNulls(df,\"Fence\",\"noFence\")\n",
    "dummyAndDrop(df,\"Fence\",\"noFence\")"
   ]
  },
  {
   "cell_type": "code",
   "execution_count": 159,
   "metadata": {
    "collapsed": true
   },
   "outputs": [],
   "source": [
    "#df.info(max_cols=250)"
   ]
  },
  {
   "cell_type": "code",
   "execution_count": 160,
   "metadata": {
    "collapsed": true
   },
   "outputs": [],
   "source": [
    "df[\"MiscFeature\"].value_counts()\n",
    "\n",
    "# hardly any vals again!  ¯\\_(ツ)_/¯\n",
    "\n",
    "df = df.drop(\"MiscFeature\",axis=1)"
   ]
  },
  {
   "cell_type": "code",
   "execution_count": 161,
   "metadata": {},
   "outputs": [
    {
     "data": {
      "text/plain": [
       "2009    336\n",
       "2007    328\n",
       "2006    312\n",
       "2008    302\n",
       "2010    172\n",
       "Name: YrSold, dtype: int64"
      ]
     },
     "execution_count": 161,
     "metadata": {},
     "output_type": "execute_result"
    }
   ],
   "source": [
    "df[\"YrSold\"].value_counts()\n",
    "\n",
    "#ah, and so here we need to isolate one group and make it the test.  Later."
   ]
  },
  {
   "cell_type": "code",
   "execution_count": 162,
   "metadata": {
    "collapsed": true
   },
   "outputs": [],
   "source": [
    "df[\"MoSold\"].value_counts()\n",
    "dummyAndDrop(df,\"MoSold\",\"12\")"
   ]
  },
  {
   "cell_type": "code",
   "execution_count": 163,
   "metadata": {
    "collapsed": true
   },
   "outputs": [],
   "source": [
    "#df.info(max_cols=250)"
   ]
  },
  {
   "cell_type": "code",
   "execution_count": 164,
   "metadata": {
    "collapsed": true
   },
   "outputs": [],
   "source": [
    "df[\"SaleType\"].value_counts()\n",
    "dummyAndDrop(df,\"SaleType\",\"WD\")"
   ]
  },
  {
   "cell_type": "code",
   "execution_count": 165,
   "metadata": {
    "collapsed": true
   },
   "outputs": [],
   "source": [
    "df[\"SaleCondition\"].value_counts()\n",
    "dummyAndDrop(df,\"SaleCondition\",\"Normal\")"
   ]
  },
  {
   "cell_type": "code",
   "execution_count": 166,
   "metadata": {
    "collapsed": true
   },
   "outputs": [],
   "source": [
    "#df.info(max_cols=250)"
   ]
  },
  {
   "cell_type": "code",
   "execution_count": 167,
   "metadata": {},
   "outputs": [
    {
     "data": {
      "text/plain": [
       "0      1248\n",
       "112      15\n",
       "96        6\n",
       "216       5\n",
       "192       5\n",
       "144       5\n",
       "120       4\n",
       "252       4\n",
       "116       4\n",
       "228       3\n",
       "128       3\n",
       "150       3\n",
       "176       3\n",
       "184       3\n",
       "102       3\n",
       "40        3\n",
       "126       3\n",
       "156       3\n",
       "244       2\n",
       "190       2\n",
       "264       2\n",
       "180       2\n",
       "168       2\n",
       "164       2\n",
       "160       2\n",
       "158       2\n",
       "154       2\n",
       "114       2\n",
       "108       2\n",
       "100       2\n",
       "       ... \n",
       "170       1\n",
       "268       1\n",
       "196       1\n",
       "177       1\n",
       "208       1\n",
       "183       1\n",
       "189       1\n",
       "200       1\n",
       "259       1\n",
       "194       1\n",
       "386       1\n",
       "218       1\n",
       "272       1\n",
       "148       1\n",
       "293       1\n",
       "291       1\n",
       "123       1\n",
       "286       1\n",
       "280       1\n",
       "129       1\n",
       "130       1\n",
       "134       1\n",
       "136       1\n",
       "242       1\n",
       "138       1\n",
       "140       1\n",
       "143       1\n",
       "275       1\n",
       "145       1\n",
       "552       1\n",
       "Name: EnclosedPorch, Length: 118, dtype: int64"
      ]
     },
     "execution_count": 167,
     "metadata": {},
     "output_type": "execute_result"
    }
   ],
   "source": [
    "df[\"EnclosedPorch\"].value_counts()"
   ]
  },
  {
   "cell_type": "code",
   "execution_count": 168,
   "metadata": {
    "collapsed": true
   },
   "outputs": [],
   "source": [
    "def binarize(df,col):\n",
    "    '''changing a column to be just 0s and 1s because it already has a ton of 0s and the other things it can be\n",
    "    are uninteresting and/or won't help any info be captured unless they are all pooled to be 1s.'''\n",
    "    nullify = df[col].copy().values\n",
    "    for i in range(len(nullify)):\n",
    "        if nullify[i] != 0:\n",
    "            nullify[i] = 1\n",
    "    df[col] = nullify"
   ]
  },
  {
   "cell_type": "code",
   "execution_count": 169,
   "metadata": {
    "collapsed": true
   },
   "outputs": [],
   "source": [
    "binarize(df,\"EnclosedPorch\")"
   ]
  },
  {
   "cell_type": "code",
   "execution_count": 170,
   "metadata": {},
   "outputs": [
    {
     "data": {
      "text/plain": [
       "0    1248\n",
       "1     202\n",
       "Name: EnclosedPorch, dtype: int64"
      ]
     },
     "execution_count": 170,
     "metadata": {},
     "output_type": "execute_result"
    }
   ],
   "source": [
    "df[\"EnclosedPorch\"].value_counts()"
   ]
  },
  {
   "cell_type": "code",
   "execution_count": 171,
   "metadata": {
    "collapsed": true
   },
   "outputs": [],
   "source": [
    "df[\"3SsnPorch\"].value_counts()\n",
    "binarize(df,\"3SsnPorch\")"
   ]
  },
  {
   "cell_type": "code",
   "execution_count": 172,
   "metadata": {},
   "outputs": [
    {
     "data": {
      "text/plain": [
       "0    1426\n",
       "1      24\n",
       "Name: 3SsnPorch, dtype: int64"
      ]
     },
     "execution_count": 172,
     "metadata": {},
     "output_type": "execute_result"
    }
   ],
   "source": [
    "df[\"3SsnPorch\"].value_counts()"
   ]
  },
  {
   "cell_type": "code",
   "execution_count": 173,
   "metadata": {
    "collapsed": true
   },
   "outputs": [],
   "source": [
    "df[\"PoolArea\"].value_counts()\n",
    "\n",
    "# 7 vals basically x_x...\n",
    "\n",
    "df = df.drop(\"PoolArea\",axis=1)"
   ]
  },
  {
   "cell_type": "code",
   "execution_count": 174,
   "metadata": {
    "collapsed": true
   },
   "outputs": [],
   "source": [
    "df[\"ScreenPorch\"].value_counts()\n",
    "binarize(df,\"ScreenPorch\")"
   ]
  },
  {
   "cell_type": "code",
   "execution_count": 175,
   "metadata": {
    "collapsed": true
   },
   "outputs": [],
   "source": [
    "#df.info(max_cols=250)\n",
    "\n",
    "#Ah... at least everything is clean... I think...\n",
    "\n",
    "#Well... I mean it's a lot of work... I think I've shown I get the general idea and can definitely write\n",
    "#functions to speed up the process a little bit...\n",
    "\n",
    "#One question I feel like this has prompted from me is... \"What dummy column(s) should you drop?\""
   ]
  },
  {
   "cell_type": "code",
   "execution_count": 176,
   "metadata": {
    "collapsed": true
   },
   "outputs": [],
   "source": [
    "#df.info(max_cols=250)"
   ]
  },
  {
   "cell_type": "code",
   "execution_count": 177,
   "metadata": {
    "collapsed": true
   },
   "outputs": [],
   "source": [
    "X = df.drop(\"SalePrice\",axis=1)\n",
    "y = df[\"SalePrice\"]"
   ]
  },
  {
   "cell_type": "code",
   "execution_count": 178,
   "metadata": {
    "collapsed": true
   },
   "outputs": [],
   "source": [
    "from sklearn.preprocessing import StandardScaler"
   ]
  },
  {
   "cell_type": "code",
   "execution_count": 179,
   "metadata": {
    "collapsed": true
   },
   "outputs": [],
   "source": [
    "ss = StandardScaler()\n",
    "Xs = ss.fit_transform(X)"
   ]
  },
  {
   "cell_type": "code",
   "execution_count": 180,
   "metadata": {
    "collapsed": true
   },
   "outputs": [],
   "source": [
    "from sklearn.linear_model import Lasso, LassoCV"
   ]
  },
  {
   "cell_type": "code",
   "execution_count": 181,
   "metadata": {
    "collapsed": true
   },
   "outputs": [],
   "source": [
    "from sklearn.model_selection import cross_val_score,KFold"
   ]
  },
  {
   "cell_type": "code",
   "execution_count": 182,
   "metadata": {},
   "outputs": [
    {
     "name": "stdout",
     "output_type": "stream",
     "text": [
      "760.26964169\n"
     ]
    }
   ],
   "source": [
    "optimal_lasso = LassoCV(n_alphas=200,cv=10)\n",
    "optimal_lasso.fit(Xs,y)\n",
    "\n",
    "print(optimal_lasso.alpha_)"
   ]
  },
  {
   "cell_type": "code",
   "execution_count": 183,
   "metadata": {
    "collapsed": true
   },
   "outputs": [],
   "source": [
    "lasso = Lasso(alpha=optimal_lasso.alpha_)"
   ]
  },
  {
   "cell_type": "code",
   "execution_count": 184,
   "metadata": {
    "collapsed": true
   },
   "outputs": [],
   "source": [
    "kf_shuffle = KFold(n_splits=5,shuffle=True,random_state=42)\n",
    "scores = cross_val_score(lasso, Xs, y, cv=kf_shuffle)"
   ]
  },
  {
   "cell_type": "code",
   "execution_count": 185,
   "metadata": {},
   "outputs": [
    {
     "name": "stdout",
     "output_type": "stream",
     "text": [
      "[ 0.88268789  0.86777523  0.83506134  0.68348468  0.84208345]\n",
      "0.822218518436\n",
      "0.0714683033768\n"
     ]
    }
   ],
   "source": [
    "print(scores)\n",
    "print(np.mean(scores))\n",
    "print(np.std(scores))"
   ]
  },
  {
   "cell_type": "code",
   "execution_count": 186,
   "metadata": {
    "collapsed": true
   },
   "outputs": [],
   "source": [
    "#So I'm getting a really weird result where my scores always have ONE score where it's REALLY bad, but all the others\n",
    "#are good.  I'm thinking some subset of data throws it off and there may be a way to resolve that by\n",
    "#figuring out which features the /good/ lassos are keeping."
   ]
  },
  {
   "cell_type": "code",
   "execution_count": 187,
   "metadata": {
    "collapsed": true
   },
   "outputs": [],
   "source": [
    "#Oh also this is for all of the features just to see if I can get a general model."
   ]
  },
  {
   "cell_type": "code",
   "execution_count": 188,
   "metadata": {
    "collapsed": true
   },
   "outputs": [],
   "source": [
    "lasso2 = Lasso(alpha=optimal_lasso.alpha_)"
   ]
  },
  {
   "cell_type": "code",
   "execution_count": 189,
   "metadata": {},
   "outputs": [
    {
     "data": {
      "text/plain": [
       "Lasso(alpha=760.26964168993891, copy_X=True, fit_intercept=True,\n",
       "   max_iter=1000, normalize=False, positive=False, precompute=False,\n",
       "   random_state=None, selection='cyclic', tol=0.0001, warm_start=False)"
      ]
     },
     "execution_count": 189,
     "metadata": {},
     "output_type": "execute_result"
    }
   ],
   "source": [
    "lasso2.fit(Xs,y)"
   ]
  },
  {
   "cell_type": "code",
   "execution_count": 190,
   "metadata": {},
   "outputs": [
    {
     "data": {
      "text/plain": [
       "Index([u'LotFrontage', u'LotArea', u'OverallQual', u'OverallCond',\n",
       "       u'YearBuilt', u'YearRemodAdd', u'MasVnrArea', u'BsmtFinSF1',\n",
       "       u'BsmtFinSF2', u'BsmtUnfSF',\n",
       "       ...\n",
       "       u'SaleType_ConLD', u'SaleType_ConLI', u'SaleType_ConLw',\n",
       "       u'SaleType_New', u'SaleType_Oth', u'SaleCondition_Abnorml',\n",
       "       u'SaleCondition_AdjLand', u'SaleCondition_Alloca',\n",
       "       u'SaleCondition_Family', u'SaleCondition_Partial'],\n",
       "      dtype='object', length=242)"
      ]
     },
     "execution_count": 190,
     "metadata": {},
     "output_type": "execute_result"
    }
   ],
   "source": [
    "X.columns"
   ]
  },
  {
   "cell_type": "code",
   "execution_count": 191,
   "metadata": {},
   "outputs": [
    {
     "data": {
      "text/plain": [
       "242"
      ]
     },
     "execution_count": 191,
     "metadata": {},
     "output_type": "execute_result"
    }
   ],
   "source": [
    "len(lasso2.coef_)"
   ]
  },
  {
   "cell_type": "code",
   "execution_count": 192,
   "metadata": {},
   "outputs": [
    {
     "data": {
      "text/plain": [
       "array([ -0.00000000e+00,   3.08436957e+03,   1.31589268e+04,\n",
       "         4.14419230e+03,   4.39941219e+03,   1.84327570e+03,\n",
       "         1.75365849e+03,   1.76682916e+03,   0.00000000e+00,\n",
       "        -0.00000000e+00,   9.46389269e+02,   0.00000000e+00,\n",
       "         0.00000000e+00,   2.29718344e+04,   2.59371973e+03,\n",
       "         0.00000000e+00,   2.72950989e+03,   6.73104977e+02,\n",
       "        -0.00000000e+00,  -3.01527250e+03,   1.55746073e+03,\n",
       "         2.57915681e+03,   7.18991254e+03,   0.00000000e+00,\n",
       "         1.96462243e+03,   0.00000000e+00,  -0.00000000e+00,\n",
       "         2.19639573e+02,   1.29305628e+03,  -0.00000000e+00,\n",
       "        -0.00000000e+00,   4.20371648e+03,   5.10335952e+02,\n",
       "         0.00000000e+00,   0.00000000e+00,   0.00000000e+00,\n",
       "         0.00000000e+00,  -0.00000000e+00,  -0.00000000e+00,\n",
       "        -0.00000000e+00,  -0.00000000e+00,  -1.57367195e+02,\n",
       "        -0.00000000e+00,  -2.11759006e+03,  -0.00000000e+00,\n",
       "         9.42489199e+01,   0.00000000e+00,  -1.91840798e+03,\n",
       "         0.00000000e+00,   6.04623714e+02,  -1.71371585e+03,\n",
       "        -2.62944082e+03,   5.17054040e+01,   0.00000000e+00,\n",
       "        -0.00000000e+00,   1.92044546e+03,  -5.69970862e+02,\n",
       "        -1.22382062e+02,   9.79133911e+02,  -0.00000000e+00,\n",
       "        -0.00000000e+00,   0.00000000e+00,   3.45693342e+02,\n",
       "         0.00000000e+00,   3.23660164e+01,   3.49881082e+03,\n",
       "        -2.68340491e+03,  -0.00000000e+00,  -0.00000000e+00,\n",
       "        -0.00000000e+00,  -1.00871996e+03,  -1.20525950e+03,\n",
       "         0.00000000e+00,  -4.31355999e+02,   8.15865169e+03,\n",
       "         6.49777076e+03,  -6.68639909e+02,  -0.00000000e+00,\n",
       "        -0.00000000e+00,   0.00000000e+00,   2.66794773e+03,\n",
       "         5.74182973e+03,   0.00000000e+00,   7.00059307e+02,\n",
       "        -8.42183212e+02,  -1.69729478e+03,  -0.00000000e+00,\n",
       "        -1.01936348e+03,  -1.09393263e+03,  -0.00000000e+00,\n",
       "        -0.00000000e+00,  -0.00000000e+00,  -0.00000000e+00,\n",
       "        -2.81439865e+00,  -1.50047001e+03,  -2.10571805e+03,\n",
       "        -0.00000000e+00,   0.00000000e+00,   8.33857148e+01,\n",
       "         0.00000000e+00,   0.00000000e+00,   0.00000000e+00,\n",
       "        -0.00000000e+00,  -0.00000000e+00,   2.89442550e+03,\n",
       "         0.00000000e+00,   0.00000000e+00,  -6.34193112e+02,\n",
       "        -4.00381673e+01,   0.00000000e+00,  -0.00000000e+00,\n",
       "         0.00000000e+00,  -4.65439643e+02,  -0.00000000e+00,\n",
       "        -0.00000000e+00,  -0.00000000e+00,   0.00000000e+00,\n",
       "        -0.00000000e+00,   0.00000000e+00,   0.00000000e+00,\n",
       "         0.00000000e+00,  -0.00000000e+00,   8.56262316e+02,\n",
       "         0.00000000e+00,  -0.00000000e+00,  -5.23744850e+01,\n",
       "        -0.00000000e+00,  -5.60950250e+02,  -0.00000000e+00,\n",
       "        -1.62999411e+02,  -2.22056894e+02,  -0.00000000e+00,\n",
       "         0.00000000e+00,   3.11101606e+03,   0.00000000e+00,\n",
       "         1.88123828e+03,   1.98348403e+02,  -0.00000000e+00,\n",
       "        -0.00000000e+00,  -0.00000000e+00,  -0.00000000e+00,\n",
       "        -0.00000000e+00,  -7.86947839e+01,  -0.00000000e+00,\n",
       "        -0.00000000e+00,   7.42494197e+03,   0.00000000e+00,\n",
       "         0.00000000e+00,  -0.00000000e+00,  -5.86574123e+02,\n",
       "        -0.00000000e+00,   0.00000000e+00,  -0.00000000e+00,\n",
       "         1.42276566e+03,   5.95628884e+03,   5.40039669e+02,\n",
       "        -2.06875747e+02,   0.00000000e+00,   0.00000000e+00,\n",
       "         2.63820759e+03,  -0.00000000e+00,   0.00000000e+00,\n",
       "        -0.00000000e+00,   2.33906333e+02,  -5.17039613e+01,\n",
       "         0.00000000e+00,  -0.00000000e+00,   0.00000000e+00,\n",
       "        -0.00000000e+00,  -0.00000000e+00,  -4.01699608e+02,\n",
       "        -0.00000000e+00,  -2.75559888e+02,   0.00000000e+00,\n",
       "         0.00000000e+00,   0.00000000e+00,   0.00000000e+00,\n",
       "        -0.00000000e+00,   0.00000000e+00,   6.72006275e+03,\n",
       "         0.00000000e+00,   2.30676290e+02,  -4.76783414e+02,\n",
       "        -6.87526280e+02,  -1.04310591e+03,  -6.72104103e+02,\n",
       "        -0.00000000e+00,  -9.50295512e+02,   1.05274906e+03,\n",
       "        -0.00000000e+00,   0.00000000e+00,  -0.00000000e+00,\n",
       "         0.00000000e+00,  -6.90272102e+02,  -0.00000000e+00,\n",
       "        -0.00000000e+00,   0.00000000e+00,  -0.00000000e+00,\n",
       "        -0.00000000e+00,   3.87309305e+02,  -0.00000000e+00,\n",
       "        -0.00000000e+00,   1.65412527e+03,  -6.53144924e+02,\n",
       "         0.00000000e+00,  -0.00000000e+00,  -0.00000000e+00,\n",
       "        -0.00000000e+00,  -1.17380662e+01,  -0.00000000e+00,\n",
       "        -0.00000000e+00,  -0.00000000e+00,   0.00000000e+00,\n",
       "         0.00000000e+00,  -0.00000000e+00,  -0.00000000e+00,\n",
       "         0.00000000e+00,  -0.00000000e+00,  -0.00000000e+00,\n",
       "        -0.00000000e+00,   0.00000000e+00,  -0.00000000e+00,\n",
       "         2.94127088e+02,   0.00000000e+00,   8.96854729e+02,\n",
       "        -1.02732067e+02,  -0.00000000e+00,  -1.01763045e+03,\n",
       "         0.00000000e+00,  -0.00000000e+00,   0.00000000e+00,\n",
       "         4.95900808e+02,  -0.00000000e+00,   0.00000000e+00,\n",
       "         0.00000000e+00,   2.91159554e+03,   0.00000000e+00,\n",
       "        -1.04465381e+03,   0.00000000e+00,   0.00000000e+00,\n",
       "        -2.37328650e+02,   0.00000000e+00])"
      ]
     },
     "execution_count": 192,
     "metadata": {},
     "output_type": "execute_result"
    }
   ],
   "source": [
    "lasso2.coef_"
   ]
  },
  {
   "cell_type": "code",
   "execution_count": 193,
   "metadata": {
    "collapsed": true
   },
   "outputs": [],
   "source": [
    "a = zip(X.columns,lasso2.coef_)\n",
    "\n",
    "Keepers = []\n",
    "for i in range(len(a)):\n",
    "    if not (a[i][1] < 0.01 and a[i][1] > -0.01):\n",
    "        Keepers.append(a[i][0])"
   ]
  },
  {
   "cell_type": "code",
   "execution_count": 194,
   "metadata": {},
   "outputs": [
    {
     "data": {
      "text/plain": [
       "99"
      ]
     },
     "execution_count": 194,
     "metadata": {},
     "output_type": "execute_result"
    }
   ],
   "source": [
    "len(Keepers)"
   ]
  },
  {
   "cell_type": "code",
   "execution_count": 195,
   "metadata": {
    "collapsed": true
   },
   "outputs": [],
   "source": [
    "X2 = df[Keepers]\n",
    "y = df[\"SalePrice\"]\n",
    "\n",
    "Xs2 = ss.fit_transform(X2)"
   ]
  },
  {
   "cell_type": "code",
   "execution_count": 196,
   "metadata": {
    "collapsed": true
   },
   "outputs": [],
   "source": [
    "linreg = LinearRegression()"
   ]
  },
  {
   "cell_type": "code",
   "execution_count": 197,
   "metadata": {
    "collapsed": true
   },
   "outputs": [],
   "source": [
    "kf_shuffle = KFold(n_splits=5,shuffle=True,random_state=42)\n",
    "scores = cross_val_score(linreg, Xs2, y, cv=kf_shuffle)"
   ]
  },
  {
   "cell_type": "code",
   "execution_count": 198,
   "metadata": {},
   "outputs": [
    {
     "name": "stdout",
     "output_type": "stream",
     "text": [
      "[ 0.87242533 -1.70226953  0.84878628  0.70014683  0.85800516]\n",
      "0.315418814741\n",
      "1.01076396393\n"
     ]
    }
   ],
   "source": [
    "print(scores)\n",
    "print(np.mean(scores))\n",
    "print(np.std(scores))"
   ]
  },
  {
   "cell_type": "code",
   "execution_count": 199,
   "metadata": {},
   "outputs": [
    {
     "name": "stdout",
     "output_type": "stream",
     "text": [
      "250.354607621\n"
     ]
    }
   ],
   "source": [
    "optimal_lasso = LassoCV(n_alphas=200,cv=10)\n",
    "optimal_lasso.fit(Xs2,y)\n",
    "\n",
    "print(optimal_lasso.alpha_)"
   ]
  },
  {
   "cell_type": "code",
   "execution_count": 200,
   "metadata": {
    "collapsed": true
   },
   "outputs": [],
   "source": [
    "lassoFinal = Lasso(alpha=optimal_lasso.alpha_)"
   ]
  },
  {
   "cell_type": "code",
   "execution_count": 201,
   "metadata": {
    "collapsed": true
   },
   "outputs": [],
   "source": [
    "kf_shuffle = KFold(n_splits=20,shuffle=True,random_state=42)\n",
    "scores = cross_val_score(lassoFinal, Xs2, y, cv=kf_shuffle)"
   ]
  },
  {
   "cell_type": "code",
   "execution_count": 202,
   "metadata": {},
   "outputs": [
    {
     "name": "stdout",
     "output_type": "stream",
     "text": [
      "[ 0.86204404  0.82343939  0.94179209  0.88458032  0.83387247  0.9170083\n",
      "  0.85299097  0.90504725  0.89778777  0.64149475  0.8914994   0.91721671\n",
      "  0.89836332 -0.06732658  0.85612116  0.93580283  0.87110646  0.83049459\n",
      "  0.86088469  0.85819964]\n",
      "0.820620979868\n",
      "0.212748165122\n"
     ]
    }
   ],
   "source": [
    "print(scores)\n",
    "print(np.mean(scores))\n",
    "print(np.std(scores))"
   ]
  },
  {
   "cell_type": "code",
   "execution_count": 203,
   "metadata": {
    "collapsed": true
   },
   "outputs": [],
   "source": [
    "#It's like a couple small parts of the data are throwing everything off when they're in the test or something.\n",
    "\n",
    "#Ik I am supposed to split based on time.  I'll try that and see what happens.\n",
    "\n",
    "#======================="
   ]
  },
  {
   "cell_type": "code",
   "execution_count": 204,
   "metadata": {
    "collapsed": true
   },
   "outputs": [],
   "source": [
    "X3 = df[Keepers]\n",
    "y3 = df[\"SalePrice\"]\n",
    "\n",
    "Xs3 = ss.fit_transform(X3)"
   ]
  },
  {
   "cell_type": "code",
   "execution_count": 205,
   "metadata": {
    "collapsed": true
   },
   "outputs": [],
   "source": [
    "train = df[df[\"YrSold\"] < 2010]\n",
    "test = df[df[\"YrSold\"] >= 2010]"
   ]
  },
  {
   "cell_type": "code",
   "execution_count": 206,
   "metadata": {
    "collapsed": true
   },
   "outputs": [],
   "source": [
    "X_train = train[Keepers]\n",
    "y_train = train[\"SalePrice\"]\n",
    "X_test = test[Keepers]\n",
    "y_test = test[\"SalePrice\"]"
   ]
  },
  {
   "cell_type": "code",
   "execution_count": 207,
   "metadata": {
    "collapsed": true
   },
   "outputs": [],
   "source": [
    "X_train_std = ss.fit_transform(X_train)\n",
    "X_test_std = ss.fit_transform(X_test)"
   ]
  },
  {
   "cell_type": "code",
   "execution_count": 208,
   "metadata": {},
   "outputs": [
    {
     "name": "stdout",
     "output_type": "stream",
     "text": [
      "250.468251764\n"
     ]
    }
   ],
   "source": [
    "optimal_lasso = LassoCV(n_alphas=200,cv=10)\n",
    "optimal_lasso.fit(X_train_std,y_train)\n",
    "\n",
    "print(optimal_lasso.alpha_)"
   ]
  },
  {
   "cell_type": "code",
   "execution_count": 209,
   "metadata": {
    "collapsed": true
   },
   "outputs": [],
   "source": [
    "lassoTest = Lasso(alpha=optimal_lasso.alpha_)"
   ]
  },
  {
   "cell_type": "code",
   "execution_count": 210,
   "metadata": {},
   "outputs": [
    {
     "data": {
      "text/plain": [
       "Lasso(alpha=250.4682517636025, copy_X=True, fit_intercept=True, max_iter=1000,\n",
       "   normalize=False, positive=False, precompute=False, random_state=None,\n",
       "   selection='cyclic', tol=0.0001, warm_start=False)"
      ]
     },
     "execution_count": 210,
     "metadata": {},
     "output_type": "execute_result"
    }
   ],
   "source": [
    "lassoTest.fit(X_train_std,y_train)"
   ]
  },
  {
   "cell_type": "code",
   "execution_count": 211,
   "metadata": {},
   "outputs": [
    {
     "data": {
      "text/plain": [
       "0.90226672613550973"
      ]
     },
     "execution_count": 211,
     "metadata": {},
     "output_type": "execute_result"
    }
   ],
   "source": [
    "lassoTest.score(X_test_std,y_test)"
   ]
  },
  {
   "cell_type": "code",
   "execution_count": 212,
   "metadata": {
    "collapsed": true
   },
   "outputs": [],
   "source": [
    "#lassoTest.coef_"
   ]
  },
  {
   "cell_type": "code",
   "execution_count": 213,
   "metadata": {
    "collapsed": true
   },
   "outputs": [],
   "source": [
    "#Well so that's luck, but a good score for future selling, and so that's a good sign.\n",
    "\n",
    "#I actually wanna try training on just the training data and cross validating like I was supposed to."
   ]
  },
  {
   "cell_type": "code",
   "execution_count": 214,
   "metadata": {
    "collapsed": true
   },
   "outputs": [],
   "source": [
    "lassoToast = Lasso(alpha=optimal_lasso.alpha_)"
   ]
  },
  {
   "cell_type": "code",
   "execution_count": 215,
   "metadata": {
    "collapsed": true
   },
   "outputs": [],
   "source": [
    "kf_shuffle = KFold(n_splits=10,shuffle=True,random_state=42)\n",
    "scores = cross_val_score(lassoToast, X_train_std, y_train, cv=kf_shuffle)"
   ]
  },
  {
   "cell_type": "code",
   "execution_count": 216,
   "metadata": {},
   "outputs": [
    {
     "data": {
      "text/plain": [
       "array([ 0.92656179,  0.86082112,  0.89191543,  0.89670207,  0.83218146,\n",
       "        0.79752815,  0.60243211,  0.84991754,  0.88621997,  0.84808589])"
      ]
     },
     "execution_count": 216,
     "metadata": {},
     "output_type": "execute_result"
    }
   ],
   "source": [
    "scores"
   ]
  },
  {
   "cell_type": "code",
   "execution_count": 217,
   "metadata": {},
   "outputs": [
    {
     "data": {
      "text/plain": [
       "0.83923655268025033"
      ]
     },
     "execution_count": 217,
     "metadata": {},
     "output_type": "execute_result"
    }
   ],
   "source": [
    "np.mean(scores)"
   ]
  },
  {
   "cell_type": "code",
   "execution_count": 218,
   "metadata": {
    "collapsed": true
   },
   "outputs": [],
   "source": [
    "#Yeah okay so the problem is somewhere in the training data...  If I have time... I think it might be better to only\n",
    "#train on certain years, because they might be more predictive of 2010.\n",
    "\n",
    "#Or maybe there's a patch of the data with some crazy outliers... not sure..."
   ]
  },
  {
   "cell_type": "code",
   "execution_count": 219,
   "metadata": {},
   "outputs": [
    {
     "data": {
      "text/plain": [
       "2009    336\n",
       "2007    328\n",
       "2006    312\n",
       "2008    302\n",
       "2010    172\n",
       "Name: YrSold, dtype: int64"
      ]
     },
     "execution_count": 219,
     "metadata": {},
     "output_type": "execute_result"
    }
   ],
   "source": [
    "df[\"YrSold\"].value_counts()"
   ]
  },
  {
   "cell_type": "code",
   "execution_count": 220,
   "metadata": {
    "collapsed": true
   },
   "outputs": [],
   "source": [
    "#I'm not sure where to look.  It could be outliers in any of these 99 kept columns.  Seems like a lot to look through.\n",
    "# Although a lot of them are probably dummies so maybe not."
   ]
  },
  {
   "cell_type": "markdown",
   "metadata": {},
   "source": [
    "<img src=\"http://imgur.com/l5NasQj.png\" style=\"float: left; margin: 25px 15px 0px 0px; height: 25px\">\n",
    "\n",
    "## 2. Determine any value of *changeable* property characteristics unexplained by the *fixed* ones.\n",
    "\n",
    "---\n",
    "\n",
    "Now that you have a model that estimates the price of a house based on its static characteristics, we can move forward with part 2 and 3 of the plan: what are the costs/benefits of quality, condition, and renovations?\n",
    "\n",
    "There are two specific requirements for these estimates:\n",
    "1. The estimates of effects must be in terms of dollars added or subtracted from the house value. \n",
    "2. The effects must be on the variance in price remaining from the first model.\n",
    "\n",
    "The residuals from the first model (training and testing) represent the variance in price unexplained by the fixed characteristics. Of that variance in price remaining, how much of it can be explained by the easy-to-change aspects of the property?\n",
    "\n",
    "---\n",
    "\n",
    "**Your goals:**\n",
    "1. Evaluate the effect in dollars of the renovate-able features. \n",
    "- How would your company use this second model and its coefficients to determine whether they should buy a property or not? Explain how the company can use the two models you have built to determine if they can make money. \n",
    "- Investigate how much of the variance in price remaining is explained by these features.\n",
    "- Do you trust your model? Should it be used to evaluate which properties to buy and fix up?"
   ]
  },
  {
   "cell_type": "code",
   "execution_count": 221,
   "metadata": {
    "collapsed": true
   },
   "outputs": [],
   "source": [
    "#The above model is for both and could probably just be split down the middle to be for fixed and unfixed.\n",
    "\n",
    "#But yeah it definitely has some issues.  I may go back and improve it. I've only used Lasso for now because\n",
    "# it isn't about the model right now.  There's a serious issue I'm not sure the cause of that is preventing me\n",
    "#from being somewhere around 88-89%, and it isn't about GridSearching, because that will return a marginally better\n",
    "#result. The deeper problem, whatever it is, is the issue.  Garbage in garbage out, basically, lol."
   ]
  },
  {
   "cell_type": "code",
   "execution_count": 222,
   "metadata": {
    "collapsed": true
   },
   "outputs": [],
   "source": [
    "#Anyways, I feel like I fundamentally disagree with the project.. (having seen Stefan Conrady's lecture) and I've\n",
    "#been thinking about it more again.\n",
    "\n",
    "#it doesn't even have to do with whether or not ice cream is genuinely related to shark attacks.\n",
    "\n",
    "#It has more to do with the idea that we have so many features that have colinearity that we cannot be sure our\n",
    "#coefficients even mean anything. if you have y = 0.7*vorf + 0.3*smaun and that predicts at like 0.75, and then you\n",
    "#have 0.1*vorf + 6*smaun and that predicts at like 0.76, you don't know anything.  You just have the ability to\n",
    "#predict fairly well, but the coefficients don't mean much."
   ]
  },
  {
   "cell_type": "code",
   "execution_count": 223,
   "metadata": {
    "collapsed": true
   },
   "outputs": [],
   "source": [
    "#I kinda wanna try it with a simplified example:"
   ]
  },
  {
   "cell_type": "code",
   "execution_count": 224,
   "metadata": {},
   "outputs": [
    {
     "name": "stdout",
     "output_type": "stream",
     "text": [
      "8\n",
      "8\n",
      "8\n",
      "8\n"
     ]
    },
    {
     "data": {
      "text/plain": [
       "[84, 11, 65, 25, 65, 32, 100, 38]"
      ]
     },
     "execution_count": 224,
     "metadata": {},
     "output_type": "execute_result"
    }
   ],
   "source": [
    "a = [1,2,3,4,5,6,7,8]\n",
    "b = [2,5,8,11,14,17,20,23]\n",
    "c = [11,2,4,8,16,7,23,5]\n",
    "d = [70,2,50,2,30,2,50,2]\n",
    "answers = []\n",
    "\n",
    "print(len(a))\n",
    "print(len(b))\n",
    "print(len(c))\n",
    "print(len(d))\n",
    "\n",
    "#print(np.mean(a))\n",
    "#print(np.mean(b))\n",
    "#print(np.mean(c))\n",
    "#print(np.mean(d))\n",
    "\n",
    "answers = []\n",
    "for i in range(8):\n",
    "    answers.append(a[i]+b[i]+c[i]+d[i])\n",
    "answers"
   ]
  },
  {
   "cell_type": "code",
   "execution_count": 225,
   "metadata": {
    "collapsed": true
   },
   "outputs": [],
   "source": [
    "#Okay so in this case, the perfect predictor is //      y = 1a+1b+1c+1d         //"
   ]
  },
  {
   "cell_type": "code",
   "execution_count": 226,
   "metadata": {
    "collapsed": true
   },
   "outputs": [],
   "source": [
    "#Here are some close alternatives:"
   ]
  },
  {
   "cell_type": "code",
   "execution_count": 227,
   "metadata": {},
   "outputs": [
    {
     "data": {
      "text/plain": [
       "0.10865000000000036"
      ]
     },
     "execution_count": 227,
     "metadata": {},
     "output_type": "execute_result"
    }
   ],
   "source": [
    "predict2 = []\n",
    "for i in range(8):\n",
    "    predict2.append((2*a[i])+(0.5*b[i])+(0.8*c[i])+(1.2*d[i]))\n",
    "predict2\n",
    "\n",
    "#Mean Absolute Error\n",
    "\n",
    "differences2 = []\n",
    "for i in range(8):\n",
    "    differences2.append(abs(answers[i]-predict2[i]))\n",
    "#np.mean(differences2)\n",
    "\n",
    "#MAE 4.25\n",
    "\n",
    "#=========\n",
    "\n",
    "#So here's an identical result where we drop b entirely:\n",
    "\n",
    "predict3 = []\n",
    "for i in range(8):\n",
    "    predict3.append((3*a[i])+(0*b[i])+(2*c[i])+(0.8655*d[i]))\n",
    "predict3\n",
    "\n",
    "differences3 = []\n",
    "for i in range(8):\n",
    "    differences3.append(abs(answers[i]-predict3[i]))\n",
    "np.mean(differences3)\n",
    "\n",
    "#MAE 4.25\n",
    "\n",
    "#So these are two models that predict identically well, and in one, b is pretty important, and in another,\n",
    "#you can just drop b.\n",
    "\n",
    "#I know this is a trivial example where it's obvious that the answer is the sum, but you know what I mean.\n",
    "\n",
    "#And just to clear up the idea that it's because we're off, right:\n",
    "\n",
    "predict4 = []\n",
    "for i in range(8):\n",
    "    #1.36\n",
    "    predict4.append((0*a[i])+(1.3534*b[i])+(1.001*c[i])+(1.003*d[i]))\n",
    "\n",
    "differences4 = []\n",
    "for i in range(8):\n",
    "    differences4.append(abs(answers[i]-predict4[i]))\n",
    "np.mean(differences4)\n",
    "\n",
    "#Pretty close to perfect and no a."
   ]
  },
  {
   "cell_type": "code",
   "execution_count": null,
   "metadata": {
    "collapsed": true
   },
   "outputs": [],
   "source": [
    "##########################"
   ]
  },
  {
   "cell_type": "code",
   "execution_count": null,
   "metadata": {
    "collapsed": true
   },
   "outputs": [],
   "source": [
    "##########################"
   ]
  },
  {
   "cell_type": "code",
   "execution_count": null,
   "metadata": {
    "collapsed": true
   },
   "outputs": [],
   "source": [
    "##########################"
   ]
  },
  {
   "cell_type": "code",
   "execution_count": null,
   "metadata": {
    "collapsed": true
   },
   "outputs": [],
   "source": [
    "##########################"
   ]
  },
  {
   "cell_type": "code",
   "execution_count": null,
   "metadata": {
    "collapsed": true
   },
   "outputs": [],
   "source": [
    "#Alright so  I talked to Adam and I guess I'm just gonna do the regular way, but I don't trust the coefficients lol."
   ]
  },
  {
   "cell_type": "code",
   "execution_count": 249,
   "metadata": {},
   "outputs": [
    {
     "data": {
      "text/plain": [
       "['LotArea',\n",
       " 'OverallQual',\n",
       " 'OverallCond',\n",
       " 'YearBuilt',\n",
       " 'YearRemodAdd',\n",
       " 'MasVnrArea',\n",
       " 'BsmtFinSF1',\n",
       " 'TotalBsmtSF',\n",
       " 'GrLivArea',\n",
       " 'BsmtFullBath',\n",
       " 'FullBath',\n",
       " 'HalfBath',\n",
       " 'KitchenAbvGr',\n",
       " 'TotRmsAbvGrd',\n",
       " 'Fireplaces',\n",
       " 'GarageCars',\n",
       " 'WoodDeckSF',\n",
       " '3SsnPorch',\n",
       " 'ScreenPorch',\n",
       " 'MSSubClass_20',\n",
       " 'MSSubClass_30',\n",
       " 'MSSubClass_90',\n",
       " 'MSSubClass_160',\n",
       " 'MSZoning_FV',\n",
       " 'MSZoning_RM',\n",
       " 'LotShape_IR2',\n",
       " 'LotShape_IR3',\n",
       " 'LandContour_Bnk',\n",
       " 'LandContour_HLS',\n",
       " 'LotConfig_CulDSac',\n",
       " 'LotConfig_FR2',\n",
       " 'LotConfig_FR3',\n",
       " 'LandSlope_Mod',\n",
       " 'Neighborhood_BrkSide',\n",
       " 'Neighborhood_CollgCr',\n",
       " 'Neighborhood_Crawfor',\n",
       " 'Neighborhood_Edwards',\n",
       " 'Neighborhood_Mitchel',\n",
       " 'Neighborhood_NAmes',\n",
       " 'Neighborhood_NWAmes',\n",
       " 'Neighborhood_NoRidge',\n",
       " 'Neighborhood_NridgHt',\n",
       " 'Neighborhood_OldTown',\n",
       " 'Neighborhood_Somerst',\n",
       " 'Neighborhood_StoneBr',\n",
       " 'Neighborhood_Veenker',\n",
       " 'Condition1_Artery',\n",
       " 'Condition1_Feedr',\n",
       " 'Condition1_PosN',\n",
       " 'Condition1_RRAe',\n",
       " 'BldgType_Duplex',\n",
       " 'BldgType_Twnhs',\n",
       " 'BldgType_TwnhsE',\n",
       " 'RoofStyle_Hip',\n",
       " 'Exterior1st_BrkFace',\n",
       " 'Exterior1st_HdBoard',\n",
       " 'Exterior1st_ImStucc',\n",
       " 'Exterior1st_Stucco',\n",
       " 'Exterior2nd_ImStucc',\n",
       " 'Exterior2nd_Plywood',\n",
       " 'Exterior2nd_Stucco',\n",
       " 'Exterior2nd_Wd Shng',\n",
       " 'MasVnrType_BrkCmn',\n",
       " 'ExterQual_Ex',\n",
       " 'ExterQual_Gd',\n",
       " 'ExterCond_Ex',\n",
       " 'Foundation_Slab',\n",
       " 'BsmtQual_Ex',\n",
       " 'BsmtCond_Fa',\n",
       " 'BsmtExposure_Av',\n",
       " 'BsmtExposure_Gd',\n",
       " 'BsmtExposure_Mn',\n",
       " 'BsmtExposure_Unknown',\n",
       " 'BsmtFinType1_GLQ',\n",
       " 'BsmtFinType2_ALQ',\n",
       " 'BsmtFinType2_BLQ',\n",
       " 'HeatingQC_Gd',\n",
       " 'HeatingQC_TA',\n",
       " 'KitchenQual_Ex',\n",
       " 'KitchenQual_Gd',\n",
       " 'Functional_Maj1',\n",
       " 'Functional_Maj2',\n",
       " 'Functional_Min1',\n",
       " 'Functional_Min2',\n",
       " 'Functional_Sev',\n",
       " 'FireplaceQu_Ex',\n",
       " 'GarageType_2Types',\n",
       " 'GarageFinish_Fin',\n",
       " 'GarageQual_Ex',\n",
       " 'GarageQual_Fa',\n",
       " 'GarageCond_Fa',\n",
       " 'MoSold_5',\n",
       " 'MoSold_7',\n",
       " 'MoSold_8',\n",
       " 'MoSold_10',\n",
       " 'SaleType_Con',\n",
       " 'SaleType_New',\n",
       " 'SaleCondition_Abnorml',\n",
       " 'SaleCondition_Family']"
      ]
     },
     "execution_count": 249,
     "metadata": {},
     "output_type": "execute_result"
    }
   ],
   "source": [
    "#Keepers[67:76] if basement route\n",
    "#Keepers[78:80] kitchen\n",
    "Keepers"
   ]
  },
  {
   "cell_type": "code",
   "execution_count": 242,
   "metadata": {
    "collapsed": true
   },
   "outputs": [],
   "source": [
    "X_train_k = train[Keepers]\n",
    "y_train_k = train[\"SalePrice\"]\n",
    "#X_test_k = test[Keepers]\n",
    "#y_test_k = test[\"SalePrice\"]\n",
    "X_train_k = X_train_k.drop('KitchenQual_Ex',axis=1)\n",
    "X_train_k = X_train_k.drop('KitchenQual_Gd',axis=1)\n",
    "#Just gonna do it on pre-2010 stuff and crossval"
   ]
  },
  {
   "cell_type": "code",
   "execution_count": 243,
   "metadata": {
    "collapsed": true
   },
   "outputs": [],
   "source": [
    "Xs_train_k = ss.fit_transform(X_train_k)"
   ]
  },
  {
   "cell_type": "code",
   "execution_count": 244,
   "metadata": {},
   "outputs": [
    {
     "name": "stdout",
     "output_type": "stream",
     "text": [
      "287.775748379\n"
     ]
    }
   ],
   "source": [
    "optimal_lasso = LassoCV(n_alphas=200,cv=10)\n",
    "optimal_lasso.fit(Xs_train_k,y_train_k)\n",
    "\n",
    "print(optimal_lasso.alpha_)"
   ]
  },
  {
   "cell_type": "code",
   "execution_count": 245,
   "metadata": {
    "collapsed": true
   },
   "outputs": [],
   "source": [
    "lassoNoKitchen = Lasso(alpha=optimal_lasso.alpha_)"
   ]
  },
  {
   "cell_type": "code",
   "execution_count": 246,
   "metadata": {
    "collapsed": true
   },
   "outputs": [],
   "source": [
    "kf_shuffle = KFold(n_splits=10,shuffle=True,random_state=42)\n",
    "scores = cross_val_score(lassoNoKitchen, Xs_train_k, y_train_k, cv=kf_shuffle)"
   ]
  },
  {
   "cell_type": "code",
   "execution_count": 247,
   "metadata": {},
   "outputs": [
    {
     "name": "stdout",
     "output_type": "stream",
     "text": [
      "[ 0.91824463  0.86168257  0.89295182  0.88676667  0.82553928  0.79413503\n",
      "  0.59473567  0.84297542  0.87870153  0.84487761]\n"
     ]
    }
   ],
   "source": [
    "print(scores)"
   ]
  },
  {
   "cell_type": "code",
   "execution_count": 248,
   "metadata": {},
   "outputs": [
    {
     "name": "stdout",
     "output_type": "stream",
     "text": [
      "0.834061022065\n"
     ]
    }
   ],
   "source": [
    "print(np.mean(scores))"
   ]
  },
  {
   "cell_type": "code",
   "execution_count": null,
   "metadata": {
    "collapsed": true
   },
   "outputs": [],
   "source": [
    "#same random state, and only lost 0.005-ish for dropping the kitchen stuff.\n",
    "\n",
    "#I'm going to just drop everything remodelable and see if it's a noticeable difference."
   ]
  },
  {
   "cell_type": "code",
   "execution_count": 261,
   "metadata": {},
   "outputs": [
    {
     "data": {
      "text/plain": [
       "['BsmtQual_Ex',\n",
       " 'BsmtCond_Fa',\n",
       " 'BsmtExposure_Av',\n",
       " 'BsmtExposure_Gd',\n",
       " 'BsmtExposure_Mn',\n",
       " 'BsmtExposure_Unknown',\n",
       " 'BsmtFinType1_GLQ',\n",
       " 'BsmtFinType2_ALQ',\n",
       " 'BsmtFinType2_BLQ',\n",
       " 'HeatingQC_Gd',\n",
       " 'HeatingQC_TA',\n",
       " 'KitchenQual_Ex',\n",
       " 'KitchenQual_Gd',\n",
       " 'Functional_Maj1',\n",
       " 'Functional_Maj2',\n",
       " 'Functional_Min1',\n",
       " 'Functional_Min2',\n",
       " 'Functional_Sev',\n",
       " 'FireplaceQu_Ex',\n",
       " 'GarageType_2Types',\n",
       " 'GarageFinish_Fin',\n",
       " 'GarageQual_Ex',\n",
       " 'GarageQual_Fa',\n",
       " 'GarageCond_Fa']"
      ]
     },
     "execution_count": 261,
     "metadata": {},
     "output_type": "execute_result"
    }
   ],
   "source": [
    "Keepers[67:91]"
   ]
  },
  {
   "cell_type": "code",
   "execution_count": 262,
   "metadata": {},
   "outputs": [
    {
     "name": "stdout",
     "output_type": "stream",
     "text": [
      "['LotArea', 'OverallQual', 'OverallCond', 'YearBuilt', 'YearRemodAdd', 'MasVnrArea', 'BsmtFinSF1', 'TotalBsmtSF', 'GrLivArea', 'BsmtFullBath', 'FullBath', 'HalfBath', 'KitchenAbvGr', 'TotRmsAbvGrd', 'Fireplaces', 'GarageCars', 'WoodDeckSF', '3SsnPorch', 'ScreenPorch', 'MSSubClass_20', 'MSSubClass_30', 'MSSubClass_90', 'MSSubClass_160', 'MSZoning_FV', 'MSZoning_RM', 'LotShape_IR2', 'LotShape_IR3', 'LandContour_Bnk', 'LandContour_HLS', 'LotConfig_CulDSac', 'LotConfig_FR2', 'LotConfig_FR3', 'LandSlope_Mod', 'Neighborhood_BrkSide', 'Neighborhood_CollgCr', 'Neighborhood_Crawfor', 'Neighborhood_Edwards', 'Neighborhood_Mitchel', 'Neighborhood_NAmes', 'Neighborhood_NWAmes', 'Neighborhood_NoRidge', 'Neighborhood_NridgHt', 'Neighborhood_OldTown', 'Neighborhood_Somerst', 'Neighborhood_StoneBr', 'Neighborhood_Veenker', 'Condition1_Artery', 'Condition1_Feedr', 'Condition1_PosN', 'Condition1_RRAe', 'BldgType_Duplex', 'BldgType_Twnhs', 'BldgType_TwnhsE', 'RoofStyle_Hip', 'Exterior1st_BrkFace', 'Exterior1st_HdBoard', 'Exterior1st_ImStucc', 'Exterior1st_Stucco', 'Exterior2nd_ImStucc', 'Exterior2nd_Plywood', 'Exterior2nd_Stucco', 'Exterior2nd_Wd Shng', 'MasVnrType_BrkCmn', 'ExterQual_Ex', 'ExterQual_Gd', 'ExterCond_Ex', 'Foundation_Slab', 'MoSold_5', 'MoSold_7', 'MoSold_8', 'MoSold_10', 'SaleType_Con', 'SaleType_New', 'SaleCondition_Abnorml', 'SaleCondition_Family']\n"
     ]
    }
   ],
   "source": [
    "#Keepers[67:91]\n",
    "\n",
    "#So I'm removing basement, kitchen, electrical, fireplace, heating, and garage remodels.\n",
    "\n",
    "NoRenovations = Keepers[0:67] + Keepers[91:]\n",
    "\n",
    "print(NoRenovations)"
   ]
  },
  {
   "cell_type": "code",
   "execution_count": 264,
   "metadata": {},
   "outputs": [
    {
     "name": "stdout",
     "output_type": "stream",
     "text": [
      "379.889427476\n"
     ]
    }
   ],
   "source": [
    "X_train_nr = train[NoRenovations]\n",
    "y_train_nr = train[\"SalePrice\"]\n",
    "Xs_train_nr = ss.fit_transform(X_train_nr)\n",
    "optimal_lasso = LassoCV(n_alphas=200,cv=10)\n",
    "optimal_lasso.fit(Xs_train_nr,y_train_nr)\n",
    "print(optimal_lasso.alpha_)"
   ]
  },
  {
   "cell_type": "code",
   "execution_count": 265,
   "metadata": {
    "collapsed": true
   },
   "outputs": [],
   "source": [
    "lassoNoRenovations = Lasso(alpha=optimal_lasso.alpha_)"
   ]
  },
  {
   "cell_type": "code",
   "execution_count": 266,
   "metadata": {
    "collapsed": true
   },
   "outputs": [],
   "source": [
    "kf_shuffle = KFold(n_splits=10,shuffle=True,random_state=42)\n",
    "scores = cross_val_score(lassoNoRenovations, Xs_train_nr, y_train_nr, cv=kf_shuffle)"
   ]
  },
  {
   "cell_type": "code",
   "execution_count": 267,
   "metadata": {},
   "outputs": [
    {
     "name": "stdout",
     "output_type": "stream",
     "text": [
      "[ 0.91124988  0.83962094  0.88872264  0.89402572  0.81798717  0.77858818\n",
      "  0.55997862  0.8213368   0.88638323  0.819999  ]\n",
      "0.82178921877\n"
     ]
    }
   ],
   "source": [
    "print(scores)\n",
    "print(np.mean(scores))"
   ]
  },
  {
   "cell_type": "code",
   "execution_count": 268,
   "metadata": {},
   "outputs": [
    {
     "name": "stdout",
     "output_type": "stream",
     "text": [
      "0.0174473339103\n"
     ]
    }
   ],
   "source": [
    "#Nearly no difference.\n",
    "RsquaredAll = 0.83923655268025033\n",
    "RsquaredNoReno = 0.82178921877\n",
    "\n",
    "print(RsquaredAll-RsquaredNoReno)\n",
    "\n",
    "#If the task was merely to predict house prices, the model would be alright.\n",
    "\n",
    "#For this, we need our coefficients to be meaningful, and there are just so many that it's hard.\n",
    "\n",
    "# What would be better, also, for predicting what a renovation would do for your home value, is a data set\n",
    "# containing information on peoples' homes before and after renovations, how the price changed, what the renovation\n",
    "# was.\n",
    "\n",
    "#In this dataset we don't even have the cost of the renovations, the cost of anything really.  Only the price the\n",
    "#house sold for.\n",
    "\n",
    "#I'm going to try and collect all my thoughts and find a way to present these ideas."
   ]
  },
  {
   "cell_type": "markdown",
   "metadata": {},
   "source": [
    "\n",
    "##### <img src=\"http://imgur.com/GCAf1UX.png\" style=\"float: left; margin: 25px 15px 0px 0px; height: 25px\">\n",
    "\n",
    "## 3. What property characteristics predict an \"abnormal\" sale?\n",
    "\n",
    "---\n",
    "\n",
    "The `SaleCondition` feature indicates the circumstances of the house sale. From the data file, we can see that the possibilities are:\n",
    "\n",
    "       Normal\tNormal Sale\n",
    "       Abnorml\tAbnormal Sale -  trade, foreclosure, short sale\n",
    "       AdjLand\tAdjoining Land Purchase\n",
    "       Alloca\tAllocation - two linked properties with separate deeds, typically condo with a garage unit\t\n",
    "       Family\tSale between family members\n",
    "       Partial\tHome was not completed when last assessed (associated with New Homes)\n",
    "       \n",
    "One of the executives at your company has an \"in\" with higher-ups at the major regional bank. His friends at the bank have made him a proposal: if he can reliably indicate what features, if any, predict \"abnormal\" sales (foreclosures, short sales, etc.), then in return the bank will give him first dibs on the pre-auction purchase of those properties (at a dirt-cheap price).\n",
    "\n",
    "He has tasked you with determining (and adequately validating) which features of a property predict this type of sale. \n",
    "\n",
    "---\n",
    "\n",
    "**Your task:**\n",
    "1. Determine which features predict the `Abnorml` category in the `SaleCondition` feature.\n",
    "- Justify your results.\n",
    "\n",
    "This is a challenging task that tests your ability to perform classification analysis in the face of severe class imbalance. You may find that simply running a classifier on the full dataset to predict the category ends up useless: when there is bad class imbalance classifiers often tend to simply guess the majority class.\n",
    "\n",
    "It is up to you to determine how you will tackle this problem. I recommend doing some research to find out how others have dealt with the problem in the past. Make sure to justify your solution. Don't worry about it being \"the best\" solution, but be rigorous.\n",
    "\n",
    "Be sure to indicate which features are predictive (if any) and whether they are positive or negative predictors of abnormal sales."
   ]
  },
  {
   "cell_type": "code",
   "execution_count": 228,
   "metadata": {
    "collapsed": true
   },
   "outputs": [],
   "source": [
    "#did not get to this o_o."
   ]
  }
 ],
 "metadata": {
  "kernelspec": {
   "display_name": "Python 2",
   "language": "python",
   "name": "python2"
  },
  "language_info": {
   "codemirror_mode": {
    "name": "ipython",
    "version": 2
   },
   "file_extension": ".py",
   "mimetype": "text/x-python",
   "name": "python",
   "nbconvert_exporter": "python",
   "pygments_lexer": "ipython2",
   "version": "2.7.13"
  }
 },
 "nbformat": 4,
 "nbformat_minor": 2
}
